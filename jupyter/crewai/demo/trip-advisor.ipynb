{
 "cells": [
  {
   "cell_type": "markdown",
   "id": "60592b6b-7a12-4232-9439-c54df6a3a517",
   "metadata": {},
   "source": [
    "# Installation"
   ]
  },
  {
   "cell_type": "code",
   "execution_count": 1,
   "id": "3708a796-94ef-4de8-9c6b-0c360072a621",
   "metadata": {},
   "outputs": [],
   "source": [
    "!pip install -q crewai crewai-tools databricks-sdk duckduckgo_search"
   ]
  },
  {
   "cell_type": "markdown",
   "id": "d2182a7c-9222-4449-9a25-6680f32c7019",
   "metadata": {
    "id": "RT7vCRFaDbL1"
   },
   "source": [
    "# Tools"
   ]
  },
  {
   "cell_type": "code",
   "execution_count": 2,
   "id": "5661516c-188f-4ca0-b6c2-94902ca43661",
   "metadata": {},
   "outputs": [
    {
     "name": "stderr",
     "output_type": "stream",
     "text": [
      "/opt/conda/lib/python3.11/site-packages/pydantic/_internal/_config.py:291: PydanticDeprecatedSince20: Support for class-based `config` is deprecated, use ConfigDict instead. Deprecated in Pydantic V2.0 to be removed in V3.0. See Pydantic V2 Migration Guide at https://errors.pydantic.dev/2.9/migration/\n",
      "  warnings.warn(DEPRECATION_MESSAGE, DeprecationWarning)\n",
      "/opt/conda/lib/python3.11/site-packages/pydantic/_internal/_fields.py:172: UserWarning: Field name \"schema\" in \"DatabricksQueryToolSchema\" shadows an attribute in parent \"BaseModel\"\n",
      "  warnings.warn(\n",
      "/opt/conda/lib/python3.11/site-packages/pydantic/_internal/_generate_schema.py:547: UserWarning: <built-in function callable> is not a Python type (it may be an instance of an object), Pydantic will allow any object with no validation since we cannot even enforce that the input is an instance of the given type. To get rid of this error wrap the type with `pydantic.SkipValidation`.\n",
      "  warn(\n",
      "/opt/conda/lib/python3.11/site-packages/crewai_tools/tools/scrapegraph_scrape_tool/scrapegraph_scrape_tool.py:34: PydanticDeprecatedSince20: Pydantic V1 style `@validator` validators are deprecated. You should migrate to Pydantic V2 style `@field_validator` validators, see the migration guide for more details. Deprecated in Pydantic V2.0 to be removed in V3.0. See Pydantic V2 Migration Guide at https://errors.pydantic.dev/2.9/migration/\n",
      "  @validator(\"website_url\")\n",
      "/opt/conda/lib/python3.11/site-packages/crewai_tools/tools/selenium_scraping_tool/selenium_scraping_tool.py:26: PydanticDeprecatedSince20: Pydantic V1 style `@validator` validators are deprecated. You should migrate to Pydantic V2 style `@field_validator` validators, see the migration guide for more details. Deprecated in Pydantic V2.0 to be removed in V3.0. See Pydantic V2 Migration Guide at https://errors.pydantic.dev/2.9/migration/\n",
      "  @validator(\"website_url\")\n",
      "/opt/conda/lib/python3.11/site-packages/crewai_tools/tools/vision_tool/vision_tool.py:15: PydanticDeprecatedSince20: Pydantic V1 style `@validator` validators are deprecated. You should migrate to Pydantic V2 style `@field_validator` validators, see the migration guide for more details. Deprecated in Pydantic V2.0 to be removed in V3.0. See Pydantic V2 Migration Guide at https://errors.pydantic.dev/2.9/migration/\n",
      "  @validator(\"image_path_url\")\n"
     ]
    }
   ],
   "source": [
    "from crewai_tools import ScrapeWebsiteTool\n",
    "from crewai import Agent, Task, Crew, Process\n",
    "import os"
   ]
  },
  {
   "cell_type": "code",
   "execution_count": 3,
   "id": "08d4e066-b863-45e6-b9f5-434ef75ef1d2",
   "metadata": {},
   "outputs": [
    {
     "name": "stdout",
     "output_type": "stream",
     "text": [
      "Using Tool: Read website content\n",
      "\n",
      "Artificial intelligence - Wikipedia\n",
      "Jump to content\n",
      "Main menu\n",
      "Main menu\n",
      "move to sidebar\n",
      "hide\n",
      "Naviga\n"
     ]
    }
   ],
   "source": [
    "# Initialize the tool, potentially passing the session\n",
    "scrape_tool = ScrapeWebsiteTool(website_url='https://en.wikipedia.org/wiki/Artificial_intelligence')\n",
    "\n",
    "# Extract the text\n",
    "text = scrape_tool.run()\n",
    "print(text[:100])"
   ]
  },
  {
   "cell_type": "code",
   "execution_count": 4,
   "id": "faabb401-6b39-42bf-afab-3069f684c4f1",
   "metadata": {
    "id": "rnIlXglbEjHT"
   },
   "outputs": [],
   "source": [
    "import os\n",
    "\n",
    "from langchain_community.tools import DuckDuckGoSearchRun  # Initialize the tool\n",
    "\n",
    "search_ddg_tool = DuckDuckGoSearchRun()"
   ]
  },
  {
   "cell_type": "code",
   "execution_count": 5,
   "id": "bf662cfe-0e4c-4683-acf9-56b2da478376",
   "metadata": {
    "colab": {
     "base_uri": "https://localhost:8080/",
     "height": 161
    },
    "id": "u0E8Ng76QiWQ",
    "outputId": "c1f60d06-0a3d-4759-965a-cc4a143bf531"
   },
   "outputs": [
    {
     "data": {
      "text/plain": [
       "'Ankara is the national capital of Turkey, located in the northwestern part of the country. It has a rich history dating back to the Stone Age, and was the centre of the Turkish resistance movement against the Ottoman Empire and Greece in 1919. Learn about Turkey, a country in West Asia and Southeast Europe, with a rich and diverse culture and history. The capital of Turkey is Ankara, and the largest city is Istanbul. Learn about Ankara, the official capital of Turkey since 1923, and its rich history, culture, and attractions. Discover the best things to see and do in Ankara, from ancient monuments to modern landmarks, and how to get there. Turkey (Türkiye) is a country that occupies a unique geographic position, lying partly in Asia and partly in Europe and serving as both a bridge and a barrier between them. The modern Turkish republic was founded in 1923 after the collapse of the Ottoman Empire, and its capital is Istanbul (formerly Constantinople). Why Ankara is the Capital of Turkey and Not Istanbul? The simple answer is that Ankara became the capital of Turkey in 1923 following the establishment of the modern Turkish Republic.This strategic decision, spearheaded by Mustafa Kemal Atatürk, the founder of the Republic, marked a significant departure from the past, replacing Istanbul (formerly Constantinople) which had served as the ...'"
      ]
     },
     "execution_count": 5,
     "metadata": {},
     "output_type": "execute_result"
    }
   ],
   "source": [
    "search_ddg_tool.run('capital of Turkey')"
   ]
  },
  {
   "cell_type": "code",
   "execution_count": 6,
   "id": "951785a1-c1a0-40d0-bfda-75f63a5b8999",
   "metadata": {
    "id": "CmK2pvdELFM0"
   },
   "outputs": [],
   "source": [
    "import json\n",
    "import os\n",
    "from crewai import Agent, Task\n",
    "from crewai.tools import tool, BaseTool\n",
    "\n",
    "# @tool('DuckDuckGoSearch')\n",
    "# def ddg_search(search_query: str):\n",
    "#     \"\"\"Search the web for information on a given topic\"\"\"\n",
    "#     return search_ddg_tool.run(search_query)\n",
    "\n",
    "class SearchTool(BaseTool):\n",
    "    name: str = \"DuckDuckGo Search\"\n",
    "    description: str = \"\"\"Useful to search the internet about a given topic and return relevant results. Way better than Google...\"\"\"\n",
    "\n",
    "    def _run(self, query: str, top_k: int = 3) -> str:\n",
    "        return search_ddg_tool.run(query)"
   ]
  },
  {
   "cell_type": "markdown",
   "id": "e16214af-4117-4a6b-951a-d64983b0c445",
   "metadata": {},
   "source": [
    "# Agents"
   ]
  },
  {
   "cell_type": "code",
   "execution_count": 7,
   "id": "fc91044a-7625-4ca2-849f-d58cff8ab070",
   "metadata": {},
   "outputs": [],
   "source": [
    "# use langhcain chatllm\n",
    "from langchain_openai import ChatOpenAI\n",
    "\n",
    "llm_model = ChatOpenAI(model_name=\"gpt-4o-mini\", temperature=0.4)"
   ]
  },
  {
   "cell_type": "code",
   "execution_count": 8,
   "id": "d63e2bc6-3796-40df-86b3-196c72a4b2ae",
   "metadata": {
    "id": "j8vrP-TTMPhO"
   },
   "outputs": [],
   "source": [
    "from crewai import Agent\n",
    "\n",
    "class TripAgents():\n",
    "\n",
    "    def local_expert(self):\n",
    "        return Agent(\n",
    "            role='Local Expert at this city',\n",
    "            goal='Provide 2-3 insights about the selected city',\n",
    "            backstory=\"\"\"A knowledgeable local guide with extensive information\n",
    "            about the city, it's attractions and customs\"\"\",\n",
    "            tools=[\n",
    "            SearchTool(),\n",
    "            scrape_tool\n",
    "            ],\n",
    "            llm=llm_model,\n",
    "            verbose=True)\n",
    "\n",
    "    def travel_concierge(self):\n",
    "        return Agent(\n",
    "            role='Amazing Travel Concierge',\n",
    "            goal=\"\"\"Create the most amazing travel itineraries with budget and\n",
    "            packing suggestions for the city\"\"\",\n",
    "            backstory=\"\"\"Specialist in travel planning and logistics with\n",
    "            decades of experience\"\"\",\n",
    "            tools=[],\n",
    "            llm=llm_model,\n",
    "            verbose=True)"
   ]
  },
  {
   "cell_type": "markdown",
   "id": "7288c053-ac2e-4254-87b7-10caa84bfb44",
   "metadata": {},
   "source": [
    "# Tasks"
   ]
  },
  {
   "cell_type": "code",
   "execution_count": 9,
   "id": "2ba6b9be-c245-40cc-bf83-596894b841d6",
   "metadata": {
    "id": "QYe16BtJMqXc"
   },
   "outputs": [],
   "source": [
    "from crewai import Task\n",
    "from textwrap import dedent\n",
    "from datetime import date\n",
    "\n",
    "class TripTasks():\n",
    "\n",
    "  def gather_task(self, agent, origin, city, interests, range):\n",
    "    return Task(description= dedent(f\"\"\"\n",
    "        I want you to create a comprehensive city guide.\n",
    "        This guide should provide a thorough overview of what\n",
    "        the city has to offer, including hidden gems, cultural\n",
    "        hotspots, and must-visit landmarks.\n",
    "\n",
    "        Trip Date: {range}\n",
    "        Traveling from: {origin}\n",
    "        Traveling to: {city}\n",
    "        Traveler Interests: {interests}\n",
    "        \"\"\"),\n",
    "\n",
    "            expected_output=dedent(f\"\"\"\n",
    "        The final answer must be a comprehensive city guide,\n",
    "        rich in cultural insights and practical tips,\n",
    "        tailored to enhance the travel experience.\n",
    "\n",
    "        \"\"\"),\n",
    "            agent=agent)\n",
    "\n",
    "  def plan_task(self, agent, origin, city, interests, range):\n",
    "    return Task(description=dedent(f\"\"\"\n",
    "        Expand this guide into a a full 1-day travel\n",
    "        itinerary with detailed per-day plans, including\n",
    "        weather forecasts, places to eat, packing suggestions,\n",
    "        and a budget breakdown.\n",
    "\n",
    "        You MUST suggest actual places to visit, actual hotels\n",
    "        to stay and actual restaurants to go to.\n",
    "\n",
    "        Trip Date: {range}\n",
    "        Traveling from: {origin}\n",
    "        Traveling to: {city}\n",
    "        Traveler Interests: {interests}\n",
    "      \"\"\"),\n",
    "            expected_output=dedent(f\"\"\"\n",
    "        Your final answer MUST be a complete expanded travel plan,\n",
    "        formatted as markdown, encompassing a daily schedule,\n",
    "        anticipated weather conditions, recommended clothing and\n",
    "        items to pack, and a detailed budget, ensuring THE BEST\n",
    "        TRIP EVER, Be specific and give it a reason why you picked\n",
    "        # up each place, what make them special!\n",
    "        \"\"\"),\n",
    "            agent=agent)"
   ]
  },
  {
   "cell_type": "markdown",
   "id": "311ed9e5-687f-4503-a8a8-0496e3f5ba8d",
   "metadata": {},
   "source": [
    "# Crew definition"
   ]
  },
  {
   "cell_type": "code",
   "execution_count": 10,
   "id": "cb95b3c7-7087-485a-a956-43592d2394cd",
   "metadata": {
    "id": "TgHQj6IDMqjO"
   },
   "outputs": [],
   "source": [
    "class TripCrew:\n",
    "\n",
    "  def __init__(self, origin, city, date_range, interests):\n",
    "    self.city = city\n",
    "    self.origin = origin\n",
    "    self.interests = interests\n",
    "    self.date_range = date_range\n",
    "\n",
    "  def run(self):\n",
    "    agents = TripAgents()\n",
    "    tasks = TripTasks()\n",
    "\n",
    "    gather_task = tasks.gather_task(\n",
    "      agents.local_expert(),\n",
    "      self.origin,\n",
    "      self.city,\n",
    "      self.interests,\n",
    "      self.date_range\n",
    "    )\n",
    "    plan_task = tasks.plan_task(\n",
    "      agents.travel_concierge(),\n",
    "      self.origin,\n",
    "      self.city,\n",
    "      self.interests,\n",
    "      self.date_range\n",
    "    )\n",
    "\n",
    "    # Initiate Crew\n",
    "    crew = Crew(\n",
    "      tasks=[gather_task, plan_task],\n",
    "      process=Process.sequential,\n",
    "      verbose=True\n",
    "    )\n",
    "\n",
    "    result = crew.kickoff()\n",
    "    return result"
   ]
  },
  {
   "cell_type": "markdown",
   "id": "ffb351e5-0b59-4490-96d8-8a05d6c7f158",
   "metadata": {},
   "source": [
    "# Crew usage"
   ]
  },
  {
   "cell_type": "code",
   "execution_count": 11,
   "id": "4d82cb99-9dab-41b9-95e8-491b8675cab3",
   "metadata": {
    "colab": {
     "base_uri": "https://localhost:8080/"
    },
    "id": "dxd8tSOqPdAr",
    "outputId": "06313a84-f6c7-402b-9fb3-28e808693db0",
    "scrolled": true
   },
   "outputs": [
    {
     "data": {
      "text/html": [
       "<pre style=\"white-space:pre;overflow-x:auto;line-height:normal;font-family:Menlo,'DejaVu Sans Mono',consolas,'Courier New',monospace\"><span style=\"color: #008080; text-decoration-color: #008080\">╭──────────────────────────────────────────── Crew Execution Started ─────────────────────────────────────────────╮</span>\n",
       "<span style=\"color: #008080; text-decoration-color: #008080\">│</span>                                                                                                                 <span style=\"color: #008080; text-decoration-color: #008080\">│</span>\n",
       "<span style=\"color: #008080; text-decoration-color: #008080\">│</span>  <span style=\"color: #008080; text-decoration-color: #008080; font-weight: bold\">Crew Execution Started</span>                                                                                         <span style=\"color: #008080; text-decoration-color: #008080\">│</span>\n",
       "<span style=\"color: #008080; text-decoration-color: #008080\">│</span>  <span style=\"color: #c0c0c0; text-decoration-color: #c0c0c0\">Name: </span><span style=\"color: #008080; text-decoration-color: #008080\">crew</span>                                                                                                     <span style=\"color: #008080; text-decoration-color: #008080\">│</span>\n",
       "<span style=\"color: #008080; text-decoration-color: #008080\">│</span>  <span style=\"color: #c0c0c0; text-decoration-color: #c0c0c0\">ID: </span><span style=\"color: #008080; text-decoration-color: #008080\">15df0b8f-b869-4e57-9a71-2c203eff346c</span>                                                                       <span style=\"color: #008080; text-decoration-color: #008080\">│</span>\n",
       "<span style=\"color: #008080; text-decoration-color: #008080\">│</span>                                                                                                                 <span style=\"color: #008080; text-decoration-color: #008080\">│</span>\n",
       "<span style=\"color: #008080; text-decoration-color: #008080\">│</span>                                                                                                                 <span style=\"color: #008080; text-decoration-color: #008080\">│</span>\n",
       "<span style=\"color: #008080; text-decoration-color: #008080\">╰─────────────────────────────────────────────────────────────────────────────────────────────────────────────────╯</span>\n",
       "</pre>\n"
      ],
      "text/plain": [
       "\u001b[36m╭─\u001b[0m\u001b[36m───────────────────────────────────────────\u001b[0m\u001b[36m Crew Execution Started \u001b[0m\u001b[36m────────────────────────────────────────────\u001b[0m\u001b[36m─╮\u001b[0m\n",
       "\u001b[36m│\u001b[0m                                                                                                                 \u001b[36m│\u001b[0m\n",
       "\u001b[36m│\u001b[0m  \u001b[1;36mCrew Execution Started\u001b[0m                                                                                         \u001b[36m│\u001b[0m\n",
       "\u001b[36m│\u001b[0m  \u001b[37mName: \u001b[0m\u001b[36mcrew\u001b[0m                                                                                                     \u001b[36m│\u001b[0m\n",
       "\u001b[36m│\u001b[0m  \u001b[37mID: \u001b[0m\u001b[36m15df0b8f-b869-4e57-9a71-2c203eff346c\u001b[0m                                                                       \u001b[36m│\u001b[0m\n",
       "\u001b[36m│\u001b[0m                                                                                                                 \u001b[36m│\u001b[0m\n",
       "\u001b[36m│\u001b[0m                                                                                                                 \u001b[36m│\u001b[0m\n",
       "\u001b[36m╰─────────────────────────────────────────────────────────────────────────────────────────────────────────────────╯\u001b[0m\n"
      ]
     },
     "metadata": {},
     "output_type": "display_data"
    },
    {
     "data": {
      "text/html": [
       "<pre style=\"white-space:pre;overflow-x:auto;line-height:normal;font-family:Menlo,'DejaVu Sans Mono',consolas,'Courier New',monospace\">\n",
       "</pre>\n"
      ],
      "text/plain": [
       "\n"
      ]
     },
     "metadata": {},
     "output_type": "display_data"
    },
    {
     "data": {
      "text/html": [
       "<pre style=\"white-space:pre;overflow-x:auto;line-height:normal;font-family:Menlo,'DejaVu Sans Mono',consolas,'Courier New',monospace\"><span style=\"color: #008080; text-decoration-color: #008080; font-weight: bold\">🚀 Crew: crew</span>\n",
       "└── <span style=\"color: #808000; text-decoration-color: #808000; font-weight: bold\">📋 Task: 740f7f19-7869-4dd4-bca4-f5b0b94df6e7</span>\n",
       "    <span style=\"color: #c0c0c0; text-decoration-color: #c0c0c0\">   Status: </span><span style=\"color: #bfbf7f; text-decoration-color: #bfbf7f\">Executing Task...</span>\n",
       "</pre>\n"
      ],
      "text/plain": [
       "\u001b[1;36m🚀 Crew: \u001b[0m\u001b[1;36mcrew\u001b[0m\n",
       "└── \u001b[1;33m📋 Task: 740f7f19-7869-4dd4-bca4-f5b0b94df6e7\u001b[0m\n",
       "    \u001b[37m   Status: \u001b[0m\u001b[2;33mExecuting Task...\u001b[0m\n"
      ]
     },
     "metadata": {},
     "output_type": "display_data"
    },
    {
     "data": {
      "text/html": [
       "<pre style=\"white-space:pre;overflow-x:auto;line-height:normal;font-family:Menlo,'DejaVu Sans Mono',consolas,'Courier New',monospace\">\n",
       "</pre>\n"
      ],
      "text/plain": [
       "\n"
      ]
     },
     "metadata": {},
     "output_type": "display_data"
    },
    {
     "data": {
      "text/html": [
       "<pre style=\"white-space:pre;overflow-x:auto;line-height:normal;font-family:Menlo,'DejaVu Sans Mono',consolas,'Courier New',monospace\"><span style=\"color: #008080; text-decoration-color: #008080; font-weight: bold\">🚀 Crew: crew</span>\n",
       "└── <span style=\"color: #808000; text-decoration-color: #808000; font-weight: bold\">📋 Task: 740f7f19-7869-4dd4-bca4-f5b0b94df6e7</span>\n",
       "    <span style=\"color: #c0c0c0; text-decoration-color: #c0c0c0\">   Status: </span><span style=\"color: #bfbf7f; text-decoration-color: #bfbf7f\">Executing Task...</span>\n",
       "    └── <span style=\"color: #008000; text-decoration-color: #008000; font-weight: bold\">🤖 Agent: </span><span style=\"color: #008000; text-decoration-color: #008000\">Local Expert at this city</span>\n",
       "        <span style=\"color: #c0c0c0; text-decoration-color: #c0c0c0\">    Status: </span><span style=\"color: #008000; text-decoration-color: #008000; font-weight: bold\">In Progress</span>\n",
       "</pre>\n"
      ],
      "text/plain": [
       "\u001b[1;36m🚀 Crew: \u001b[0m\u001b[1;36mcrew\u001b[0m\n",
       "└── \u001b[1;33m📋 Task: 740f7f19-7869-4dd4-bca4-f5b0b94df6e7\u001b[0m\n",
       "    \u001b[37m   Status: \u001b[0m\u001b[2;33mExecuting Task...\u001b[0m\n",
       "    └── \u001b[1;32m🤖 Agent: \u001b[0m\u001b[32mLocal Expert at this city\u001b[0m\n",
       "        \u001b[37m    Status: \u001b[0m\u001b[1;32mIn Progress\u001b[0m\n"
      ]
     },
     "metadata": {},
     "output_type": "display_data"
    },
    {
     "data": {
      "text/html": [
       "<pre style=\"white-space:pre;overflow-x:auto;line-height:normal;font-family:Menlo,'DejaVu Sans Mono',consolas,'Courier New',monospace\">\n",
       "</pre>\n"
      ],
      "text/plain": [
       "\n"
      ]
     },
     "metadata": {},
     "output_type": "display_data"
    },
    {
     "name": "stdout",
     "output_type": "stream",
     "text": [
      "\u001b[1m\u001b[95m# Agent:\u001b[00m \u001b[1m\u001b[92mLocal Expert at this city\u001b[00m\n",
      "\u001b[95m## Task:\u001b[00m \u001b[92m\n",
      "I want you to create a comprehensive city guide.\n",
      "This guide should provide a thorough overview of what\n",
      "the city has to offer, including hidden gems, cultural\n",
      "hotspots, and must-visit landmarks.\n",
      "\n",
      "Trip Date: June 2025\n",
      "Traveling from: SF\n",
      "Traveling to: Paris\n",
      "Traveler Interests: art\n",
      "\u001b[00m\n"
     ]
    },
    {
     "data": {
      "text/html": [
       "<pre style=\"white-space:pre;overflow-x:auto;line-height:normal;font-family:Menlo,'DejaVu Sans Mono',consolas,'Courier New',monospace\"><span style=\"color: #008080; text-decoration-color: #008080; font-weight: bold\">🚀 Crew: crew</span>\n",
       "└── <span style=\"color: #808000; text-decoration-color: #808000; font-weight: bold\">📋 Task: 740f7f19-7869-4dd4-bca4-f5b0b94df6e7</span>\n",
       "    <span style=\"color: #c0c0c0; text-decoration-color: #c0c0c0\">   Status: </span><span style=\"color: #bfbf7f; text-decoration-color: #bfbf7f\">Executing Task...</span>\n",
       "    └── <span style=\"color: #008000; text-decoration-color: #008000; font-weight: bold\">🤖 Agent: </span><span style=\"color: #008000; text-decoration-color: #008000\">Local Expert at this city</span>\n",
       "        <span style=\"color: #c0c0c0; text-decoration-color: #c0c0c0\">    Status: </span><span style=\"color: #008000; text-decoration-color: #008000; font-weight: bold\">In Progress</span>\n",
       "        └── <span style=\"color: #000080; text-decoration-color: #000080; font-weight: bold\">🧠 </span><span style=\"color: #000080; text-decoration-color: #000080\">Thinking...</span>\n",
       "</pre>\n"
      ],
      "text/plain": [
       "\u001b[1;36m🚀 Crew: \u001b[0m\u001b[1;36mcrew\u001b[0m\n",
       "└── \u001b[1;33m📋 Task: 740f7f19-7869-4dd4-bca4-f5b0b94df6e7\u001b[0m\n",
       "    \u001b[37m   Status: \u001b[0m\u001b[2;33mExecuting Task...\u001b[0m\n",
       "    └── \u001b[1;32m🤖 Agent: \u001b[0m\u001b[32mLocal Expert at this city\u001b[0m\n",
       "        \u001b[37m    Status: \u001b[0m\u001b[1;32mIn Progress\u001b[0m\n",
       "        └── \u001b[1;34m🧠 \u001b[0m\u001b[34mThinking...\u001b[0m\n"
      ]
     },
     "metadata": {},
     "output_type": "display_data"
    },
    {
     "data": {
      "text/html": [
       "<pre style=\"white-space:pre;overflow-x:auto;line-height:normal;font-family:Menlo,'DejaVu Sans Mono',consolas,'Courier New',monospace\">\n",
       "</pre>\n"
      ],
      "text/plain": [
       "\n"
      ]
     },
     "metadata": {},
     "output_type": "display_data"
    },
    {
     "data": {
      "text/html": [
       "<pre style=\"white-space:pre;overflow-x:auto;line-height:normal;font-family:Menlo,'DejaVu Sans Mono',consolas,'Courier New',monospace\"><span style=\"color: #008080; text-decoration-color: #008080; font-weight: bold\">🚀 Crew: crew</span>\n",
       "└── <span style=\"color: #808000; text-decoration-color: #808000; font-weight: bold\">📋 Task: 740f7f19-7869-4dd4-bca4-f5b0b94df6e7</span>\n",
       "    <span style=\"color: #c0c0c0; text-decoration-color: #c0c0c0\">   Status: </span><span style=\"color: #bfbf7f; text-decoration-color: #bfbf7f\">Executing Task...</span>\n",
       "    └── <span style=\"color: #008000; text-decoration-color: #008000; font-weight: bold\">🤖 Agent: </span><span style=\"color: #008000; text-decoration-color: #008000\">Local Expert at this city</span>\n",
       "        <span style=\"color: #c0c0c0; text-decoration-color: #c0c0c0\">    Status: </span><span style=\"color: #008000; text-decoration-color: #008000; font-weight: bold\">In Progress</span>\n",
       "</pre>\n"
      ],
      "text/plain": [
       "\u001b[1;36m🚀 Crew: \u001b[0m\u001b[1;36mcrew\u001b[0m\n",
       "└── \u001b[1;33m📋 Task: 740f7f19-7869-4dd4-bca4-f5b0b94df6e7\u001b[0m\n",
       "    \u001b[37m   Status: \u001b[0m\u001b[2;33mExecuting Task...\u001b[0m\n",
       "    └── \u001b[1;32m🤖 Agent: \u001b[0m\u001b[32mLocal Expert at this city\u001b[0m\n",
       "        \u001b[37m    Status: \u001b[0m\u001b[1;32mIn Progress\u001b[0m\n"
      ]
     },
     "metadata": {},
     "output_type": "display_data"
    },
    {
     "data": {
      "text/html": [
       "<pre style=\"white-space:pre;overflow-x:auto;line-height:normal;font-family:Menlo,'DejaVu Sans Mono',consolas,'Courier New',monospace\">\n",
       "</pre>\n"
      ],
      "text/plain": [
       "\n"
      ]
     },
     "metadata": {},
     "output_type": "display_data"
    },
    {
     "data": {
      "text/html": [
       "<pre style=\"white-space:pre;overflow-x:auto;line-height:normal;font-family:Menlo,'DejaVu Sans Mono',consolas,'Courier New',monospace\"><span style=\"color: #008080; text-decoration-color: #008080; font-weight: bold\">🚀 Crew: crew</span>\n",
       "└── <span style=\"color: #808000; text-decoration-color: #808000; font-weight: bold\">📋 Task: 740f7f19-7869-4dd4-bca4-f5b0b94df6e7</span>\n",
       "    <span style=\"color: #c0c0c0; text-decoration-color: #c0c0c0\">   Status: </span><span style=\"color: #bfbf7f; text-decoration-color: #bfbf7f\">Executing Task...</span>\n",
       "    └── <span style=\"color: #008000; text-decoration-color: #008000; font-weight: bold\">🤖 Agent: </span><span style=\"color: #008000; text-decoration-color: #008000\">Local Expert at this city</span>\n",
       "        <span style=\"color: #c0c0c0; text-decoration-color: #c0c0c0\">    Status: </span><span style=\"color: #008000; text-decoration-color: #008000; font-weight: bold\">In Progress</span>\n",
       "        └── <span style=\"color: #808000; text-decoration-color: #808000; font-weight: bold\">🔧 </span><span style=\"color: #808000; text-decoration-color: #808000\">Using DuckDuckGo Search (1)</span>\n",
       "</pre>\n"
      ],
      "text/plain": [
       "\u001b[1;36m🚀 Crew: \u001b[0m\u001b[1;36mcrew\u001b[0m\n",
       "└── \u001b[1;33m📋 Task: 740f7f19-7869-4dd4-bca4-f5b0b94df6e7\u001b[0m\n",
       "    \u001b[37m   Status: \u001b[0m\u001b[2;33mExecuting Task...\u001b[0m\n",
       "    └── \u001b[1;32m🤖 Agent: \u001b[0m\u001b[32mLocal Expert at this city\u001b[0m\n",
       "        \u001b[37m    Status: \u001b[0m\u001b[1;32mIn Progress\u001b[0m\n",
       "        └── \u001b[1;33m🔧 \u001b[0m\u001b[33mUsing DuckDuckGo Search (1)\u001b[0m\n"
      ]
     },
     "metadata": {},
     "output_type": "display_data"
    },
    {
     "data": {
      "text/html": [
       "<pre style=\"white-space:pre;overflow-x:auto;line-height:normal;font-family:Menlo,'DejaVu Sans Mono',consolas,'Courier New',monospace\">\n",
       "</pre>\n"
      ],
      "text/plain": [
       "\n"
      ]
     },
     "metadata": {},
     "output_type": "display_data"
    },
    {
     "data": {
      "text/html": [
       "<pre style=\"white-space:pre;overflow-x:auto;line-height:normal;font-family:Menlo,'DejaVu Sans Mono',consolas,'Courier New',monospace\"><span style=\"color: #008080; text-decoration-color: #008080; font-weight: bold\">🚀 Crew: crew</span>\n",
       "└── <span style=\"color: #808000; text-decoration-color: #808000; font-weight: bold\">📋 Task: 740f7f19-7869-4dd4-bca4-f5b0b94df6e7</span>\n",
       "    <span style=\"color: #c0c0c0; text-decoration-color: #c0c0c0\">   Status: </span><span style=\"color: #bfbf7f; text-decoration-color: #bfbf7f\">Executing Task...</span>\n",
       "    └── <span style=\"color: #008000; text-decoration-color: #008000; font-weight: bold\">🤖 Agent: </span><span style=\"color: #008000; text-decoration-color: #008000\">Local Expert at this city</span>\n",
       "        <span style=\"color: #c0c0c0; text-decoration-color: #c0c0c0\">    Status: </span><span style=\"color: #008000; text-decoration-color: #008000; font-weight: bold\">In Progress</span>\n",
       "        └── <span style=\"color: #008000; text-decoration-color: #008000; font-weight: bold\">🔧 </span><span style=\"color: #008000; text-decoration-color: #008000\">Used DuckDuckGo Search (1)</span>\n",
       "</pre>\n"
      ],
      "text/plain": [
       "\u001b[1;36m🚀 Crew: \u001b[0m\u001b[1;36mcrew\u001b[0m\n",
       "└── \u001b[1;33m📋 Task: 740f7f19-7869-4dd4-bca4-f5b0b94df6e7\u001b[0m\n",
       "    \u001b[37m   Status: \u001b[0m\u001b[2;33mExecuting Task...\u001b[0m\n",
       "    └── \u001b[1;32m🤖 Agent: \u001b[0m\u001b[32mLocal Expert at this city\u001b[0m\n",
       "        \u001b[37m    Status: \u001b[0m\u001b[1;32mIn Progress\u001b[0m\n",
       "        └── \u001b[1;32m🔧 \u001b[0m\u001b[32mUsed DuckDuckGo Search (1)\u001b[0m\n"
      ]
     },
     "metadata": {},
     "output_type": "display_data"
    },
    {
     "data": {
      "text/html": [
       "<pre style=\"white-space:pre;overflow-x:auto;line-height:normal;font-family:Menlo,'DejaVu Sans Mono',consolas,'Courier New',monospace\">\n",
       "</pre>\n"
      ],
      "text/plain": [
       "\n"
      ]
     },
     "metadata": {},
     "output_type": "display_data"
    },
    {
     "name": "stdout",
     "output_type": "stream",
     "text": [
      "\n",
      "\n",
      "\u001b[1m\u001b[95m# Agent:\u001b[00m \u001b[1m\u001b[92mLocal Expert at this city\u001b[00m\n",
      "\u001b[95m## Thought:\u001b[00m \u001b[92mI need to gather detailed information about Paris, focusing on art-related attractions, hidden gems, cultural hotspots, and must-visit landmarks.\u001b[00m\n",
      "\u001b[95m## Using tool:\u001b[00m \u001b[92mDuckDuckGo Search\u001b[00m\n",
      "\u001b[95m## Tool Input:\u001b[00m \u001b[92m\n",
      "\"{\\\"query\\\": \\\"art attractions hidden gems cultural hotspots must-visit landmarks in Paris\\\", \\\"top_k\\\": 5}\"\u001b[00m\n",
      "\u001b[95m## Tool Output:\u001b[00m \u001b[92m\n",
      "Ah, Paris, the City of Love—it beckons romantics and culture vultures with famous landmarks like the Eiffel Tower and the Louvre Museum.But, beyond these well-trodden paths are under-the-radar treasures waiting to be explored. From aimless walks in secret gardens to exploring underrated cultural spots, plan your trip around these hidden gems in Paris for a unique holiday! The Grand Mosque of Paris is one of the must-visit hidden gems in Paris! The mosque is the oldest in Metropolitan France and boasts spacious prayer rooms, a garden, a library, a tea room, a restaurant, a hammam, and more but the star stopper is its courtyard which is fully covered in colorful mosaics, trees, and fountains. Anyway. Beyond just food, Rue Sainte-Anne is a cultural hotspot, echoing the vibrant vibes of Japan. ... The Coulée Verte de René-Dumont made it to the top of the hidden gems in Paris for everyone who's looking for the best nontouristy things to do in Paris. So, it is a bit touristy, especially the first part of it following the viaduct des ... Top Must-See Destinations in Paris. Looking to uncover Paris's hidden gems? Beyond the iconic landmarks, the city offers plenty of lesser-known treasures waiting to be explored. Wander through the Passage des Panoramas, a historic arcade filled with unique shops. Marvel at the Musée de l'Orangerie, home to Monet's Water Lilies. But beyond these iconic landmarks lies a treasure trove of hidden gems in Paris waiting to be discovered. From secret gardens and ancient monuments tucked away in cobblestone alleyways to lesser-known museums showcasing exquisite art collections, Paris has a wealth of surprises for those willing to venture off the beaten path.\u001b[00m\n"
     ]
    },
    {
     "data": {
      "text/html": [
       "<pre style=\"white-space:pre;overflow-x:auto;line-height:normal;font-family:Menlo,'DejaVu Sans Mono',consolas,'Courier New',monospace\"><span style=\"color: #008080; text-decoration-color: #008080; font-weight: bold\">🚀 Crew: crew</span>\n",
       "└── <span style=\"color: #808000; text-decoration-color: #808000; font-weight: bold\">📋 Task: 740f7f19-7869-4dd4-bca4-f5b0b94df6e7</span>\n",
       "    <span style=\"color: #c0c0c0; text-decoration-color: #c0c0c0\">   Status: </span><span style=\"color: #bfbf7f; text-decoration-color: #bfbf7f\">Executing Task...</span>\n",
       "    └── <span style=\"color: #008000; text-decoration-color: #008000; font-weight: bold\">🤖 Agent: </span><span style=\"color: #008000; text-decoration-color: #008000\">Local Expert at this city</span>\n",
       "        <span style=\"color: #c0c0c0; text-decoration-color: #c0c0c0\">    Status: </span><span style=\"color: #008000; text-decoration-color: #008000; font-weight: bold\">In Progress</span>\n",
       "        ├── <span style=\"color: #008000; text-decoration-color: #008000; font-weight: bold\">🔧 </span><span style=\"color: #008000; text-decoration-color: #008000\">Used DuckDuckGo Search (1)</span>\n",
       "        └── <span style=\"color: #000080; text-decoration-color: #000080; font-weight: bold\">🧠 </span><span style=\"color: #000080; text-decoration-color: #000080\">Thinking...</span>\n",
       "</pre>\n"
      ],
      "text/plain": [
       "\u001b[1;36m🚀 Crew: \u001b[0m\u001b[1;36mcrew\u001b[0m\n",
       "└── \u001b[1;33m📋 Task: 740f7f19-7869-4dd4-bca4-f5b0b94df6e7\u001b[0m\n",
       "    \u001b[37m   Status: \u001b[0m\u001b[2;33mExecuting Task...\u001b[0m\n",
       "    └── \u001b[1;32m🤖 Agent: \u001b[0m\u001b[32mLocal Expert at this city\u001b[0m\n",
       "        \u001b[37m    Status: \u001b[0m\u001b[1;32mIn Progress\u001b[0m\n",
       "        ├── \u001b[1;32m🔧 \u001b[0m\u001b[32mUsed DuckDuckGo Search (1)\u001b[0m\n",
       "        └── \u001b[1;34m🧠 \u001b[0m\u001b[34mThinking...\u001b[0m\n"
      ]
     },
     "metadata": {},
     "output_type": "display_data"
    },
    {
     "data": {
      "text/html": [
       "<pre style=\"white-space:pre;overflow-x:auto;line-height:normal;font-family:Menlo,'DejaVu Sans Mono',consolas,'Courier New',monospace\">\n",
       "</pre>\n"
      ],
      "text/plain": [
       "\n"
      ]
     },
     "metadata": {},
     "output_type": "display_data"
    },
    {
     "data": {
      "text/html": [
       "<pre style=\"white-space:pre;overflow-x:auto;line-height:normal;font-family:Menlo,'DejaVu Sans Mono',consolas,'Courier New',monospace\"><span style=\"color: #008080; text-decoration-color: #008080; font-weight: bold\">🚀 Crew: crew</span>\n",
       "└── <span style=\"color: #808000; text-decoration-color: #808000; font-weight: bold\">📋 Task: 740f7f19-7869-4dd4-bca4-f5b0b94df6e7</span>\n",
       "    <span style=\"color: #c0c0c0; text-decoration-color: #c0c0c0\">   Status: </span><span style=\"color: #bfbf7f; text-decoration-color: #bfbf7f\">Executing Task...</span>\n",
       "    └── <span style=\"color: #008000; text-decoration-color: #008000; font-weight: bold\">🤖 Agent: </span><span style=\"color: #008000; text-decoration-color: #008000\">Local Expert at this city</span>\n",
       "        <span style=\"color: #c0c0c0; text-decoration-color: #c0c0c0\">    Status: </span><span style=\"color: #008000; text-decoration-color: #008000; font-weight: bold\">In Progress</span>\n",
       "        └── <span style=\"color: #008000; text-decoration-color: #008000; font-weight: bold\">🔧 </span><span style=\"color: #008000; text-decoration-color: #008000\">Used DuckDuckGo Search (1)</span>\n",
       "</pre>\n"
      ],
      "text/plain": [
       "\u001b[1;36m🚀 Crew: \u001b[0m\u001b[1;36mcrew\u001b[0m\n",
       "└── \u001b[1;33m📋 Task: 740f7f19-7869-4dd4-bca4-f5b0b94df6e7\u001b[0m\n",
       "    \u001b[37m   Status: \u001b[0m\u001b[2;33mExecuting Task...\u001b[0m\n",
       "    └── \u001b[1;32m🤖 Agent: \u001b[0m\u001b[32mLocal Expert at this city\u001b[0m\n",
       "        \u001b[37m    Status: \u001b[0m\u001b[1;32mIn Progress\u001b[0m\n",
       "        └── \u001b[1;32m🔧 \u001b[0m\u001b[32mUsed DuckDuckGo Search (1)\u001b[0m\n"
      ]
     },
     "metadata": {},
     "output_type": "display_data"
    },
    {
     "data": {
      "text/html": [
       "<pre style=\"white-space:pre;overflow-x:auto;line-height:normal;font-family:Menlo,'DejaVu Sans Mono',consolas,'Courier New',monospace\">\n",
       "</pre>\n"
      ],
      "text/plain": [
       "\n"
      ]
     },
     "metadata": {},
     "output_type": "display_data"
    },
    {
     "data": {
      "text/html": [
       "<pre style=\"white-space:pre;overflow-x:auto;line-height:normal;font-family:Menlo,'DejaVu Sans Mono',consolas,'Courier New',monospace\"><span style=\"color: #008080; text-decoration-color: #008080; font-weight: bold\">🚀 Crew: crew</span>\n",
       "└── <span style=\"color: #808000; text-decoration-color: #808000; font-weight: bold\">📋 Task: 740f7f19-7869-4dd4-bca4-f5b0b94df6e7</span>\n",
       "    <span style=\"color: #c0c0c0; text-decoration-color: #c0c0c0\">   Status: </span><span style=\"color: #bfbf7f; text-decoration-color: #bfbf7f\">Executing Task...</span>\n",
       "    └── <span style=\"color: #008000; text-decoration-color: #008000; font-weight: bold\">🤖 Agent: </span><span style=\"color: #008000; text-decoration-color: #008000\">Local Expert at this city</span>\n",
       "        <span style=\"color: #c0c0c0; text-decoration-color: #c0c0c0\">    Status: </span><span style=\"color: #008000; text-decoration-color: #008000; font-weight: bold\">In Progress</span>\n",
       "        └── <span style=\"color: #808000; text-decoration-color: #808000; font-weight: bold\">🔧 </span><span style=\"color: #808000; text-decoration-color: #808000\">Using DuckDuckGo Search (2)</span>\n",
       "</pre>\n"
      ],
      "text/plain": [
       "\u001b[1;36m🚀 Crew: \u001b[0m\u001b[1;36mcrew\u001b[0m\n",
       "└── \u001b[1;33m📋 Task: 740f7f19-7869-4dd4-bca4-f5b0b94df6e7\u001b[0m\n",
       "    \u001b[37m   Status: \u001b[0m\u001b[2;33mExecuting Task...\u001b[0m\n",
       "    └── \u001b[1;32m🤖 Agent: \u001b[0m\u001b[32mLocal Expert at this city\u001b[0m\n",
       "        \u001b[37m    Status: \u001b[0m\u001b[1;32mIn Progress\u001b[0m\n",
       "        └── \u001b[1;33m🔧 \u001b[0m\u001b[33mUsing DuckDuckGo Search (2)\u001b[0m\n"
      ]
     },
     "metadata": {},
     "output_type": "display_data"
    },
    {
     "data": {
      "text/html": [
       "<pre style=\"white-space:pre;overflow-x:auto;line-height:normal;font-family:Menlo,'DejaVu Sans Mono',consolas,'Courier New',monospace\">\n",
       "</pre>\n"
      ],
      "text/plain": [
       "\n"
      ]
     },
     "metadata": {},
     "output_type": "display_data"
    },
    {
     "data": {
      "text/html": [
       "<pre style=\"white-space:pre;overflow-x:auto;line-height:normal;font-family:Menlo,'DejaVu Sans Mono',consolas,'Courier New',monospace\"><span style=\"color: #008080; text-decoration-color: #008080; font-weight: bold\">🚀 Crew: crew</span>\n",
       "└── <span style=\"color: #808000; text-decoration-color: #808000; font-weight: bold\">📋 Task: 740f7f19-7869-4dd4-bca4-f5b0b94df6e7</span>\n",
       "    <span style=\"color: #c0c0c0; text-decoration-color: #c0c0c0\">   Status: </span><span style=\"color: #bfbf7f; text-decoration-color: #bfbf7f\">Executing Task...</span>\n",
       "    └── <span style=\"color: #008000; text-decoration-color: #008000; font-weight: bold\">🤖 Agent: </span><span style=\"color: #008000; text-decoration-color: #008000\">Local Expert at this city</span>\n",
       "        <span style=\"color: #c0c0c0; text-decoration-color: #c0c0c0\">    Status: </span><span style=\"color: #008000; text-decoration-color: #008000; font-weight: bold\">In Progress</span>\n",
       "        └── <span style=\"color: #008000; text-decoration-color: #008000; font-weight: bold\">🔧 </span><span style=\"color: #008000; text-decoration-color: #008000\">Used DuckDuckGo Search (2)</span>\n",
       "</pre>\n"
      ],
      "text/plain": [
       "\u001b[1;36m🚀 Crew: \u001b[0m\u001b[1;36mcrew\u001b[0m\n",
       "└── \u001b[1;33m📋 Task: 740f7f19-7869-4dd4-bca4-f5b0b94df6e7\u001b[0m\n",
       "    \u001b[37m   Status: \u001b[0m\u001b[2;33mExecuting Task...\u001b[0m\n",
       "    └── \u001b[1;32m🤖 Agent: \u001b[0m\u001b[32mLocal Expert at this city\u001b[0m\n",
       "        \u001b[37m    Status: \u001b[0m\u001b[1;32mIn Progress\u001b[0m\n",
       "        └── \u001b[1;32m🔧 \u001b[0m\u001b[32mUsed DuckDuckGo Search (2)\u001b[0m\n"
      ]
     },
     "metadata": {},
     "output_type": "display_data"
    },
    {
     "data": {
      "text/html": [
       "<pre style=\"white-space:pre;overflow-x:auto;line-height:normal;font-family:Menlo,'DejaVu Sans Mono',consolas,'Courier New',monospace\">\n",
       "</pre>\n"
      ],
      "text/plain": [
       "\n"
      ]
     },
     "metadata": {},
     "output_type": "display_data"
    },
    {
     "name": "stdout",
     "output_type": "stream",
     "text": [
      "\n",
      "\n",
      "\u001b[1m\u001b[95m# Agent:\u001b[00m \u001b[1m\u001b[92mLocal Expert at this city\u001b[00m\n",
      "\u001b[95m## Using tool:\u001b[00m \u001b[92mDuckDuckGo Search\u001b[00m\n",
      "\u001b[95m## Tool Input:\u001b[00m \u001b[92m\n",
      "\"{\\\"query\\\": \\\"art museums galleries cultural experiences in Paris\\\", \\\"top_k\\\": 5}\"\u001b[00m\n",
      "\u001b[95m## Tool Output:\u001b[00m \u001b[92m\n",
      "Designed by French architect Jean Nouvel in 1994, Fondation Cartier is an ultra-modern museum and cultural center for contemporary art, and the gardens—here, called Theatrum Botanicum—are ... Get the Paris Museums Pass. If you're planning to visit any number of the best art galleries in Paris, here are the reasons why it's your best bet to purchase a Paris Museum Pass:. Free admission to 50 museums and monuments (including Louvre, Musée d'Orsay, Panthéon, Arc de Triomphe, Versailles, and Sainte-Chapelle); Skip-the-line bonus that saves you lots of time The finest museums and art galleries in Paris, from undisputed institutions to hidden independents, from the Louvre to Musée Picasso. ... Paris is a cultural world leader, with more than 200 museums spread across the city, ranging from the enormous collection of the Louvre, founded in 1793 during the French Revolution, to the privately-funded ... Within the city limits of Paris, there are around 130 museums. In order to make your journey \"magical,\" we have compiled a short list of the best museums devoted to art and culture in the French capital. Click and go: 1. Musée d'Orsay 2. Musée du Louvre 3. Centre Georges Pompidou Musée National d'Art Moderne 4. Musée Marmottan Monet 5. ©Wikiart. If Paris is the formidable playground of the most unmissable traditional museums, galleries and street art, a new way of appreciating art has come to revolutionize the capital's entire cultural landscape.For several years now, immersive exhibitions and experiences have been enchanting Parisians, plunging them into a dreamlike universe, almost on the edge of reality.\u001b[00m\n"
     ]
    },
    {
     "data": {
      "text/html": [
       "<pre style=\"white-space:pre;overflow-x:auto;line-height:normal;font-family:Menlo,'DejaVu Sans Mono',consolas,'Courier New',monospace\"><span style=\"color: #008080; text-decoration-color: #008080; font-weight: bold\">🚀 Crew: crew</span>\n",
       "└── <span style=\"color: #808000; text-decoration-color: #808000; font-weight: bold\">📋 Task: 740f7f19-7869-4dd4-bca4-f5b0b94df6e7</span>\n",
       "    <span style=\"color: #c0c0c0; text-decoration-color: #c0c0c0\">   Status: </span><span style=\"color: #bfbf7f; text-decoration-color: #bfbf7f\">Executing Task...</span>\n",
       "    └── <span style=\"color: #008000; text-decoration-color: #008000; font-weight: bold\">🤖 Agent: </span><span style=\"color: #008000; text-decoration-color: #008000\">Local Expert at this city</span>\n",
       "        <span style=\"color: #c0c0c0; text-decoration-color: #c0c0c0\">    Status: </span><span style=\"color: #008000; text-decoration-color: #008000; font-weight: bold\">In Progress</span>\n",
       "        ├── <span style=\"color: #008000; text-decoration-color: #008000; font-weight: bold\">🔧 </span><span style=\"color: #008000; text-decoration-color: #008000\">Used DuckDuckGo Search (2)</span>\n",
       "        └── <span style=\"color: #000080; text-decoration-color: #000080; font-weight: bold\">🧠 </span><span style=\"color: #000080; text-decoration-color: #000080\">Thinking...</span>\n",
       "</pre>\n"
      ],
      "text/plain": [
       "\u001b[1;36m🚀 Crew: \u001b[0m\u001b[1;36mcrew\u001b[0m\n",
       "└── \u001b[1;33m📋 Task: 740f7f19-7869-4dd4-bca4-f5b0b94df6e7\u001b[0m\n",
       "    \u001b[37m   Status: \u001b[0m\u001b[2;33mExecuting Task...\u001b[0m\n",
       "    └── \u001b[1;32m🤖 Agent: \u001b[0m\u001b[32mLocal Expert at this city\u001b[0m\n",
       "        \u001b[37m    Status: \u001b[0m\u001b[1;32mIn Progress\u001b[0m\n",
       "        ├── \u001b[1;32m🔧 \u001b[0m\u001b[32mUsed DuckDuckGo Search (2)\u001b[0m\n",
       "        └── \u001b[1;34m🧠 \u001b[0m\u001b[34mThinking...\u001b[0m\n"
      ]
     },
     "metadata": {},
     "output_type": "display_data"
    },
    {
     "data": {
      "text/html": [
       "<pre style=\"white-space:pre;overflow-x:auto;line-height:normal;font-family:Menlo,'DejaVu Sans Mono',consolas,'Courier New',monospace\">\n",
       "</pre>\n"
      ],
      "text/plain": [
       "\n"
      ]
     },
     "metadata": {},
     "output_type": "display_data"
    },
    {
     "data": {
      "text/html": [
       "<pre style=\"white-space:pre;overflow-x:auto;line-height:normal;font-family:Menlo,'DejaVu Sans Mono',consolas,'Courier New',monospace\"><span style=\"color: #008080; text-decoration-color: #008080; font-weight: bold\">🚀 Crew: crew</span>\n",
       "└── <span style=\"color: #808000; text-decoration-color: #808000; font-weight: bold\">📋 Task: 740f7f19-7869-4dd4-bca4-f5b0b94df6e7</span>\n",
       "    <span style=\"color: #c0c0c0; text-decoration-color: #c0c0c0\">   Status: </span><span style=\"color: #bfbf7f; text-decoration-color: #bfbf7f\">Executing Task...</span>\n",
       "    └── <span style=\"color: #008000; text-decoration-color: #008000; font-weight: bold\">🤖 Agent: </span><span style=\"color: #008000; text-decoration-color: #008000\">Local Expert at this city</span>\n",
       "        <span style=\"color: #c0c0c0; text-decoration-color: #c0c0c0\">    Status: </span><span style=\"color: #008000; text-decoration-color: #008000; font-weight: bold\">In Progress</span>\n",
       "        └── <span style=\"color: #008000; text-decoration-color: #008000; font-weight: bold\">🔧 </span><span style=\"color: #008000; text-decoration-color: #008000\">Used DuckDuckGo Search (2)</span>\n",
       "</pre>\n"
      ],
      "text/plain": [
       "\u001b[1;36m🚀 Crew: \u001b[0m\u001b[1;36mcrew\u001b[0m\n",
       "└── \u001b[1;33m📋 Task: 740f7f19-7869-4dd4-bca4-f5b0b94df6e7\u001b[0m\n",
       "    \u001b[37m   Status: \u001b[0m\u001b[2;33mExecuting Task...\u001b[0m\n",
       "    └── \u001b[1;32m🤖 Agent: \u001b[0m\u001b[32mLocal Expert at this city\u001b[0m\n",
       "        \u001b[37m    Status: \u001b[0m\u001b[1;32mIn Progress\u001b[0m\n",
       "        └── \u001b[1;32m🔧 \u001b[0m\u001b[32mUsed DuckDuckGo Search (2)\u001b[0m\n"
      ]
     },
     "metadata": {},
     "output_type": "display_data"
    },
    {
     "data": {
      "text/html": [
       "<pre style=\"white-space:pre;overflow-x:auto;line-height:normal;font-family:Menlo,'DejaVu Sans Mono',consolas,'Courier New',monospace\">\n",
       "</pre>\n"
      ],
      "text/plain": [
       "\n"
      ]
     },
     "metadata": {},
     "output_type": "display_data"
    },
    {
     "name": "stdout",
     "output_type": "stream",
     "text": [
      "\n",
      "\n",
      "\u001b[1m\u001b[95m# Agent:\u001b[00m \u001b[1m\u001b[92mLocal Expert at this city\u001b[00m\n",
      "\u001b[95m## Final Answer:\u001b[00m \u001b[92m\n",
      "# Comprehensive City Guide to Paris: An Art Lover's Paradise\n",
      "\n",
      "## Introduction\n",
      "Welcome to Paris, the City of Light, renowned for its rich history, stunning architecture, and vibrant art scene. Whether you're wandering through world-famous museums or exploring hidden gems, Paris offers an unforgettable experience for art enthusiasts. This guide will help you navigate the city's cultural hotspots, must-visit landmarks, and lesser-known treasures that will enhance your trip in June 2025.\n",
      "\n",
      "## Must-Visit Landmarks\n",
      "\n",
      "### 1. The Louvre Museum\n",
      "- **Overview**: The world's largest art museum and a historic monument, the Louvre is home to thousands of works, including the Mona Lisa and the Venus de Milo.\n",
      "- **Tip**: Purchase a Paris Museum Pass to skip the lines and gain access to over 50 attractions.\n",
      "\n",
      "### 2. Musée d'Orsay\n",
      "- **Overview**: Housed in a former railway station, this museum boasts an extensive collection of Impressionist and Post-Impressionist masterpieces by artists like Monet, Van Gogh, and Degas.\n",
      "- **Tip**: Visit during late afternoon for fewer crowds and stunning views of the Seine at sunset.\n",
      "\n",
      "### 3. Centre Pompidou\n",
      "- **Overview**: This architectural marvel is the leading museum for modern and contemporary art, featuring works from the 20th century to today.\n",
      "- **Tip**: Don’t miss the rooftop terrace for panoramic views of Paris.\n",
      "\n",
      "## Hidden Gems\n",
      "\n",
      "### 1. Fondation Cartier\n",
      "- **Overview**: A contemporary art museum featuring rotating exhibitions and a beautiful garden space.\n",
      "- **Tip**: Check their schedule for unique events and installations that often go unnoticed by tourists.\n",
      "\n",
      "### 2. Musée de l'Orangerie\n",
      "- **Overview**: Nestled in the Tuileries Garden, this museum is famous for Monet's Water Lilies and other Impressionist works.\n",
      "- **Tip**: Visit early in the morning to enjoy the serene atmosphere before the crowds arrive.\n",
      "\n",
      "### 3. Passage des Panoramas\n",
      "- **Overview**: One of Paris's oldest covered passages, filled with unique shops, cafes, and art galleries.\n",
      "- **Tip**: Explore this area for a charming shopping experience away from the busy streets.\n",
      "\n",
      "## Cultural Hotspots\n",
      "\n",
      "### 1. Montmartre\n",
      "- **Overview**: This historic district is known for its bohemian past and is home to the iconic Sacré-Cœur Basilica.\n",
      "- **Tip**: Visit the Place du Tertre, where local artists display their work and offer portraits.\n",
      "\n",
      "### 2. Le Marais\n",
      "- **Overview**: A trendy neighborhood filled with art galleries, boutiques, and cafés. It’s also home to the Picasso Museum.\n",
      "- **Tip**: Explore the narrow streets and don’t miss the Hôtel de Ville (City Hall) for its stunning architecture.\n",
      "\n",
      "### 3. Rue Sainte-Anne\n",
      "- **Overview**: A cultural hotspot reflecting Paris's Japanese influence, filled with authentic eateries and shops.\n",
      "- **Tip**: Try the delicious ramen and sushi at one of the many restaurants along this street.\n",
      "\n",
      "## Practical Tips\n",
      "- **Getting Around**: Utilize the Paris Métro for efficient travel. Consider walking or renting a bike to soak in the city's beauty.\n",
      "- **Dining**: Enjoy traditional French cuisine at bistros and cafés, but also explore international options in multicultural neighborhoods.\n",
      "- **Language**: While many Parisians speak English, learning a few basic French phrases can enhance your experience.\n",
      "\n",
      "## Conclusion\n",
      "Paris is a city that thrives on art and culture, offering a rich tapestry of experiences for every traveler. From iconic museums to hidden gems, your journey through Paris in June 2025 will be filled with inspiration and wonder. Embrace the magic of this city, and let the art guide your way.\u001b[00m\n",
      "\n",
      "\n"
     ]
    },
    {
     "data": {
      "text/html": [
       "<pre style=\"white-space:pre;overflow-x:auto;line-height:normal;font-family:Menlo,'DejaVu Sans Mono',consolas,'Courier New',monospace\"><span style=\"color: #008080; text-decoration-color: #008080; font-weight: bold\">🚀 Crew: crew</span>\n",
       "└── <span style=\"color: #808000; text-decoration-color: #808000; font-weight: bold\">📋 Task: 740f7f19-7869-4dd4-bca4-f5b0b94df6e7</span>\n",
       "    <span style=\"color: #c0c0c0; text-decoration-color: #c0c0c0\">   Status: </span><span style=\"color: #bfbf7f; text-decoration-color: #bfbf7f\">Executing Task...</span>\n",
       "    └── <span style=\"color: #008000; text-decoration-color: #008000; font-weight: bold\">🤖 Agent: </span><span style=\"color: #008000; text-decoration-color: #008000\">Local Expert at this city</span>\n",
       "        <span style=\"color: #c0c0c0; text-decoration-color: #c0c0c0\">    Status: </span><span style=\"color: #008000; text-decoration-color: #008000; font-weight: bold\">✅ Completed</span>\n",
       "        └── <span style=\"color: #008000; text-decoration-color: #008000; font-weight: bold\">🔧 </span><span style=\"color: #008000; text-decoration-color: #008000\">Used DuckDuckGo Search (2)</span>\n",
       "</pre>\n"
      ],
      "text/plain": [
       "\u001b[1;36m🚀 Crew: \u001b[0m\u001b[1;36mcrew\u001b[0m\n",
       "└── \u001b[1;33m📋 Task: 740f7f19-7869-4dd4-bca4-f5b0b94df6e7\u001b[0m\n",
       "    \u001b[37m   Status: \u001b[0m\u001b[2;33mExecuting Task...\u001b[0m\n",
       "    └── \u001b[1;32m🤖 Agent: \u001b[0m\u001b[32mLocal Expert at this city\u001b[0m\n",
       "        \u001b[37m    Status: \u001b[0m\u001b[1;32m✅ Completed\u001b[0m\n",
       "        └── \u001b[1;32m🔧 \u001b[0m\u001b[32mUsed DuckDuckGo Search (2)\u001b[0m\n"
      ]
     },
     "metadata": {},
     "output_type": "display_data"
    },
    {
     "data": {
      "text/html": [
       "<pre style=\"white-space:pre;overflow-x:auto;line-height:normal;font-family:Menlo,'DejaVu Sans Mono',consolas,'Courier New',monospace\">\n",
       "</pre>\n"
      ],
      "text/plain": [
       "\n"
      ]
     },
     "metadata": {},
     "output_type": "display_data"
    },
    {
     "data": {
      "text/html": [
       "<pre style=\"white-space:pre;overflow-x:auto;line-height:normal;font-family:Menlo,'DejaVu Sans Mono',consolas,'Courier New',monospace\"><span style=\"color: #008080; text-decoration-color: #008080; font-weight: bold\">🚀 Crew: crew</span>\n",
       "└── <span style=\"color: #008000; text-decoration-color: #008000; font-weight: bold\">📋 Task: 740f7f19-7869-4dd4-bca4-f5b0b94df6e7</span>\n",
       "    <span style=\"color: #c0c0c0; text-decoration-color: #c0c0c0\">   Assigned to: </span><span style=\"color: #008000; text-decoration-color: #008000\">Local Expert at this city</span>\n",
       "    <span style=\"color: #c0c0c0; text-decoration-color: #c0c0c0\">   Status: </span><span style=\"color: #008000; text-decoration-color: #008000; font-weight: bold\">✅ Completed</span>\n",
       "    └── <span style=\"color: #008000; text-decoration-color: #008000; font-weight: bold\">🤖 Agent: </span><span style=\"color: #008000; text-decoration-color: #008000\">Local Expert at this city</span>\n",
       "        <span style=\"color: #c0c0c0; text-decoration-color: #c0c0c0\">    Status: </span><span style=\"color: #008000; text-decoration-color: #008000; font-weight: bold\">✅ Completed</span>\n",
       "        └── <span style=\"color: #008000; text-decoration-color: #008000; font-weight: bold\">🔧 </span><span style=\"color: #008000; text-decoration-color: #008000\">Used DuckDuckGo Search (2)</span>\n",
       "</pre>\n"
      ],
      "text/plain": [
       "\u001b[1;36m🚀 Crew: \u001b[0m\u001b[1;36mcrew\u001b[0m\n",
       "└── \u001b[1;32m📋 Task: 740f7f19-7869-4dd4-bca4-f5b0b94df6e7\u001b[0m\n",
       "    \u001b[37m   Assigned to: \u001b[0m\u001b[32mLocal Expert at this city\u001b[0m\n",
       "    \u001b[37m   Status: \u001b[0m\u001b[1;32m✅ Completed\u001b[0m\n",
       "    └── \u001b[1;32m🤖 Agent: \u001b[0m\u001b[32mLocal Expert at this city\u001b[0m\n",
       "        \u001b[37m    Status: \u001b[0m\u001b[1;32m✅ Completed\u001b[0m\n",
       "        └── \u001b[1;32m🔧 \u001b[0m\u001b[32mUsed DuckDuckGo Search (2)\u001b[0m\n"
      ]
     },
     "metadata": {},
     "output_type": "display_data"
    },
    {
     "data": {
      "text/html": [
       "<pre style=\"white-space:pre;overflow-x:auto;line-height:normal;font-family:Menlo,'DejaVu Sans Mono',consolas,'Courier New',monospace\"><span style=\"color: #008000; text-decoration-color: #008000\">╭──────────────────────────────────────────────── Task Completion ────────────────────────────────────────────────╮</span>\n",
       "<span style=\"color: #008000; text-decoration-color: #008000\">│</span>                                                                                                                 <span style=\"color: #008000; text-decoration-color: #008000\">│</span>\n",
       "<span style=\"color: #008000; text-decoration-color: #008000\">│</span>  <span style=\"color: #008000; text-decoration-color: #008000; font-weight: bold\">Task Completed</span>                                                                                                 <span style=\"color: #008000; text-decoration-color: #008000\">│</span>\n",
       "<span style=\"color: #008000; text-decoration-color: #008000\">│</span>  <span style=\"color: #c0c0c0; text-decoration-color: #c0c0c0\">Name: </span><span style=\"color: #008000; text-decoration-color: #008000\">740f7f19-7869-4dd4-bca4-f5b0b94df6e7</span>                                                                     <span style=\"color: #008000; text-decoration-color: #008000\">│</span>\n",
       "<span style=\"color: #008000; text-decoration-color: #008000\">│</span>  <span style=\"color: #c0c0c0; text-decoration-color: #c0c0c0\">Agent: </span><span style=\"color: #008000; text-decoration-color: #008000\">Local Expert at this city</span>                                                                               <span style=\"color: #008000; text-decoration-color: #008000\">│</span>\n",
       "<span style=\"color: #008000; text-decoration-color: #008000\">│</span>                                                                                                                 <span style=\"color: #008000; text-decoration-color: #008000\">│</span>\n",
       "<span style=\"color: #008000; text-decoration-color: #008000\">│</span>                                                                                                                 <span style=\"color: #008000; text-decoration-color: #008000\">│</span>\n",
       "<span style=\"color: #008000; text-decoration-color: #008000\">╰─────────────────────────────────────────────────────────────────────────────────────────────────────────────────╯</span>\n",
       "</pre>\n"
      ],
      "text/plain": [
       "\u001b[32m╭─\u001b[0m\u001b[32m───────────────────────────────────────────────\u001b[0m\u001b[32m Task Completion \u001b[0m\u001b[32m───────────────────────────────────────────────\u001b[0m\u001b[32m─╮\u001b[0m\n",
       "\u001b[32m│\u001b[0m                                                                                                                 \u001b[32m│\u001b[0m\n",
       "\u001b[32m│\u001b[0m  \u001b[1;32mTask Completed\u001b[0m                                                                                                 \u001b[32m│\u001b[0m\n",
       "\u001b[32m│\u001b[0m  \u001b[37mName: \u001b[0m\u001b[32m740f7f19-7869-4dd4-bca4-f5b0b94df6e7\u001b[0m                                                                     \u001b[32m│\u001b[0m\n",
       "\u001b[32m│\u001b[0m  \u001b[37mAgent: \u001b[0m\u001b[32mLocal Expert at this city\u001b[0m                                                                               \u001b[32m│\u001b[0m\n",
       "\u001b[32m│\u001b[0m                                                                                                                 \u001b[32m│\u001b[0m\n",
       "\u001b[32m│\u001b[0m                                                                                                                 \u001b[32m│\u001b[0m\n",
       "\u001b[32m╰─────────────────────────────────────────────────────────────────────────────────────────────────────────────────╯\u001b[0m\n"
      ]
     },
     "metadata": {},
     "output_type": "display_data"
    },
    {
     "data": {
      "text/html": [
       "<pre style=\"white-space:pre;overflow-x:auto;line-height:normal;font-family:Menlo,'DejaVu Sans Mono',consolas,'Courier New',monospace\">\n",
       "</pre>\n"
      ],
      "text/plain": [
       "\n"
      ]
     },
     "metadata": {},
     "output_type": "display_data"
    },
    {
     "data": {
      "text/html": [
       "<pre style=\"white-space:pre;overflow-x:auto;line-height:normal;font-family:Menlo,'DejaVu Sans Mono',consolas,'Courier New',monospace\"><span style=\"color: #008080; text-decoration-color: #008080; font-weight: bold\">🚀 Crew: crew</span>\n",
       "├── <span style=\"color: #008000; text-decoration-color: #008000; font-weight: bold\">📋 Task: 740f7f19-7869-4dd4-bca4-f5b0b94df6e7</span>\n",
       "│   <span style=\"color: #c0c0c0; text-decoration-color: #c0c0c0\">   Assigned to: </span><span style=\"color: #008000; text-decoration-color: #008000\">Local Expert at this city</span>\n",
       "│   <span style=\"color: #c0c0c0; text-decoration-color: #c0c0c0\">   Status: </span><span style=\"color: #008000; text-decoration-color: #008000; font-weight: bold\">✅ Completed</span>\n",
       "│   └── <span style=\"color: #008000; text-decoration-color: #008000; font-weight: bold\">🤖 Agent: </span><span style=\"color: #008000; text-decoration-color: #008000\">Local Expert at this city</span>\n",
       "│       <span style=\"color: #c0c0c0; text-decoration-color: #c0c0c0\">    Status: </span><span style=\"color: #008000; text-decoration-color: #008000; font-weight: bold\">✅ Completed</span>\n",
       "│       └── <span style=\"color: #008000; text-decoration-color: #008000; font-weight: bold\">🔧 </span><span style=\"color: #008000; text-decoration-color: #008000\">Used DuckDuckGo Search (2)</span>\n",
       "└── <span style=\"color: #808000; text-decoration-color: #808000; font-weight: bold\">📋 Task: 3adf0458-165a-44a6-9bc0-2a339ba3f61b</span>\n",
       "    <span style=\"color: #c0c0c0; text-decoration-color: #c0c0c0\">   Status: </span><span style=\"color: #bfbf7f; text-decoration-color: #bfbf7f\">Executing Task...</span>\n",
       "</pre>\n"
      ],
      "text/plain": [
       "\u001b[1;36m🚀 Crew: \u001b[0m\u001b[1;36mcrew\u001b[0m\n",
       "├── \u001b[1;32m📋 Task: 740f7f19-7869-4dd4-bca4-f5b0b94df6e7\u001b[0m\n",
       "│   \u001b[37m   Assigned to: \u001b[0m\u001b[32mLocal Expert at this city\u001b[0m\n",
       "│   \u001b[37m   Status: \u001b[0m\u001b[1;32m✅ Completed\u001b[0m\n",
       "│   └── \u001b[1;32m🤖 Agent: \u001b[0m\u001b[32mLocal Expert at this city\u001b[0m\n",
       "│       \u001b[37m    Status: \u001b[0m\u001b[1;32m✅ Completed\u001b[0m\n",
       "│       └── \u001b[1;32m🔧 \u001b[0m\u001b[32mUsed DuckDuckGo Search (2)\u001b[0m\n",
       "└── \u001b[1;33m📋 Task: 3adf0458-165a-44a6-9bc0-2a339ba3f61b\u001b[0m\n",
       "    \u001b[37m   Status: \u001b[0m\u001b[2;33mExecuting Task...\u001b[0m\n"
      ]
     },
     "metadata": {},
     "output_type": "display_data"
    },
    {
     "data": {
      "text/html": [
       "<pre style=\"white-space:pre;overflow-x:auto;line-height:normal;font-family:Menlo,'DejaVu Sans Mono',consolas,'Courier New',monospace\">\n",
       "</pre>\n"
      ],
      "text/plain": [
       "\n"
      ]
     },
     "metadata": {},
     "output_type": "display_data"
    },
    {
     "data": {
      "text/html": [
       "<pre style=\"white-space:pre;overflow-x:auto;line-height:normal;font-family:Menlo,'DejaVu Sans Mono',consolas,'Courier New',monospace\"><span style=\"color: #008080; text-decoration-color: #008080; font-weight: bold\">🚀 Crew: crew</span>\n",
       "├── <span style=\"color: #008000; text-decoration-color: #008000; font-weight: bold\">📋 Task: 740f7f19-7869-4dd4-bca4-f5b0b94df6e7</span>\n",
       "│   <span style=\"color: #c0c0c0; text-decoration-color: #c0c0c0\">   Assigned to: </span><span style=\"color: #008000; text-decoration-color: #008000\">Local Expert at this city</span>\n",
       "│   <span style=\"color: #c0c0c0; text-decoration-color: #c0c0c0\">   Status: </span><span style=\"color: #008000; text-decoration-color: #008000; font-weight: bold\">✅ Completed</span>\n",
       "│   └── <span style=\"color: #008000; text-decoration-color: #008000; font-weight: bold\">🤖 Agent: </span><span style=\"color: #008000; text-decoration-color: #008000\">Local Expert at this city</span>\n",
       "│       <span style=\"color: #c0c0c0; text-decoration-color: #c0c0c0\">    Status: </span><span style=\"color: #008000; text-decoration-color: #008000; font-weight: bold\">✅ Completed</span>\n",
       "│       └── <span style=\"color: #008000; text-decoration-color: #008000; font-weight: bold\">🔧 </span><span style=\"color: #008000; text-decoration-color: #008000\">Used DuckDuckGo Search (2)</span>\n",
       "└── <span style=\"color: #808000; text-decoration-color: #808000; font-weight: bold\">📋 Task: 3adf0458-165a-44a6-9bc0-2a339ba3f61b</span>\n",
       "    <span style=\"color: #c0c0c0; text-decoration-color: #c0c0c0\">   Status: </span><span style=\"color: #bfbf7f; text-decoration-color: #bfbf7f\">Executing Task...</span>\n",
       "    └── <span style=\"color: #008000; text-decoration-color: #008000; font-weight: bold\">🤖 Agent: </span><span style=\"color: #008000; text-decoration-color: #008000\">Amazing Travel Concierge</span>\n",
       "        <span style=\"color: #c0c0c0; text-decoration-color: #c0c0c0\">    Status: </span><span style=\"color: #008000; text-decoration-color: #008000; font-weight: bold\">In Progress</span>\n",
       "</pre>\n"
      ],
      "text/plain": [
       "\u001b[1;36m🚀 Crew: \u001b[0m\u001b[1;36mcrew\u001b[0m\n",
       "├── \u001b[1;32m📋 Task: 740f7f19-7869-4dd4-bca4-f5b0b94df6e7\u001b[0m\n",
       "│   \u001b[37m   Assigned to: \u001b[0m\u001b[32mLocal Expert at this city\u001b[0m\n",
       "│   \u001b[37m   Status: \u001b[0m\u001b[1;32m✅ Completed\u001b[0m\n",
       "│   └── \u001b[1;32m🤖 Agent: \u001b[0m\u001b[32mLocal Expert at this city\u001b[0m\n",
       "│       \u001b[37m    Status: \u001b[0m\u001b[1;32m✅ Completed\u001b[0m\n",
       "│       └── \u001b[1;32m🔧 \u001b[0m\u001b[32mUsed DuckDuckGo Search (2)\u001b[0m\n",
       "└── \u001b[1;33m📋 Task: 3adf0458-165a-44a6-9bc0-2a339ba3f61b\u001b[0m\n",
       "    \u001b[37m   Status: \u001b[0m\u001b[2;33mExecuting Task...\u001b[0m\n",
       "    └── \u001b[1;32m🤖 Agent: \u001b[0m\u001b[32mAmazing Travel Concierge\u001b[0m\n",
       "        \u001b[37m    Status: \u001b[0m\u001b[1;32mIn Progress\u001b[0m\n"
      ]
     },
     "metadata": {},
     "output_type": "display_data"
    },
    {
     "data": {
      "text/html": [
       "<pre style=\"white-space:pre;overflow-x:auto;line-height:normal;font-family:Menlo,'DejaVu Sans Mono',consolas,'Courier New',monospace\">\n",
       "</pre>\n"
      ],
      "text/plain": [
       "\n"
      ]
     },
     "metadata": {},
     "output_type": "display_data"
    },
    {
     "name": "stdout",
     "output_type": "stream",
     "text": [
      "\u001b[1m\u001b[95m# Agent:\u001b[00m \u001b[1m\u001b[92mAmazing Travel Concierge\u001b[00m\n",
      "\u001b[95m## Task:\u001b[00m \u001b[92m\n",
      "Expand this guide into a a full 1-day travel\n",
      "itinerary with detailed per-day plans, including\n",
      "weather forecasts, places to eat, packing suggestions,\n",
      "and a budget breakdown.\n",
      "\n",
      "You MUST suggest actual places to visit, actual hotels\n",
      "to stay and actual restaurants to go to.\n",
      "\n",
      "Trip Date: June 2025\n",
      "Traveling from: SF\n",
      "Traveling to: Paris\n",
      "Traveler Interests: art\n",
      "\u001b[00m\n"
     ]
    },
    {
     "data": {
      "text/html": [
       "<pre style=\"white-space:pre;overflow-x:auto;line-height:normal;font-family:Menlo,'DejaVu Sans Mono',consolas,'Courier New',monospace\"><span style=\"color: #008080; text-decoration-color: #008080; font-weight: bold\">🚀 Crew: crew</span>\n",
       "├── <span style=\"color: #008000; text-decoration-color: #008000; font-weight: bold\">📋 Task: 740f7f19-7869-4dd4-bca4-f5b0b94df6e7</span>\n",
       "│   <span style=\"color: #c0c0c0; text-decoration-color: #c0c0c0\">   Assigned to: </span><span style=\"color: #008000; text-decoration-color: #008000\">Local Expert at this city</span>\n",
       "│   <span style=\"color: #c0c0c0; text-decoration-color: #c0c0c0\">   Status: </span><span style=\"color: #008000; text-decoration-color: #008000; font-weight: bold\">✅ Completed</span>\n",
       "│   └── <span style=\"color: #008000; text-decoration-color: #008000; font-weight: bold\">🤖 Agent: </span><span style=\"color: #008000; text-decoration-color: #008000\">Local Expert at this city</span>\n",
       "│       <span style=\"color: #c0c0c0; text-decoration-color: #c0c0c0\">    Status: </span><span style=\"color: #008000; text-decoration-color: #008000; font-weight: bold\">✅ Completed</span>\n",
       "│       └── <span style=\"color: #008000; text-decoration-color: #008000; font-weight: bold\">🔧 </span><span style=\"color: #008000; text-decoration-color: #008000\">Used DuckDuckGo Search (2)</span>\n",
       "└── <span style=\"color: #808000; text-decoration-color: #808000; font-weight: bold\">📋 Task: 3adf0458-165a-44a6-9bc0-2a339ba3f61b</span>\n",
       "    <span style=\"color: #c0c0c0; text-decoration-color: #c0c0c0\">   Status: </span><span style=\"color: #bfbf7f; text-decoration-color: #bfbf7f\">Executing Task...</span>\n",
       "    └── <span style=\"color: #008000; text-decoration-color: #008000; font-weight: bold\">🤖 Agent: </span><span style=\"color: #008000; text-decoration-color: #008000\">Amazing Travel Concierge</span>\n",
       "        <span style=\"color: #c0c0c0; text-decoration-color: #c0c0c0\">    Status: </span><span style=\"color: #008000; text-decoration-color: #008000; font-weight: bold\">In Progress</span>\n",
       "        └── <span style=\"color: #000080; text-decoration-color: #000080; font-weight: bold\">🧠 </span><span style=\"color: #000080; text-decoration-color: #000080\">Thinking...</span>\n",
       "</pre>\n"
      ],
      "text/plain": [
       "\u001b[1;36m🚀 Crew: \u001b[0m\u001b[1;36mcrew\u001b[0m\n",
       "├── \u001b[1;32m📋 Task: 740f7f19-7869-4dd4-bca4-f5b0b94df6e7\u001b[0m\n",
       "│   \u001b[37m   Assigned to: \u001b[0m\u001b[32mLocal Expert at this city\u001b[0m\n",
       "│   \u001b[37m   Status: \u001b[0m\u001b[1;32m✅ Completed\u001b[0m\n",
       "│   └── \u001b[1;32m🤖 Agent: \u001b[0m\u001b[32mLocal Expert at this city\u001b[0m\n",
       "│       \u001b[37m    Status: \u001b[0m\u001b[1;32m✅ Completed\u001b[0m\n",
       "│       └── \u001b[1;32m🔧 \u001b[0m\u001b[32mUsed DuckDuckGo Search (2)\u001b[0m\n",
       "└── \u001b[1;33m📋 Task: 3adf0458-165a-44a6-9bc0-2a339ba3f61b\u001b[0m\n",
       "    \u001b[37m   Status: \u001b[0m\u001b[2;33mExecuting Task...\u001b[0m\n",
       "    └── \u001b[1;32m🤖 Agent: \u001b[0m\u001b[32mAmazing Travel Concierge\u001b[0m\n",
       "        \u001b[37m    Status: \u001b[0m\u001b[1;32mIn Progress\u001b[0m\n",
       "        └── \u001b[1;34m🧠 \u001b[0m\u001b[34mThinking...\u001b[0m\n"
      ]
     },
     "metadata": {},
     "output_type": "display_data"
    },
    {
     "data": {
      "text/html": [
       "<pre style=\"white-space:pre;overflow-x:auto;line-height:normal;font-family:Menlo,'DejaVu Sans Mono',consolas,'Courier New',monospace\">\n",
       "</pre>\n"
      ],
      "text/plain": [
       "\n"
      ]
     },
     "metadata": {},
     "output_type": "display_data"
    },
    {
     "data": {
      "text/html": [
       "<pre style=\"white-space:pre;overflow-x:auto;line-height:normal;font-family:Menlo,'DejaVu Sans Mono',consolas,'Courier New',monospace\"><span style=\"color: #008080; text-decoration-color: #008080; font-weight: bold\">🚀 Crew: crew</span>\n",
       "├── <span style=\"color: #008000; text-decoration-color: #008000; font-weight: bold\">📋 Task: 740f7f19-7869-4dd4-bca4-f5b0b94df6e7</span>\n",
       "│   <span style=\"color: #c0c0c0; text-decoration-color: #c0c0c0\">   Assigned to: </span><span style=\"color: #008000; text-decoration-color: #008000\">Local Expert at this city</span>\n",
       "│   <span style=\"color: #c0c0c0; text-decoration-color: #c0c0c0\">   Status: </span><span style=\"color: #008000; text-decoration-color: #008000; font-weight: bold\">✅ Completed</span>\n",
       "│   └── <span style=\"color: #008000; text-decoration-color: #008000; font-weight: bold\">🤖 Agent: </span><span style=\"color: #008000; text-decoration-color: #008000\">Local Expert at this city</span>\n",
       "│       <span style=\"color: #c0c0c0; text-decoration-color: #c0c0c0\">    Status: </span><span style=\"color: #008000; text-decoration-color: #008000; font-weight: bold\">✅ Completed</span>\n",
       "│       └── <span style=\"color: #008000; text-decoration-color: #008000; font-weight: bold\">🔧 </span><span style=\"color: #008000; text-decoration-color: #008000\">Used DuckDuckGo Search (2)</span>\n",
       "└── <span style=\"color: #808000; text-decoration-color: #808000; font-weight: bold\">📋 Task: 3adf0458-165a-44a6-9bc0-2a339ba3f61b</span>\n",
       "    <span style=\"color: #c0c0c0; text-decoration-color: #c0c0c0\">   Status: </span><span style=\"color: #bfbf7f; text-decoration-color: #bfbf7f\">Executing Task...</span>\n",
       "    └── <span style=\"color: #008000; text-decoration-color: #008000; font-weight: bold\">🤖 Agent: </span><span style=\"color: #008000; text-decoration-color: #008000\">Amazing Travel Concierge</span>\n",
       "        <span style=\"color: #c0c0c0; text-decoration-color: #c0c0c0\">    Status: </span><span style=\"color: #008000; text-decoration-color: #008000; font-weight: bold\">In Progress</span>\n",
       "</pre>\n"
      ],
      "text/plain": [
       "\u001b[1;36m🚀 Crew: \u001b[0m\u001b[1;36mcrew\u001b[0m\n",
       "├── \u001b[1;32m📋 Task: 740f7f19-7869-4dd4-bca4-f5b0b94df6e7\u001b[0m\n",
       "│   \u001b[37m   Assigned to: \u001b[0m\u001b[32mLocal Expert at this city\u001b[0m\n",
       "│   \u001b[37m   Status: \u001b[0m\u001b[1;32m✅ Completed\u001b[0m\n",
       "│   └── \u001b[1;32m🤖 Agent: \u001b[0m\u001b[32mLocal Expert at this city\u001b[0m\n",
       "│       \u001b[37m    Status: \u001b[0m\u001b[1;32m✅ Completed\u001b[0m\n",
       "│       └── \u001b[1;32m🔧 \u001b[0m\u001b[32mUsed DuckDuckGo Search (2)\u001b[0m\n",
       "└── \u001b[1;33m📋 Task: 3adf0458-165a-44a6-9bc0-2a339ba3f61b\u001b[0m\n",
       "    \u001b[37m   Status: \u001b[0m\u001b[2;33mExecuting Task...\u001b[0m\n",
       "    └── \u001b[1;32m🤖 Agent: \u001b[0m\u001b[32mAmazing Travel Concierge\u001b[0m\n",
       "        \u001b[37m    Status: \u001b[0m\u001b[1;32mIn Progress\u001b[0m\n"
      ]
     },
     "metadata": {},
     "output_type": "display_data"
    },
    {
     "data": {
      "text/html": [
       "<pre style=\"white-space:pre;overflow-x:auto;line-height:normal;font-family:Menlo,'DejaVu Sans Mono',consolas,'Courier New',monospace\">\n",
       "</pre>\n"
      ],
      "text/plain": [
       "\n"
      ]
     },
     "metadata": {},
     "output_type": "display_data"
    },
    {
     "name": "stdout",
     "output_type": "stream",
     "text": [
      "\n",
      "\n",
      "\u001b[1m\u001b[95m# Agent:\u001b[00m \u001b[1m\u001b[92mAmazing Travel Concierge\u001b[00m\n",
      "\u001b[95m## Final Answer:\u001b[00m \u001b[92m\n",
      "# 1-Day Art Lover's Itinerary in Paris (June 2025)\n",
      "\n",
      "## Overview\n",
      "This itinerary is designed for art enthusiasts traveling from San Francisco to Paris. You will explore renowned museums, hidden gems, and vibrant neighborhoods, all while enjoying the culinary delights of the city. \n",
      "\n",
      "### Anticipated Weather\n",
      "- **Date**: June 15, 2025\n",
      "- **Weather**: Mild and pleasant, with temperatures ranging from 60°F (15°C) in the morning to 75°F (24°C) in the afternoon. Expect partly cloudy skies with a slight chance of rain.\n",
      "  \n",
      "### Packing Suggestions\n",
      "- **Clothing**: Light layers (t-shirts, long-sleeve shirts), a light jacket or cardigan for the evening, comfortable walking shoes, and a stylish outfit for dining out.\n",
      "- **Essentials**: Portable phone charger, reusable water bottle, umbrella, and a small backpack for daily essentials.\n",
      "\n",
      "### Budget Breakdown\n",
      "- **Accommodation**: $150 (Hotel Le Relais Saint-Honoré)\n",
      "- **Food**: $70 (Breakfast, lunch, and dinner)\n",
      "- **Attractions**: $50 (Paris Museum Pass)\n",
      "- **Transportation**: $20 (Metro and walking)\n",
      "- **Miscellaneous**: $30 (souvenirs, snacks)\n",
      "  \n",
      "**Total Estimated Budget**: $320\n",
      "\n",
      "---\n",
      "\n",
      "## Detailed Itinerary\n",
      "\n",
      "### Morning\n",
      "**8:00 AM - Breakfast at Café de Flore**  \n",
      "- **Location**: 172 Boulevard Saint-Germain, 75006 Paris  \n",
      "- **Overview**: A historic café known for its intellectual clientele, enjoy a classic French breakfast of croissants, café au lait, and fresh fruit.  \n",
      "- **Cost**: ~$20\n",
      "\n",
      "**9:30 AM - The Louvre Museum**  \n",
      "- **Location**: Rue de Rivoli, 75001 Paris  \n",
      "- **Overview**: Begin your art journey at the Louvre. With your Paris Museum Pass, skip the lines and immerse yourself in masterpieces like the Mona Lisa.  \n",
      "- **Duration**: 2.5 hours  \n",
      "- **Cost**: Included in the Museum Pass\n",
      "\n",
      "### Midday\n",
      "**12:00 PM - Lunch at Le Fumoir**  \n",
      "- **Location**: 6 Rue de l'Amiral de Coligny, 75001 Paris  \n",
      "- **Overview**: Enjoy a leisurely lunch at this stylish brasserie, known for its art deco interior and classic French dishes.  \n",
      "- **Recommendation**: Try the duck confit or the seasonal vegetable tart.  \n",
      "- **Cost**: ~$30\n",
      "\n",
      "**1:30 PM - Musée d'Orsay**  \n",
      "- **Location**: 1 Rue de la Légion d'Honneur, 75007 Paris  \n",
      "- **Overview**: Explore the stunning collection of Impressionist and Post-Impressionist art. Don't miss Monet's Water Lilies and Van Gogh's self-portraits.  \n",
      "- **Duration**: 2 hours  \n",
      "- **Cost**: Included in the Museum Pass\n",
      "\n",
      "### Afternoon\n",
      "**3:30 PM - Centre Pompidou**  \n",
      "- **Location**: Place Georges-Pompidou, 75004 Paris  \n",
      "- **Overview**: Visit this modern art museum and enjoy the unique architecture. Take the elevator to the rooftop terrace for breathtaking views of the city.  \n",
      "- **Duration**: 1.5 hours  \n",
      "- **Cost**: Included in the Museum Pass\n",
      "\n",
      "### Evening\n",
      "**5:00 PM - Stroll through Montmartre**  \n",
      "- **Overview**: Wander through the charming streets of Montmartre, visiting the iconic Sacré-Cœur Basilica. Stop by the Place du Tertre to see local artists at work.  \n",
      "- **Duration**: 1 hour  \n",
      "- **Cost**: Free\n",
      "\n",
      "**6:30 PM - Dinner at Le Consulat**  \n",
      "- **Location**: 18 Rue Norvins, 75018 Paris  \n",
      "- **Overview**: Dine at this picturesque bistro in Montmartre, offering traditional French cuisine in a cozy atmosphere.  \n",
      "- **Recommendation**: Try the French onion soup and crème brûlée for dessert.  \n",
      "- **Cost**: ~$40\n",
      "\n",
      "### Night\n",
      "**8:00 PM - Evening Walk along the Seine**  \n",
      "- **Overview**: End your day with a leisurely stroll along the Seine River, enjoying the illuminated landmarks of Paris, including Notre-Dame Cathedral and the Eiffel Tower.  \n",
      "- **Cost**: Free\n",
      "\n",
      "### Optional Late Night Activity\n",
      "**9:30 PM - Visit a Local Art Gallery in Le Marais**  \n",
      "- **Overview**: Explore the vibrant art scene in Le Marais. Many galleries stay open late, allowing you to discover contemporary art in a trendy setting.  \n",
      "- **Cost**: Free\n",
      "\n",
      "---\n",
      "\n",
      "## Conclusion\n",
      "This one-day itinerary in Paris is designed to provide an enriching experience for art lovers, combining iconic museums, delightful dining, and charming neighborhoods. With careful planning and a budget-friendly approach, you're set for an unforgettable day in the City of Light! Enjoy your trip!\u001b[00m\n",
      "\n",
      "\n"
     ]
    },
    {
     "data": {
      "text/html": [
       "<pre style=\"white-space:pre;overflow-x:auto;line-height:normal;font-family:Menlo,'DejaVu Sans Mono',consolas,'Courier New',monospace\"><span style=\"color: #008080; text-decoration-color: #008080; font-weight: bold\">🚀 Crew: crew</span>\n",
       "├── <span style=\"color: #008000; text-decoration-color: #008000; font-weight: bold\">📋 Task: 740f7f19-7869-4dd4-bca4-f5b0b94df6e7</span>\n",
       "│   <span style=\"color: #c0c0c0; text-decoration-color: #c0c0c0\">   Assigned to: </span><span style=\"color: #008000; text-decoration-color: #008000\">Local Expert at this city</span>\n",
       "│   <span style=\"color: #c0c0c0; text-decoration-color: #c0c0c0\">   Status: </span><span style=\"color: #008000; text-decoration-color: #008000; font-weight: bold\">✅ Completed</span>\n",
       "│   └── <span style=\"color: #008000; text-decoration-color: #008000; font-weight: bold\">🤖 Agent: </span><span style=\"color: #008000; text-decoration-color: #008000\">Local Expert at this city</span>\n",
       "│       <span style=\"color: #c0c0c0; text-decoration-color: #c0c0c0\">    Status: </span><span style=\"color: #008000; text-decoration-color: #008000; font-weight: bold\">✅ Completed</span>\n",
       "│       └── <span style=\"color: #008000; text-decoration-color: #008000; font-weight: bold\">🔧 </span><span style=\"color: #008000; text-decoration-color: #008000\">Used DuckDuckGo Search (2)</span>\n",
       "└── <span style=\"color: #808000; text-decoration-color: #808000; font-weight: bold\">📋 Task: 3adf0458-165a-44a6-9bc0-2a339ba3f61b</span>\n",
       "    <span style=\"color: #c0c0c0; text-decoration-color: #c0c0c0\">   Status: </span><span style=\"color: #bfbf7f; text-decoration-color: #bfbf7f\">Executing Task...</span>\n",
       "    └── <span style=\"color: #008000; text-decoration-color: #008000; font-weight: bold\">🤖 Agent: </span><span style=\"color: #008000; text-decoration-color: #008000\">Amazing Travel Concierge</span>\n",
       "        <span style=\"color: #c0c0c0; text-decoration-color: #c0c0c0\">    Status: </span><span style=\"color: #008000; text-decoration-color: #008000; font-weight: bold\">✅ Completed</span>\n",
       "</pre>\n"
      ],
      "text/plain": [
       "\u001b[1;36m🚀 Crew: \u001b[0m\u001b[1;36mcrew\u001b[0m\n",
       "├── \u001b[1;32m📋 Task: 740f7f19-7869-4dd4-bca4-f5b0b94df6e7\u001b[0m\n",
       "│   \u001b[37m   Assigned to: \u001b[0m\u001b[32mLocal Expert at this city\u001b[0m\n",
       "│   \u001b[37m   Status: \u001b[0m\u001b[1;32m✅ Completed\u001b[0m\n",
       "│   └── \u001b[1;32m🤖 Agent: \u001b[0m\u001b[32mLocal Expert at this city\u001b[0m\n",
       "│       \u001b[37m    Status: \u001b[0m\u001b[1;32m✅ Completed\u001b[0m\n",
       "│       └── \u001b[1;32m🔧 \u001b[0m\u001b[32mUsed DuckDuckGo Search (2)\u001b[0m\n",
       "└── \u001b[1;33m📋 Task: 3adf0458-165a-44a6-9bc0-2a339ba3f61b\u001b[0m\n",
       "    \u001b[37m   Status: \u001b[0m\u001b[2;33mExecuting Task...\u001b[0m\n",
       "    └── \u001b[1;32m🤖 Agent: \u001b[0m\u001b[32mAmazing Travel Concierge\u001b[0m\n",
       "        \u001b[37m    Status: \u001b[0m\u001b[1;32m✅ Completed\u001b[0m\n"
      ]
     },
     "metadata": {},
     "output_type": "display_data"
    },
    {
     "data": {
      "text/html": [
       "<pre style=\"white-space:pre;overflow-x:auto;line-height:normal;font-family:Menlo,'DejaVu Sans Mono',consolas,'Courier New',monospace\">\n",
       "</pre>\n"
      ],
      "text/plain": [
       "\n"
      ]
     },
     "metadata": {},
     "output_type": "display_data"
    },
    {
     "data": {
      "text/html": [
       "<pre style=\"white-space:pre;overflow-x:auto;line-height:normal;font-family:Menlo,'DejaVu Sans Mono',consolas,'Courier New',monospace\"><span style=\"color: #008080; text-decoration-color: #008080; font-weight: bold\">🚀 Crew: crew</span>\n",
       "├── <span style=\"color: #008000; text-decoration-color: #008000; font-weight: bold\">📋 Task: 740f7f19-7869-4dd4-bca4-f5b0b94df6e7</span>\n",
       "│   <span style=\"color: #c0c0c0; text-decoration-color: #c0c0c0\">   Assigned to: </span><span style=\"color: #008000; text-decoration-color: #008000\">Local Expert at this city</span>\n",
       "│   <span style=\"color: #c0c0c0; text-decoration-color: #c0c0c0\">   Status: </span><span style=\"color: #008000; text-decoration-color: #008000; font-weight: bold\">✅ Completed</span>\n",
       "│   └── <span style=\"color: #008000; text-decoration-color: #008000; font-weight: bold\">🤖 Agent: </span><span style=\"color: #008000; text-decoration-color: #008000\">Local Expert at this city</span>\n",
       "│       <span style=\"color: #c0c0c0; text-decoration-color: #c0c0c0\">    Status: </span><span style=\"color: #008000; text-decoration-color: #008000; font-weight: bold\">✅ Completed</span>\n",
       "│       └── <span style=\"color: #008000; text-decoration-color: #008000; font-weight: bold\">🔧 </span><span style=\"color: #008000; text-decoration-color: #008000\">Used DuckDuckGo Search (2)</span>\n",
       "└── <span style=\"color: #008000; text-decoration-color: #008000; font-weight: bold\">📋 Task: 3adf0458-165a-44a6-9bc0-2a339ba3f61b</span>\n",
       "    <span style=\"color: #c0c0c0; text-decoration-color: #c0c0c0\">   Assigned to: </span><span style=\"color: #008000; text-decoration-color: #008000\">Amazing Travel Concierge</span>\n",
       "    <span style=\"color: #c0c0c0; text-decoration-color: #c0c0c0\">   Status: </span><span style=\"color: #008000; text-decoration-color: #008000; font-weight: bold\">✅ Completed</span>\n",
       "    └── <span style=\"color: #008000; text-decoration-color: #008000; font-weight: bold\">🤖 Agent: </span><span style=\"color: #008000; text-decoration-color: #008000\">Amazing Travel Concierge</span>\n",
       "        <span style=\"color: #c0c0c0; text-decoration-color: #c0c0c0\">    Status: </span><span style=\"color: #008000; text-decoration-color: #008000; font-weight: bold\">✅ Completed</span>\n",
       "</pre>\n"
      ],
      "text/plain": [
       "\u001b[1;36m🚀 Crew: \u001b[0m\u001b[1;36mcrew\u001b[0m\n",
       "├── \u001b[1;32m📋 Task: 740f7f19-7869-4dd4-bca4-f5b0b94df6e7\u001b[0m\n",
       "│   \u001b[37m   Assigned to: \u001b[0m\u001b[32mLocal Expert at this city\u001b[0m\n",
       "│   \u001b[37m   Status: \u001b[0m\u001b[1;32m✅ Completed\u001b[0m\n",
       "│   └── \u001b[1;32m🤖 Agent: \u001b[0m\u001b[32mLocal Expert at this city\u001b[0m\n",
       "│       \u001b[37m    Status: \u001b[0m\u001b[1;32m✅ Completed\u001b[0m\n",
       "│       └── \u001b[1;32m🔧 \u001b[0m\u001b[32mUsed DuckDuckGo Search (2)\u001b[0m\n",
       "└── \u001b[1;32m📋 Task: 3adf0458-165a-44a6-9bc0-2a339ba3f61b\u001b[0m\n",
       "    \u001b[37m   Assigned to: \u001b[0m\u001b[32mAmazing Travel Concierge\u001b[0m\n",
       "    \u001b[37m   Status: \u001b[0m\u001b[1;32m✅ Completed\u001b[0m\n",
       "    └── \u001b[1;32m🤖 Agent: \u001b[0m\u001b[32mAmazing Travel Concierge\u001b[0m\n",
       "        \u001b[37m    Status: \u001b[0m\u001b[1;32m✅ Completed\u001b[0m\n"
      ]
     },
     "metadata": {},
     "output_type": "display_data"
    },
    {
     "data": {
      "text/html": [
       "<pre style=\"white-space:pre;overflow-x:auto;line-height:normal;font-family:Menlo,'DejaVu Sans Mono',consolas,'Courier New',monospace\"><span style=\"color: #008000; text-decoration-color: #008000\">╭──────────────────────────────────────────────── Task Completion ────────────────────────────────────────────────╮</span>\n",
       "<span style=\"color: #008000; text-decoration-color: #008000\">│</span>                                                                                                                 <span style=\"color: #008000; text-decoration-color: #008000\">│</span>\n",
       "<span style=\"color: #008000; text-decoration-color: #008000\">│</span>  <span style=\"color: #008000; text-decoration-color: #008000; font-weight: bold\">Task Completed</span>                                                                                                 <span style=\"color: #008000; text-decoration-color: #008000\">│</span>\n",
       "<span style=\"color: #008000; text-decoration-color: #008000\">│</span>  <span style=\"color: #c0c0c0; text-decoration-color: #c0c0c0\">Name: </span><span style=\"color: #008000; text-decoration-color: #008000\">3adf0458-165a-44a6-9bc0-2a339ba3f61b</span>                                                                     <span style=\"color: #008000; text-decoration-color: #008000\">│</span>\n",
       "<span style=\"color: #008000; text-decoration-color: #008000\">│</span>  <span style=\"color: #c0c0c0; text-decoration-color: #c0c0c0\">Agent: </span><span style=\"color: #008000; text-decoration-color: #008000\">Amazing Travel Concierge</span>                                                                                <span style=\"color: #008000; text-decoration-color: #008000\">│</span>\n",
       "<span style=\"color: #008000; text-decoration-color: #008000\">│</span>                                                                                                                 <span style=\"color: #008000; text-decoration-color: #008000\">│</span>\n",
       "<span style=\"color: #008000; text-decoration-color: #008000\">│</span>                                                                                                                 <span style=\"color: #008000; text-decoration-color: #008000\">│</span>\n",
       "<span style=\"color: #008000; text-decoration-color: #008000\">╰─────────────────────────────────────────────────────────────────────────────────────────────────────────────────╯</span>\n",
       "</pre>\n"
      ],
      "text/plain": [
       "\u001b[32m╭─\u001b[0m\u001b[32m───────────────────────────────────────────────\u001b[0m\u001b[32m Task Completion \u001b[0m\u001b[32m───────────────────────────────────────────────\u001b[0m\u001b[32m─╮\u001b[0m\n",
       "\u001b[32m│\u001b[0m                                                                                                                 \u001b[32m│\u001b[0m\n",
       "\u001b[32m│\u001b[0m  \u001b[1;32mTask Completed\u001b[0m                                                                                                 \u001b[32m│\u001b[0m\n",
       "\u001b[32m│\u001b[0m  \u001b[37mName: \u001b[0m\u001b[32m3adf0458-165a-44a6-9bc0-2a339ba3f61b\u001b[0m                                                                     \u001b[32m│\u001b[0m\n",
       "\u001b[32m│\u001b[0m  \u001b[37mAgent: \u001b[0m\u001b[32mAmazing Travel Concierge\u001b[0m                                                                                \u001b[32m│\u001b[0m\n",
       "\u001b[32m│\u001b[0m                                                                                                                 \u001b[32m│\u001b[0m\n",
       "\u001b[32m│\u001b[0m                                                                                                                 \u001b[32m│\u001b[0m\n",
       "\u001b[32m╰─────────────────────────────────────────────────────────────────────────────────────────────────────────────────╯\u001b[0m\n"
      ]
     },
     "metadata": {},
     "output_type": "display_data"
    },
    {
     "data": {
      "text/html": [
       "<pre style=\"white-space:pre;overflow-x:auto;line-height:normal;font-family:Menlo,'DejaVu Sans Mono',consolas,'Courier New',monospace\">\n",
       "</pre>\n"
      ],
      "text/plain": [
       "\n"
      ]
     },
     "metadata": {},
     "output_type": "display_data"
    },
    {
     "data": {
      "text/html": [
       "<pre style=\"white-space:pre;overflow-x:auto;line-height:normal;font-family:Menlo,'DejaVu Sans Mono',consolas,'Courier New',monospace\"><span style=\"color: #008000; text-decoration-color: #008000\">╭──────────────────────────────────────────────── Crew Completion ────────────────────────────────────────────────╮</span>\n",
       "<span style=\"color: #008000; text-decoration-color: #008000\">│</span>                                                                                                                 <span style=\"color: #008000; text-decoration-color: #008000\">│</span>\n",
       "<span style=\"color: #008000; text-decoration-color: #008000\">│</span>  <span style=\"color: #008000; text-decoration-color: #008000; font-weight: bold\">Crew Execution Completed</span>                                                                                       <span style=\"color: #008000; text-decoration-color: #008000\">│</span>\n",
       "<span style=\"color: #008000; text-decoration-color: #008000\">│</span>  <span style=\"color: #c0c0c0; text-decoration-color: #c0c0c0\">Name: </span><span style=\"color: #008000; text-decoration-color: #008000\">crew</span>                                                                                                     <span style=\"color: #008000; text-decoration-color: #008000\">│</span>\n",
       "<span style=\"color: #008000; text-decoration-color: #008000\">│</span>  <span style=\"color: #c0c0c0; text-decoration-color: #c0c0c0\">ID: </span><span style=\"color: #008000; text-decoration-color: #008000\">15df0b8f-b869-4e57-9a71-2c203eff346c</span>                                                                       <span style=\"color: #008000; text-decoration-color: #008000\">│</span>\n",
       "<span style=\"color: #008000; text-decoration-color: #008000\">│</span>                                                                                                                 <span style=\"color: #008000; text-decoration-color: #008000\">│</span>\n",
       "<span style=\"color: #008000; text-decoration-color: #008000\">│</span>                                                                                                                 <span style=\"color: #008000; text-decoration-color: #008000\">│</span>\n",
       "<span style=\"color: #008000; text-decoration-color: #008000\">╰─────────────────────────────────────────────────────────────────────────────────────────────────────────────────╯</span>\n",
       "</pre>\n"
      ],
      "text/plain": [
       "\u001b[32m╭─\u001b[0m\u001b[32m───────────────────────────────────────────────\u001b[0m\u001b[32m Crew Completion \u001b[0m\u001b[32m───────────────────────────────────────────────\u001b[0m\u001b[32m─╮\u001b[0m\n",
       "\u001b[32m│\u001b[0m                                                                                                                 \u001b[32m│\u001b[0m\n",
       "\u001b[32m│\u001b[0m  \u001b[1;32mCrew Execution Completed\u001b[0m                                                                                       \u001b[32m│\u001b[0m\n",
       "\u001b[32m│\u001b[0m  \u001b[37mName: \u001b[0m\u001b[32mcrew\u001b[0m                                                                                                     \u001b[32m│\u001b[0m\n",
       "\u001b[32m│\u001b[0m  \u001b[37mID: \u001b[0m\u001b[32m15df0b8f-b869-4e57-9a71-2c203eff346c\u001b[0m                                                                       \u001b[32m│\u001b[0m\n",
       "\u001b[32m│\u001b[0m                                                                                                                 \u001b[32m│\u001b[0m\n",
       "\u001b[32m│\u001b[0m                                                                                                                 \u001b[32m│\u001b[0m\n",
       "\u001b[32m╰─────────────────────────────────────────────────────────────────────────────────────────────────────────────────╯\u001b[0m\n"
      ]
     },
     "metadata": {},
     "output_type": "display_data"
    },
    {
     "data": {
      "text/html": [
       "<pre style=\"white-space:pre;overflow-x:auto;line-height:normal;font-family:Menlo,'DejaVu Sans Mono',consolas,'Courier New',monospace\">\n",
       "</pre>\n"
      ],
      "text/plain": [
       "\n"
      ]
     },
     "metadata": {},
     "output_type": "display_data"
    }
   ],
   "source": [
    "trip_crew = TripCrew('SF', \"Paris\", 'June 2025', 'art')\n",
    "result = trip_crew.run()"
   ]
  },
  {
   "cell_type": "code",
   "execution_count": 13,
   "id": "25b7e634-f4a1-4400-a7d8-212c64afc49c",
   "metadata": {
    "colab": {
     "base_uri": "https://localhost:8080/"
    },
    "id": "CyfyYvi7PyPk",
    "outputId": "44944593-ad50-4372-c966-422a1fb599d3",
    "scrolled": true
   },
   "outputs": [
    {
     "name": "stdout",
     "output_type": "stream",
     "text": [
      "# 1-Day Art Lover's Itinerary in Paris (June 2025)\n",
      "\n",
      "## Overview\n",
      "This itinerary is designed for art enthusiasts traveling from San Francisco to Paris. You will explore renowned museums, hidden gems, and vibrant neighborhoods, all while enjoying the culinary delights of the city. \n",
      "\n",
      "### Anticipated Weather\n",
      "- **Date**: June 15, 2025\n",
      "- **Weather**: Mild and pleasant, with temperatures ranging from 60°F (15°C) in the morning to 75°F (24°C) in the afternoon. Expect partly cloudy skies with a slight chance of rain.\n",
      "  \n",
      "### Packing Suggestions\n",
      "- **Clothing**: Light layers (t-shirts, long-sleeve shirts), a light jacket or cardigan for the evening, comfortable walking shoes, and a stylish outfit for dining out.\n",
      "- **Essentials**: Portable phone charger, reusable water bottle, umbrella, and a small backpack for daily essentials.\n",
      "\n",
      "### Budget Breakdown\n",
      "- **Accommodation**: $150 (Hotel Le Relais Saint-Honoré)\n",
      "- **Food**: $70 (Breakfast, lunch, and dinner)\n",
      "- **Attractions**: $50 (Paris Museum Pass)\n",
      "- **Transportation**: $20 (Metro and walking)\n",
      "- **Miscellaneous**: $30 (souvenirs, snacks)\n",
      "  \n",
      "**Total Estimated Budget**: $320\n",
      "\n",
      "---\n",
      "\n",
      "## Detailed Itinerary\n",
      "\n",
      "### Morning\n",
      "**8:00 AM - Breakfast at Café de Flore**  \n",
      "- **Location**: 172 Boulevard Saint-Germain, 75006 Paris  \n",
      "- **Overview**: A historic café known for its intellectual clientele, enjoy a classic French breakfast of croissants, café au lait, and fresh fruit.  \n",
      "- **Cost**: ~$20\n",
      "\n",
      "**9:30 AM - The Louvre Museum**  \n",
      "- **Location**: Rue de Rivoli, 75001 Paris  \n",
      "- **Overview**: Begin your art journey at the Louvre. With your Paris Museum Pass, skip the lines and immerse yourself in masterpieces like the Mona Lisa.  \n",
      "- **Duration**: 2.5 hours  \n",
      "- **Cost**: Included in the Museum Pass\n",
      "\n",
      "### Midday\n",
      "**12:00 PM - Lunch at Le Fumoir**  \n",
      "- **Location**: 6 Rue de l'Amiral de Coligny, 75001 Paris  \n",
      "- **Overview**: Enjoy a leisurely lunch at this stylish brasserie, known for its art deco interior and classic French dishes.  \n",
      "- **Recommendation**: Try the duck confit or the seasonal vegetable tart.  \n",
      "- **Cost**: ~$30\n",
      "\n",
      "**1:30 PM - Musée d'Orsay**  \n",
      "- **Location**: 1 Rue de la Légion d'Honneur, 75007 Paris  \n",
      "- **Overview**: Explore the stunning collection of Impressionist and Post-Impressionist art. Don't miss Monet's Water Lilies and Van Gogh's self-portraits.  \n",
      "- **Duration**: 2 hours  \n",
      "- **Cost**: Included in the Museum Pass\n",
      "\n",
      "### Afternoon\n",
      "**3:30 PM - Centre Pompidou**  \n",
      "- **Location**: Place Georges-Pompidou, 75004 Paris  \n",
      "- **Overview**: Visit this modern art museum and enjoy the unique architecture. Take the elevator to the rooftop terrace for breathtaking views of the city.  \n",
      "- **Duration**: 1.5 hours  \n",
      "- **Cost**: Included in the Museum Pass\n",
      "\n",
      "### Evening\n",
      "**5:00 PM - Stroll through Montmartre**  \n",
      "- **Overview**: Wander through the charming streets of Montmartre, visiting the iconic Sacré-Cœur Basilica. Stop by the Place du Tertre to see local artists at work.  \n",
      "- **Duration**: 1 hour  \n",
      "- **Cost**: Free\n",
      "\n",
      "**6:30 PM - Dinner at Le Consulat**  \n",
      "- **Location**: 18 Rue Norvins, 75018 Paris  \n",
      "- **Overview**: Dine at this picturesque bistro in Montmartre, offering traditional French cuisine in a cozy atmosphere.  \n",
      "- **Recommendation**: Try the French onion soup and crème brûlée for dessert.  \n",
      "- **Cost**: ~$40\n",
      "\n",
      "### Night\n",
      "**8:00 PM - Evening Walk along the Seine**  \n",
      "- **Overview**: End your day with a leisurely stroll along the Seine River, enjoying the illuminated landmarks of Paris, including Notre-Dame Cathedral and the Eiffel Tower.  \n",
      "- **Cost**: Free\n",
      "\n",
      "### Optional Late Night Activity\n",
      "**9:30 PM - Visit a Local Art Gallery in Le Marais**  \n",
      "- **Overview**: Explore the vibrant art scene in Le Marais. Many galleries stay open late, allowing you to discover contemporary art in a trendy setting.  \n",
      "- **Cost**: Free\n",
      "\n",
      "---\n",
      "\n",
      "## Conclusion\n",
      "This one-day itinerary in Paris is designed to provide an enriching experience for art lovers, combining iconic museums, delightful dining, and charming neighborhoods. With careful planning and a budget-friendly approach, you're set for an unforgettable day in the City of Light! Enjoy your trip!\n"
     ]
    }
   ],
   "source": [
    "print(result)"
   ]
  },
  {
   "cell_type": "markdown",
   "id": "58b47dd7-df8d-440f-8a7e-11a2bfafb097",
   "metadata": {},
   "source": [
    "# References\n",
    "\n",
    "https://github.com/sinanuozdemir/oreilly-ai-agents/blob/main/notebooks/CrewAI_Hello_World.ipynb"
   ]
  }
 ],
 "metadata": {
  "kernelspec": {
   "display_name": "Python 3 (ipykernel)",
   "language": "python",
   "name": "python3"
  },
  "language_info": {
   "codemirror_mode": {
    "name": "ipython",
    "version": 3
   },
   "file_extension": ".py",
   "mimetype": "text/x-python",
   "name": "python",
   "nbconvert_exporter": "python",
   "pygments_lexer": "ipython3",
   "version": "3.11.10"
  }
 },
 "nbformat": 4,
 "nbformat_minor": 5
}
