{
 "cells": [
  {
   "cell_type": "markdown",
   "id": "60592b6b-7a12-4232-9439-c54df6a3a517",
   "metadata": {},
   "source": [
    "# Installation"
   ]
  },
  {
   "cell_type": "code",
   "execution_count": 1,
   "id": "3708a796-94ef-4de8-9c6b-0c360072a621",
   "metadata": {},
   "outputs": [],
   "source": [
    "!pip install -q crewai crewai-tools databricks-sdk duckduckgo_search"
   ]
  },
  {
   "cell_type": "markdown",
   "id": "d2182a7c-9222-4449-9a25-6680f32c7019",
   "metadata": {
    "id": "RT7vCRFaDbL1"
   },
   "source": [
    "# Tools"
   ]
  },
  {
   "cell_type": "code",
   "execution_count": 2,
   "id": "5661516c-188f-4ca0-b6c2-94902ca43661",
   "metadata": {},
   "outputs": [
    {
     "name": "stderr",
     "output_type": "stream",
     "text": [
      "/opt/conda/lib/python3.11/site-packages/pydantic/_internal/_config.py:291: PydanticDeprecatedSince20: Support for class-based `config` is deprecated, use ConfigDict instead. Deprecated in Pydantic V2.0 to be removed in V3.0. See Pydantic V2 Migration Guide at https://errors.pydantic.dev/2.9/migration/\n",
      "  warnings.warn(DEPRECATION_MESSAGE, DeprecationWarning)\n",
      "/opt/conda/lib/python3.11/site-packages/pydantic/_internal/_fields.py:172: UserWarning: Field name \"schema\" in \"DatabricksQueryToolSchema\" shadows an attribute in parent \"BaseModel\"\n",
      "  warnings.warn(\n",
      "/opt/conda/lib/python3.11/site-packages/pydantic/_internal/_generate_schema.py:547: UserWarning: <built-in function callable> is not a Python type (it may be an instance of an object), Pydantic will allow any object with no validation since we cannot even enforce that the input is an instance of the given type. To get rid of this error wrap the type with `pydantic.SkipValidation`.\n",
      "  warn(\n",
      "/opt/conda/lib/python3.11/site-packages/crewai_tools/tools/scrapegraph_scrape_tool/scrapegraph_scrape_tool.py:34: PydanticDeprecatedSince20: Pydantic V1 style `@validator` validators are deprecated. You should migrate to Pydantic V2 style `@field_validator` validators, see the migration guide for more details. Deprecated in Pydantic V2.0 to be removed in V3.0. See Pydantic V2 Migration Guide at https://errors.pydantic.dev/2.9/migration/\n",
      "  @validator(\"website_url\")\n",
      "/opt/conda/lib/python3.11/site-packages/crewai_tools/tools/selenium_scraping_tool/selenium_scraping_tool.py:26: PydanticDeprecatedSince20: Pydantic V1 style `@validator` validators are deprecated. You should migrate to Pydantic V2 style `@field_validator` validators, see the migration guide for more details. Deprecated in Pydantic V2.0 to be removed in V3.0. See Pydantic V2 Migration Guide at https://errors.pydantic.dev/2.9/migration/\n",
      "  @validator(\"website_url\")\n",
      "/opt/conda/lib/python3.11/site-packages/crewai_tools/tools/vision_tool/vision_tool.py:15: PydanticDeprecatedSince20: Pydantic V1 style `@validator` validators are deprecated. You should migrate to Pydantic V2 style `@field_validator` validators, see the migration guide for more details. Deprecated in Pydantic V2.0 to be removed in V3.0. See Pydantic V2 Migration Guide at https://errors.pydantic.dev/2.9/migration/\n",
      "  @validator(\"image_path_url\")\n"
     ]
    }
   ],
   "source": [
    "from crewai_tools import ScrapeWebsiteTool\n",
    "from crewai import Agent, Task, Crew, Process\n",
    "import os"
   ]
  },
  {
   "cell_type": "code",
   "execution_count": 3,
   "id": "08d4e066-b863-45e6-b9f5-434ef75ef1d2",
   "metadata": {},
   "outputs": [
    {
     "name": "stdout",
     "output_type": "stream",
     "text": [
      "Using Tool: Read website content\n",
      "\n",
      "Artificial intelligence - Wikipedia\n",
      "Jump to content\n",
      "Main menu\n",
      "Main menu\n",
      "move to sidebar\n",
      "hide\n",
      "Naviga\n"
     ]
    }
   ],
   "source": [
    "# Initialize the tool, potentially passing the session\n",
    "scrape_tool = ScrapeWebsiteTool(website_url='https://en.wikipedia.org/wiki/Artificial_intelligence')\n",
    "\n",
    "# Extract the text\n",
    "text = scrape_tool.run()\n",
    "print(text[:100])"
   ]
  },
  {
   "cell_type": "code",
   "execution_count": 4,
   "id": "faabb401-6b39-42bf-afab-3069f684c4f1",
   "metadata": {
    "id": "rnIlXglbEjHT"
   },
   "outputs": [],
   "source": [
    "import os\n",
    "\n",
    "from langchain_community.tools import DuckDuckGoSearchRun  # Initialize the tool\n",
    "\n",
    "search_ddg_tool = DuckDuckGoSearchRun()"
   ]
  },
  {
   "cell_type": "code",
   "execution_count": 5,
   "id": "bf662cfe-0e4c-4683-acf9-56b2da478376",
   "metadata": {
    "colab": {
     "base_uri": "https://localhost:8080/",
     "height": 161
    },
    "id": "u0E8Ng76QiWQ",
    "outputId": "c1f60d06-0a3d-4759-965a-cc4a143bf531"
   },
   "outputs": [
    {
     "data": {
      "text/plain": [
       "'Learn about Turkey, a country in West Asia and Southeast Europe, with a rich and diverse culture and history. The capital of Turkey is Ankara, and the largest city is Istanbul. Ankara is the national capital of Turkey, located in the northwestern part of the country. It has a rich history dating back to the Stone Age, and was the centre of the Turkish resistance movement against the Ottoman Empire and Greece in 1919. Learn about Ankara, the official capital of Turkey since 1923, and its rich history, culture, and attractions. Discover the best things to see and do in Ankara, from ancient monuments to modern landmarks, and how to get there. Turkey (Türkiye) is a country that occupies a unique geographic position, lying partly in Asia and partly in Europe and serving as both a bridge and a barrier between them. The modern Turkish republic was founded in 1923 after the collapse of the Ottoman Empire, and its capital is Istanbul (formerly Constantinople). Why Ankara is the Capital of Turkey and Not Istanbul? The simple answer is that Ankara became the capital of Turkey in 1923 following the establishment of the modern Turkish Republic.This strategic decision, spearheaded by Mustafa Kemal Atatürk, the founder of the Republic, marked a significant departure from the past, replacing Istanbul (formerly Constantinople) which had served as the ...'"
      ]
     },
     "execution_count": 5,
     "metadata": {},
     "output_type": "execute_result"
    }
   ],
   "source": [
    "search_ddg_tool.run('capital of Turkey')"
   ]
  },
  {
   "cell_type": "code",
   "execution_count": 6,
   "id": "951785a1-c1a0-40d0-bfda-75f63a5b8999",
   "metadata": {
    "id": "CmK2pvdELFM0"
   },
   "outputs": [],
   "source": [
    "import json\n",
    "import os\n",
    "from crewai import Agent, Task\n",
    "from crewai.tools import tool, BaseTool\n",
    "\n",
    "# @tool('DuckDuckGoSearch')\n",
    "# def ddg_search(search_query: str):\n",
    "#     \"\"\"Search the web for information on a given topic\"\"\"\n",
    "#     return search_ddg_tool.run(search_query)\n",
    "\n",
    "class SearchTool(BaseTool):\n",
    "    name: str = \"DuckDuckGo Search\"\n",
    "    description: str = \"\"\"Useful to search the internet about a given topic and return relevant results. Way better than Google...\"\"\"\n",
    "\n",
    "    def _run(self, query: str) -> str:\n",
    "        return search_ddg_tool.run(query)"
   ]
  },
  {
   "cell_type": "markdown",
   "id": "e16214af-4117-4a6b-951a-d64983b0c445",
   "metadata": {},
   "source": [
    "# Agents"
   ]
  },
  {
   "cell_type": "code",
   "execution_count": 7,
   "id": "fc91044a-7625-4ca2-849f-d58cff8ab070",
   "metadata": {},
   "outputs": [],
   "source": [
    "# use langhcain chatllm\n",
    "from langchain_openai import ChatOpenAI\n",
    "\n",
    "llm_model = ChatOpenAI(model_name=\"gpt-4o-mini\", temperature=0.4)"
   ]
  },
  {
   "cell_type": "code",
   "execution_count": 8,
   "id": "d63e2bc6-3796-40df-86b3-196c72a4b2ae",
   "metadata": {
    "id": "j8vrP-TTMPhO"
   },
   "outputs": [],
   "source": [
    "from crewai import Agent\n",
    "\n",
    "class TripAgents():\n",
    "\n",
    "    def local_expert(self):\n",
    "        return Agent(\n",
    "            role='Local Expert at this city',\n",
    "            goal='Provide 2-3 insights about the selected city',\n",
    "            backstory=\"\"\"A knowledgeable local guide with extensive information\n",
    "            about the city, it's attractions and customs\"\"\",\n",
    "            tools=[\n",
    "                SearchTool(),\n",
    "                scrape_tool\n",
    "            ],\n",
    "            llm=llm_model,\n",
    "            verbose=True)\n",
    "\n",
    "    def travel_concierge(self):\n",
    "        return Agent(\n",
    "            role='Amazing Travel Concierge',\n",
    "            goal=\"\"\"Create the most amazing travel itineraries with budget and\n",
    "            packing suggestions for the city\"\"\",\n",
    "            backstory=\"\"\"Specialist in travel planning and logistics with\n",
    "            decades of experience\"\"\",\n",
    "            tools=[],\n",
    "            llm=llm_model,\n",
    "            verbose=True)"
   ]
  },
  {
   "cell_type": "markdown",
   "id": "7288c053-ac2e-4254-87b7-10caa84bfb44",
   "metadata": {},
   "source": [
    "# Tasks"
   ]
  },
  {
   "cell_type": "code",
   "execution_count": 9,
   "id": "2ba6b9be-c245-40cc-bf83-596894b841d6",
   "metadata": {
    "id": "QYe16BtJMqXc"
   },
   "outputs": [],
   "source": [
    "from crewai import Task\n",
    "from textwrap import dedent\n",
    "from datetime import date\n",
    "\n",
    "class TripTasks():\n",
    "\n",
    "  def gather_task(self, agent, origin, city, interests, range):\n",
    "    return Task(description= dedent(f\"\"\"\n",
    "        I want you to create a comprehensive city guide.\n",
    "        This guide should provide a thorough overview of what\n",
    "        the city has to offer, including hidden gems, cultural\n",
    "        hotspots, and must-visit landmarks.\n",
    "\n",
    "        Trip Date: {range}\n",
    "        Traveling from: {origin}\n",
    "        Traveling to: {city}\n",
    "        Traveler Interests: {interests}\n",
    "        \"\"\"),\n",
    "\n",
    "            expected_output=dedent(f\"\"\"\n",
    "        The final answer must be a comprehensive city guide,\n",
    "        rich in cultural insights and practical tips,\n",
    "        tailored to enhance the travel experience.\n",
    "\n",
    "        \"\"\"),\n",
    "            agent=agent)\n",
    "\n",
    "  def plan_task(self, agent, origin, city, interests, range):\n",
    "    return Task(description=dedent(f\"\"\"\n",
    "        Expand this guide into a a full 1-day travel\n",
    "        itinerary with detailed per-day plans, including\n",
    "        weather forecasts, places to eat, packing suggestions,\n",
    "        and a budget breakdown.\n",
    "\n",
    "        You MUST suggest actual places to visit, actual hotels\n",
    "        to stay and actual restaurants to go to.\n",
    "\n",
    "        Trip Date: {range}\n",
    "        Traveling from: {origin}\n",
    "        Traveling to: {city}\n",
    "        Traveler Interests: {interests}\n",
    "      \"\"\"),\n",
    "            expected_output=dedent(f\"\"\"\n",
    "        Your final answer MUST be a complete expanded travel plan,\n",
    "        formatted as markdown, encompassing a daily schedule,\n",
    "        anticipated weather conditions, recommended clothing and\n",
    "        items to pack, and a detailed budget, ensuring THE BEST\n",
    "        TRIP EVER, Be specific and give it a reason why you picked\n",
    "        # up each place, what make them special!\n",
    "        \"\"\"),\n",
    "            agent=agent)"
   ]
  },
  {
   "cell_type": "markdown",
   "id": "311ed9e5-687f-4503-a8a8-0496e3f5ba8d",
   "metadata": {},
   "source": [
    "# Crew definition"
   ]
  },
  {
   "cell_type": "code",
   "execution_count": 10,
   "id": "cb95b3c7-7087-485a-a956-43592d2394cd",
   "metadata": {
    "id": "TgHQj6IDMqjO"
   },
   "outputs": [],
   "source": [
    "class TripCrew:\n",
    "\n",
    "  def __init__(self, origin, city, date_range, interests):\n",
    "    self.city = city\n",
    "    self.origin = origin\n",
    "    self.interests = interests\n",
    "    self.date_range = date_range\n",
    "\n",
    "  def run(self):\n",
    "    agents = TripAgents()\n",
    "    tasks = TripTasks()\n",
    "\n",
    "    gather_task = tasks.gather_task(\n",
    "      agents.local_expert(),\n",
    "      self.origin,\n",
    "      self.city,\n",
    "      self.interests,\n",
    "      self.date_range\n",
    "    )\n",
    "    plan_task = tasks.plan_task(\n",
    "      agents.travel_concierge(),\n",
    "      self.origin,\n",
    "      self.city,\n",
    "      self.interests,\n",
    "      self.date_range\n",
    "    )\n",
    "\n",
    "    # Initiate Crew\n",
    "    crew = Crew(\n",
    "      tasks=[gather_task, plan_task],\n",
    "      process=Process.sequential,\n",
    "      verbose=True\n",
    "    )\n",
    "\n",
    "    result = crew.kickoff()\n",
    "    return result"
   ]
  },
  {
   "cell_type": "markdown",
   "id": "ffb351e5-0b59-4490-96d8-8a05d6c7f158",
   "metadata": {},
   "source": [
    "# Crew usage"
   ]
  },
  {
   "cell_type": "code",
   "execution_count": 11,
   "id": "4d82cb99-9dab-41b9-95e8-491b8675cab3",
   "metadata": {
    "colab": {
     "base_uri": "https://localhost:8080/"
    },
    "id": "dxd8tSOqPdAr",
    "outputId": "06313a84-f6c7-402b-9fb3-28e808693db0",
    "scrolled": true
   },
   "outputs": [
    {
     "data": {
      "text/html": [
       "<pre style=\"white-space:pre;overflow-x:auto;line-height:normal;font-family:Menlo,'DejaVu Sans Mono',consolas,'Courier New',monospace\"><span style=\"color: #008080; text-decoration-color: #008080\">╭──────────────────────────────────────────── Crew Execution Started ─────────────────────────────────────────────╮</span>\n",
       "<span style=\"color: #008080; text-decoration-color: #008080\">│</span>                                                                                                                 <span style=\"color: #008080; text-decoration-color: #008080\">│</span>\n",
       "<span style=\"color: #008080; text-decoration-color: #008080\">│</span>  <span style=\"color: #008080; text-decoration-color: #008080; font-weight: bold\">Crew Execution Started</span>                                                                                         <span style=\"color: #008080; text-decoration-color: #008080\">│</span>\n",
       "<span style=\"color: #008080; text-decoration-color: #008080\">│</span>  <span style=\"color: #c0c0c0; text-decoration-color: #c0c0c0\">Name: </span><span style=\"color: #008080; text-decoration-color: #008080\">crew</span>                                                                                                     <span style=\"color: #008080; text-decoration-color: #008080\">│</span>\n",
       "<span style=\"color: #008080; text-decoration-color: #008080\">│</span>  <span style=\"color: #c0c0c0; text-decoration-color: #c0c0c0\">ID: </span><span style=\"color: #008080; text-decoration-color: #008080\">49a24b55-07fe-4b2d-9ac9-bdf9c882632a</span>                                                                       <span style=\"color: #008080; text-decoration-color: #008080\">│</span>\n",
       "<span style=\"color: #008080; text-decoration-color: #008080\">│</span>                                                                                                                 <span style=\"color: #008080; text-decoration-color: #008080\">│</span>\n",
       "<span style=\"color: #008080; text-decoration-color: #008080\">│</span>                                                                                                                 <span style=\"color: #008080; text-decoration-color: #008080\">│</span>\n",
       "<span style=\"color: #008080; text-decoration-color: #008080\">╰─────────────────────────────────────────────────────────────────────────────────────────────────────────────────╯</span>\n",
       "</pre>\n"
      ],
      "text/plain": [
       "\u001b[36m╭─\u001b[0m\u001b[36m───────────────────────────────────────────\u001b[0m\u001b[36m Crew Execution Started \u001b[0m\u001b[36m────────────────────────────────────────────\u001b[0m\u001b[36m─╮\u001b[0m\n",
       "\u001b[36m│\u001b[0m                                                                                                                 \u001b[36m│\u001b[0m\n",
       "\u001b[36m│\u001b[0m  \u001b[1;36mCrew Execution Started\u001b[0m                                                                                         \u001b[36m│\u001b[0m\n",
       "\u001b[36m│\u001b[0m  \u001b[37mName: \u001b[0m\u001b[36mcrew\u001b[0m                                                                                                     \u001b[36m│\u001b[0m\n",
       "\u001b[36m│\u001b[0m  \u001b[37mID: \u001b[0m\u001b[36m49a24b55-07fe-4b2d-9ac9-bdf9c882632a\u001b[0m                                                                       \u001b[36m│\u001b[0m\n",
       "\u001b[36m│\u001b[0m                                                                                                                 \u001b[36m│\u001b[0m\n",
       "\u001b[36m│\u001b[0m                                                                                                                 \u001b[36m│\u001b[0m\n",
       "\u001b[36m╰─────────────────────────────────────────────────────────────────────────────────────────────────────────────────╯\u001b[0m\n"
      ]
     },
     "metadata": {},
     "output_type": "display_data"
    },
    {
     "data": {
      "text/html": [
       "<pre style=\"white-space:pre;overflow-x:auto;line-height:normal;font-family:Menlo,'DejaVu Sans Mono',consolas,'Courier New',monospace\">\n",
       "</pre>\n"
      ],
      "text/plain": [
       "\n"
      ]
     },
     "metadata": {},
     "output_type": "display_data"
    },
    {
     "data": {
      "text/html": [
       "<pre style=\"white-space:pre;overflow-x:auto;line-height:normal;font-family:Menlo,'DejaVu Sans Mono',consolas,'Courier New',monospace\"><span style=\"color: #008080; text-decoration-color: #008080; font-weight: bold\">🚀 Crew: crew</span>\n",
       "└── <span style=\"color: #808000; text-decoration-color: #808000; font-weight: bold\">📋 Task: f8677191-0163-4645-92e4-c78abd1ebbee</span>\n",
       "    <span style=\"color: #c0c0c0; text-decoration-color: #c0c0c0\">   Status: </span><span style=\"color: #bfbf7f; text-decoration-color: #bfbf7f\">Executing Task...</span>\n",
       "</pre>\n"
      ],
      "text/plain": [
       "\u001b[1;36m🚀 Crew: \u001b[0m\u001b[1;36mcrew\u001b[0m\n",
       "└── \u001b[1;33m📋 Task: f8677191-0163-4645-92e4-c78abd1ebbee\u001b[0m\n",
       "    \u001b[37m   Status: \u001b[0m\u001b[2;33mExecuting Task...\u001b[0m\n"
      ]
     },
     "metadata": {},
     "output_type": "display_data"
    },
    {
     "data": {
      "text/html": [
       "<pre style=\"white-space:pre;overflow-x:auto;line-height:normal;font-family:Menlo,'DejaVu Sans Mono',consolas,'Courier New',monospace\">\n",
       "</pre>\n"
      ],
      "text/plain": [
       "\n"
      ]
     },
     "metadata": {},
     "output_type": "display_data"
    },
    {
     "data": {
      "text/html": [
       "<pre style=\"white-space:pre;overflow-x:auto;line-height:normal;font-family:Menlo,'DejaVu Sans Mono',consolas,'Courier New',monospace\"><span style=\"color: #008080; text-decoration-color: #008080; font-weight: bold\">🚀 Crew: crew</span>\n",
       "└── <span style=\"color: #808000; text-decoration-color: #808000; font-weight: bold\">📋 Task: f8677191-0163-4645-92e4-c78abd1ebbee</span>\n",
       "    <span style=\"color: #c0c0c0; text-decoration-color: #c0c0c0\">   Status: </span><span style=\"color: #bfbf7f; text-decoration-color: #bfbf7f\">Executing Task...</span>\n",
       "    └── <span style=\"color: #008000; text-decoration-color: #008000; font-weight: bold\">🤖 Agent: </span><span style=\"color: #008000; text-decoration-color: #008000\">Local Expert at this city</span>\n",
       "        <span style=\"color: #c0c0c0; text-decoration-color: #c0c0c0\">    Status: </span><span style=\"color: #008000; text-decoration-color: #008000; font-weight: bold\">In Progress</span>\n",
       "</pre>\n"
      ],
      "text/plain": [
       "\u001b[1;36m🚀 Crew: \u001b[0m\u001b[1;36mcrew\u001b[0m\n",
       "└── \u001b[1;33m📋 Task: f8677191-0163-4645-92e4-c78abd1ebbee\u001b[0m\n",
       "    \u001b[37m   Status: \u001b[0m\u001b[2;33mExecuting Task...\u001b[0m\n",
       "    └── \u001b[1;32m🤖 Agent: \u001b[0m\u001b[32mLocal Expert at this city\u001b[0m\n",
       "        \u001b[37m    Status: \u001b[0m\u001b[1;32mIn Progress\u001b[0m\n"
      ]
     },
     "metadata": {},
     "output_type": "display_data"
    },
    {
     "data": {
      "text/html": [
       "<pre style=\"white-space:pre;overflow-x:auto;line-height:normal;font-family:Menlo,'DejaVu Sans Mono',consolas,'Courier New',monospace\">\n",
       "</pre>\n"
      ],
      "text/plain": [
       "\n"
      ]
     },
     "metadata": {},
     "output_type": "display_data"
    },
    {
     "name": "stdout",
     "output_type": "stream",
     "text": [
      "\u001b[1m\u001b[95m# Agent:\u001b[00m \u001b[1m\u001b[92mLocal Expert at this city\u001b[00m\n",
      "\u001b[95m## Task:\u001b[00m \u001b[92m\n",
      "I want you to create a comprehensive city guide.\n",
      "This guide should provide a thorough overview of what\n",
      "the city has to offer, including hidden gems, cultural\n",
      "hotspots, and must-visit landmarks.\n",
      "\n",
      "Trip Date: June 2025\n",
      "Traveling from: SF\n",
      "Traveling to: Paris\n",
      "Traveler Interests: art\n",
      "\u001b[00m\n"
     ]
    },
    {
     "data": {
      "text/html": [
       "<pre style=\"white-space:pre;overflow-x:auto;line-height:normal;font-family:Menlo,'DejaVu Sans Mono',consolas,'Courier New',monospace\"><span style=\"color: #008080; text-decoration-color: #008080; font-weight: bold\">🚀 Crew: crew</span>\n",
       "└── <span style=\"color: #808000; text-decoration-color: #808000; font-weight: bold\">📋 Task: f8677191-0163-4645-92e4-c78abd1ebbee</span>\n",
       "    <span style=\"color: #c0c0c0; text-decoration-color: #c0c0c0\">   Status: </span><span style=\"color: #bfbf7f; text-decoration-color: #bfbf7f\">Executing Task...</span>\n",
       "    └── <span style=\"color: #008000; text-decoration-color: #008000; font-weight: bold\">🤖 Agent: </span><span style=\"color: #008000; text-decoration-color: #008000\">Local Expert at this city</span>\n",
       "        <span style=\"color: #c0c0c0; text-decoration-color: #c0c0c0\">    Status: </span><span style=\"color: #008000; text-decoration-color: #008000; font-weight: bold\">In Progress</span>\n",
       "        └── <span style=\"color: #000080; text-decoration-color: #000080; font-weight: bold\">🧠 </span><span style=\"color: #000080; text-decoration-color: #000080\">Thinking...</span>\n",
       "</pre>\n"
      ],
      "text/plain": [
       "\u001b[1;36m🚀 Crew: \u001b[0m\u001b[1;36mcrew\u001b[0m\n",
       "└── \u001b[1;33m📋 Task: f8677191-0163-4645-92e4-c78abd1ebbee\u001b[0m\n",
       "    \u001b[37m   Status: \u001b[0m\u001b[2;33mExecuting Task...\u001b[0m\n",
       "    └── \u001b[1;32m🤖 Agent: \u001b[0m\u001b[32mLocal Expert at this city\u001b[0m\n",
       "        \u001b[37m    Status: \u001b[0m\u001b[1;32mIn Progress\u001b[0m\n",
       "        └── \u001b[1;34m🧠 \u001b[0m\u001b[34mThinking...\u001b[0m\n"
      ]
     },
     "metadata": {},
     "output_type": "display_data"
    },
    {
     "data": {
      "text/html": [
       "<pre style=\"white-space:pre;overflow-x:auto;line-height:normal;font-family:Menlo,'DejaVu Sans Mono',consolas,'Courier New',monospace\">\n",
       "</pre>\n"
      ],
      "text/plain": [
       "\n"
      ]
     },
     "metadata": {},
     "output_type": "display_data"
    },
    {
     "data": {
      "text/html": [
       "<pre style=\"white-space:pre;overflow-x:auto;line-height:normal;font-family:Menlo,'DejaVu Sans Mono',consolas,'Courier New',monospace\"><span style=\"color: #008080; text-decoration-color: #008080; font-weight: bold\">🚀 Crew: crew</span>\n",
       "└── <span style=\"color: #808000; text-decoration-color: #808000; font-weight: bold\">📋 Task: f8677191-0163-4645-92e4-c78abd1ebbee</span>\n",
       "    <span style=\"color: #c0c0c0; text-decoration-color: #c0c0c0\">   Status: </span><span style=\"color: #bfbf7f; text-decoration-color: #bfbf7f\">Executing Task...</span>\n",
       "    └── <span style=\"color: #008000; text-decoration-color: #008000; font-weight: bold\">🤖 Agent: </span><span style=\"color: #008000; text-decoration-color: #008000\">Local Expert at this city</span>\n",
       "        <span style=\"color: #c0c0c0; text-decoration-color: #c0c0c0\">    Status: </span><span style=\"color: #008000; text-decoration-color: #008000; font-weight: bold\">In Progress</span>\n",
       "</pre>\n"
      ],
      "text/plain": [
       "\u001b[1;36m🚀 Crew: \u001b[0m\u001b[1;36mcrew\u001b[0m\n",
       "└── \u001b[1;33m📋 Task: f8677191-0163-4645-92e4-c78abd1ebbee\u001b[0m\n",
       "    \u001b[37m   Status: \u001b[0m\u001b[2;33mExecuting Task...\u001b[0m\n",
       "    └── \u001b[1;32m🤖 Agent: \u001b[0m\u001b[32mLocal Expert at this city\u001b[0m\n",
       "        \u001b[37m    Status: \u001b[0m\u001b[1;32mIn Progress\u001b[0m\n"
      ]
     },
     "metadata": {},
     "output_type": "display_data"
    },
    {
     "data": {
      "text/html": [
       "<pre style=\"white-space:pre;overflow-x:auto;line-height:normal;font-family:Menlo,'DejaVu Sans Mono',consolas,'Courier New',monospace\">\n",
       "</pre>\n"
      ],
      "text/plain": [
       "\n"
      ]
     },
     "metadata": {},
     "output_type": "display_data"
    },
    {
     "data": {
      "text/html": [
       "<pre style=\"white-space:pre;overflow-x:auto;line-height:normal;font-family:Menlo,'DejaVu Sans Mono',consolas,'Courier New',monospace\"><span style=\"color: #008080; text-decoration-color: #008080; font-weight: bold\">🚀 Crew: crew</span>\n",
       "└── <span style=\"color: #808000; text-decoration-color: #808000; font-weight: bold\">📋 Task: f8677191-0163-4645-92e4-c78abd1ebbee</span>\n",
       "    <span style=\"color: #c0c0c0; text-decoration-color: #c0c0c0\">   Status: </span><span style=\"color: #bfbf7f; text-decoration-color: #bfbf7f\">Executing Task...</span>\n",
       "    └── <span style=\"color: #008000; text-decoration-color: #008000; font-weight: bold\">🤖 Agent: </span><span style=\"color: #008000; text-decoration-color: #008000\">Local Expert at this city</span>\n",
       "        <span style=\"color: #c0c0c0; text-decoration-color: #c0c0c0\">    Status: </span><span style=\"color: #008000; text-decoration-color: #008000; font-weight: bold\">In Progress</span>\n",
       "        └── <span style=\"color: #808000; text-decoration-color: #808000; font-weight: bold\">🔧 </span><span style=\"color: #808000; text-decoration-color: #808000\">Using DuckDuckGo Search (1)</span>\n",
       "</pre>\n"
      ],
      "text/plain": [
       "\u001b[1;36m🚀 Crew: \u001b[0m\u001b[1;36mcrew\u001b[0m\n",
       "└── \u001b[1;33m📋 Task: f8677191-0163-4645-92e4-c78abd1ebbee\u001b[0m\n",
       "    \u001b[37m   Status: \u001b[0m\u001b[2;33mExecuting Task...\u001b[0m\n",
       "    └── \u001b[1;32m🤖 Agent: \u001b[0m\u001b[32mLocal Expert at this city\u001b[0m\n",
       "        \u001b[37m    Status: \u001b[0m\u001b[1;32mIn Progress\u001b[0m\n",
       "        └── \u001b[1;33m🔧 \u001b[0m\u001b[33mUsing DuckDuckGo Search (1)\u001b[0m\n"
      ]
     },
     "metadata": {},
     "output_type": "display_data"
    },
    {
     "data": {
      "text/html": [
       "<pre style=\"white-space:pre;overflow-x:auto;line-height:normal;font-family:Menlo,'DejaVu Sans Mono',consolas,'Courier New',monospace\">\n",
       "</pre>\n"
      ],
      "text/plain": [
       "\n"
      ]
     },
     "metadata": {},
     "output_type": "display_data"
    },
    {
     "data": {
      "text/html": [
       "<pre style=\"white-space:pre;overflow-x:auto;line-height:normal;font-family:Menlo,'DejaVu Sans Mono',consolas,'Courier New',monospace\"><span style=\"color: #008080; text-decoration-color: #008080; font-weight: bold\">🚀 Crew: crew</span>\n",
       "└── <span style=\"color: #808000; text-decoration-color: #808000; font-weight: bold\">📋 Task: f8677191-0163-4645-92e4-c78abd1ebbee</span>\n",
       "    <span style=\"color: #c0c0c0; text-decoration-color: #c0c0c0\">   Status: </span><span style=\"color: #bfbf7f; text-decoration-color: #bfbf7f\">Executing Task...</span>\n",
       "    └── <span style=\"color: #008000; text-decoration-color: #008000; font-weight: bold\">🤖 Agent: </span><span style=\"color: #008000; text-decoration-color: #008000\">Local Expert at this city</span>\n",
       "        <span style=\"color: #c0c0c0; text-decoration-color: #c0c0c0\">    Status: </span><span style=\"color: #008000; text-decoration-color: #008000; font-weight: bold\">In Progress</span>\n",
       "        └── <span style=\"color: #008000; text-decoration-color: #008000; font-weight: bold\">🔧 </span><span style=\"color: #008000; text-decoration-color: #008000\">Used DuckDuckGo Search (1)</span>\n",
       "</pre>\n"
      ],
      "text/plain": [
       "\u001b[1;36m🚀 Crew: \u001b[0m\u001b[1;36mcrew\u001b[0m\n",
       "└── \u001b[1;33m📋 Task: f8677191-0163-4645-92e4-c78abd1ebbee\u001b[0m\n",
       "    \u001b[37m   Status: \u001b[0m\u001b[2;33mExecuting Task...\u001b[0m\n",
       "    └── \u001b[1;32m🤖 Agent: \u001b[0m\u001b[32mLocal Expert at this city\u001b[0m\n",
       "        \u001b[37m    Status: \u001b[0m\u001b[1;32mIn Progress\u001b[0m\n",
       "        └── \u001b[1;32m🔧 \u001b[0m\u001b[32mUsed DuckDuckGo Search (1)\u001b[0m\n"
      ]
     },
     "metadata": {},
     "output_type": "display_data"
    },
    {
     "data": {
      "text/html": [
       "<pre style=\"white-space:pre;overflow-x:auto;line-height:normal;font-family:Menlo,'DejaVu Sans Mono',consolas,'Courier New',monospace\">\n",
       "</pre>\n"
      ],
      "text/plain": [
       "\n"
      ]
     },
     "metadata": {},
     "output_type": "display_data"
    },
    {
     "name": "stdout",
     "output_type": "stream",
     "text": [
      "\n",
      "\n",
      "\u001b[1m\u001b[95m# Agent:\u001b[00m \u001b[1m\u001b[92mLocal Expert at this city\u001b[00m\n",
      "\u001b[95m## Thought:\u001b[00m \u001b[92mI need to gather information about Paris, focusing on art-related attractions, hidden gems, and cultural hotspots to create a comprehensive city guide for the traveler.\u001b[00m\n",
      "\u001b[95m## Using tool:\u001b[00m \u001b[92mDuckDuckGo Search\u001b[00m\n",
      "\u001b[95m## Tool Input:\u001b[00m \u001b[92m\n",
      "\"{\\\"query\\\": \\\"Paris city guide art attractions hidden gems cultural hotspots\\\"}\"\u001b[00m\n",
      "\u001b[95m## Tool Output:\u001b[00m \u001b[92m\n",
      "February 23, 2025Welcome to Gateway Travel's Paris Travel Guide 2025! Designed to enhance your Parisian adventure, our guide covers all the must-see attractions and hidden gems that make the City of Light a traveler's paradise. Paris is a cultural and historical haven, adorned with iconic monuments and delectable cuisine that promises an unforgettable experience.Iconic Landmarks You Can't ... MUST-DO EXPERIENCES HAPPENING NOW IN PARIS Château de Lumières in Vincennes: A fascinating show on the history of the château through the centuries Candlelight show: Perfect if you want to be treated to a candlelit music show in a beautiful Parisian venue: (4.8/10) Cabaret at Moulin Rouge: A cabaret in the iconic Moulin Rouge is a must: (4.7/10) ... Discover hidden gems in Paris, from secret gardens to local hangouts. ... Renovated and reopened in 2008, it now functions as a cultural center, hosting art exhibits, lectures, and events. This impressive, historic site is a unique spot to visit, flying under the radar for most visitors in Paris. ... From quiet parks and historic streets to ... Top Tips for Paris Secret Spots. Our map highlights the locations of the hidden gems we outlined in our list. That said, we also feature many of the sights in our Self-Guided Paris Walking Tours.. Travelers who would rather a guide lead the way can join one of the Hidden Gems Paris Tours - like this one! There are numerous ways to get off the beaten track in Paris - for example, go to ... Day 2: Artistic and Cultural Treasures. On the second day, immerse yourself in Paris' rich artistic and cultural heritage by visiting hidden art museums, secret galleries, and quirky cultural spots that reveal the city's creative soul. Musée de la Chasse et de la Nature\u001b[00m\n"
     ]
    },
    {
     "data": {
      "text/html": [
       "<pre style=\"white-space:pre;overflow-x:auto;line-height:normal;font-family:Menlo,'DejaVu Sans Mono',consolas,'Courier New',monospace\"><span style=\"color: #008080; text-decoration-color: #008080; font-weight: bold\">🚀 Crew: crew</span>\n",
       "└── <span style=\"color: #808000; text-decoration-color: #808000; font-weight: bold\">📋 Task: f8677191-0163-4645-92e4-c78abd1ebbee</span>\n",
       "    <span style=\"color: #c0c0c0; text-decoration-color: #c0c0c0\">   Status: </span><span style=\"color: #bfbf7f; text-decoration-color: #bfbf7f\">Executing Task...</span>\n",
       "    └── <span style=\"color: #008000; text-decoration-color: #008000; font-weight: bold\">🤖 Agent: </span><span style=\"color: #008000; text-decoration-color: #008000\">Local Expert at this city</span>\n",
       "        <span style=\"color: #c0c0c0; text-decoration-color: #c0c0c0\">    Status: </span><span style=\"color: #008000; text-decoration-color: #008000; font-weight: bold\">In Progress</span>\n",
       "        ├── <span style=\"color: #008000; text-decoration-color: #008000; font-weight: bold\">🔧 </span><span style=\"color: #008000; text-decoration-color: #008000\">Used DuckDuckGo Search (1)</span>\n",
       "        └── <span style=\"color: #000080; text-decoration-color: #000080; font-weight: bold\">🧠 </span><span style=\"color: #000080; text-decoration-color: #000080\">Thinking...</span>\n",
       "</pre>\n"
      ],
      "text/plain": [
       "\u001b[1;36m🚀 Crew: \u001b[0m\u001b[1;36mcrew\u001b[0m\n",
       "└── \u001b[1;33m📋 Task: f8677191-0163-4645-92e4-c78abd1ebbee\u001b[0m\n",
       "    \u001b[37m   Status: \u001b[0m\u001b[2;33mExecuting Task...\u001b[0m\n",
       "    └── \u001b[1;32m🤖 Agent: \u001b[0m\u001b[32mLocal Expert at this city\u001b[0m\n",
       "        \u001b[37m    Status: \u001b[0m\u001b[1;32mIn Progress\u001b[0m\n",
       "        ├── \u001b[1;32m🔧 \u001b[0m\u001b[32mUsed DuckDuckGo Search (1)\u001b[0m\n",
       "        └── \u001b[1;34m🧠 \u001b[0m\u001b[34mThinking...\u001b[0m\n"
      ]
     },
     "metadata": {},
     "output_type": "display_data"
    },
    {
     "data": {
      "text/html": [
       "<pre style=\"white-space:pre;overflow-x:auto;line-height:normal;font-family:Menlo,'DejaVu Sans Mono',consolas,'Courier New',monospace\">\n",
       "</pre>\n"
      ],
      "text/plain": [
       "\n"
      ]
     },
     "metadata": {},
     "output_type": "display_data"
    },
    {
     "data": {
      "text/html": [
       "<pre style=\"white-space:pre;overflow-x:auto;line-height:normal;font-family:Menlo,'DejaVu Sans Mono',consolas,'Courier New',monospace\"><span style=\"color: #008080; text-decoration-color: #008080; font-weight: bold\">🚀 Crew: crew</span>\n",
       "└── <span style=\"color: #808000; text-decoration-color: #808000; font-weight: bold\">📋 Task: f8677191-0163-4645-92e4-c78abd1ebbee</span>\n",
       "    <span style=\"color: #c0c0c0; text-decoration-color: #c0c0c0\">   Status: </span><span style=\"color: #bfbf7f; text-decoration-color: #bfbf7f\">Executing Task...</span>\n",
       "    └── <span style=\"color: #008000; text-decoration-color: #008000; font-weight: bold\">🤖 Agent: </span><span style=\"color: #008000; text-decoration-color: #008000\">Local Expert at this city</span>\n",
       "        <span style=\"color: #c0c0c0; text-decoration-color: #c0c0c0\">    Status: </span><span style=\"color: #008000; text-decoration-color: #008000; font-weight: bold\">In Progress</span>\n",
       "        └── <span style=\"color: #008000; text-decoration-color: #008000; font-weight: bold\">🔧 </span><span style=\"color: #008000; text-decoration-color: #008000\">Used DuckDuckGo Search (1)</span>\n",
       "</pre>\n"
      ],
      "text/plain": [
       "\u001b[1;36m🚀 Crew: \u001b[0m\u001b[1;36mcrew\u001b[0m\n",
       "└── \u001b[1;33m📋 Task: f8677191-0163-4645-92e4-c78abd1ebbee\u001b[0m\n",
       "    \u001b[37m   Status: \u001b[0m\u001b[2;33mExecuting Task...\u001b[0m\n",
       "    └── \u001b[1;32m🤖 Agent: \u001b[0m\u001b[32mLocal Expert at this city\u001b[0m\n",
       "        \u001b[37m    Status: \u001b[0m\u001b[1;32mIn Progress\u001b[0m\n",
       "        └── \u001b[1;32m🔧 \u001b[0m\u001b[32mUsed DuckDuckGo Search (1)\u001b[0m\n"
      ]
     },
     "metadata": {},
     "output_type": "display_data"
    },
    {
     "data": {
      "text/html": [
       "<pre style=\"white-space:pre;overflow-x:auto;line-height:normal;font-family:Menlo,'DejaVu Sans Mono',consolas,'Courier New',monospace\">\n",
       "</pre>\n"
      ],
      "text/plain": [
       "\n"
      ]
     },
     "metadata": {},
     "output_type": "display_data"
    },
    {
     "name": "stdout",
     "output_type": "stream",
     "text": [
      "\n",
      "\n",
      "\u001b[1m\u001b[95m# Agent:\u001b[00m \u001b[1m\u001b[92mLocal Expert at this city\u001b[00m\n",
      "\u001b[95m## Final Answer:\u001b[00m \u001b[92m\n",
      "# Comprehensive City Guide to Paris (June 2025)\n",
      "\n",
      "Welcome to Paris, the City of Light! This guide is tailored for art enthusiasts traveling from San Francisco, offering insights into must-visit landmarks, hidden gems, and cultural hotspots that will enrich your experience in this vibrant city.\n",
      "\n",
      "## Must-Visit Art Landmarks\n",
      "\n",
      "1. **Louvre Museum**\n",
      "   - **Overview**: The world's largest art museum and a historic monument in Paris, the Louvre is home to thousands of works, including the Mona Lisa and the Venus de Milo.\n",
      "   - **Tip**: Visit during the evening when the crowds are smaller, and consider booking a guided tour to fully appreciate the art and history.\n",
      "\n",
      "2. **Musée d'Orsay**\n",
      "   - **Overview**: Housed in a former railway station, this museum features an extensive collection of Impressionist and Post-Impressionist masterpieces by artists like Monet, Van Gogh, and Degas.\n",
      "   - **Tip**: Don’t miss the stunning clock in the museum’s main hall for a perfect photo opportunity.\n",
      "\n",
      "3. **Centre Pompidou**\n",
      "   - **Overview**: A modern architectural marvel, this center houses the National Museum of Modern Art, showcasing works from the 20th and 21st centuries.\n",
      "   - **Tip**: Enjoy the panoramic views of Paris from the rooftop terrace.\n",
      "\n",
      "## Hidden Gems\n",
      "\n",
      "1. **Musée de la Chasse et de la Nature**\n",
      "   - **Overview**: This unique museum is dedicated to hunting and nature, featuring a fascinating collection of art, taxidermy, and historical artifacts.\n",
      "   - **Tip**: Look for the hidden garden behind the museum for a peaceful retreat.\n",
      "\n",
      "2. **La Petite Venise**\n",
      "   - **Overview**: Tucked away in the Bois de Vincennes, this charming café is perfect for a quiet lunch after exploring the nearby park.\n",
      "   - **Tip**: Try their homemade pastries and enjoy the serene surroundings.\n",
      "\n",
      "3. **The Promenade Plantée**\n",
      "   - **Overview**: A beautiful elevated park built on an old railway viaduct, offering a unique perspective of the city and a peaceful walking path lined with trees and flowers.\n",
      "   - **Tip**: Bring a picnic and enjoy the views of the surrounding neighborhoods.\n",
      "\n",
      "## Cultural Hotspots\n",
      "\n",
      "1. **Montmartre**\n",
      "   - **Overview**: Famous for its bohemian history, this district is home to the iconic Sacré-Cœur Basilica and offers stunning views of the city.\n",
      "   - **Tip**: Explore the cobblestone streets and visit the Place du Tertre, where local artists display their work.\n",
      "\n",
      "2. **Le Marais**\n",
      "   - **Overview**: A historic district known for its vibrant art scene, boutiques, and galleries. It's a great place to explore contemporary art and fashion.\n",
      "   - **Tip**: Check out the Picasso Museum and enjoy the local cafés.\n",
      "\n",
      "3. **Canal Saint-Martin**\n",
      "   - **Overview**: This picturesque canal area is lined with trendy boutiques and cafés, making it a perfect spot for a leisurely stroll or a coffee break.\n",
      "   - **Tip**: Visit during the evening when the area comes alive with locals enjoying the nightlife.\n",
      "\n",
      "## Practical Tips\n",
      "\n",
      "- **Public Transport**: The Paris Métro is efficient and connects you to all major attractions. Consider getting a Paris Visite pass for unlimited travel.\n",
      "- **Language**: While many Parisians speak English, learning a few basic French phrases can enhance your experience and show respect for the local culture.\n",
      "- **Dining**: Don’t miss trying classic French cuisine. Look for bistros and brasseries for authentic meals. Consider making reservations for popular restaurants.\n",
      "\n",
      "With this guide, you’re all set to explore the artistic heart of Paris. Enjoy your trip and immerse yourself in the beauty and culture of this magnificent city!\u001b[00m\n",
      "\n",
      "\n"
     ]
    },
    {
     "data": {
      "text/html": [
       "<pre style=\"white-space:pre;overflow-x:auto;line-height:normal;font-family:Menlo,'DejaVu Sans Mono',consolas,'Courier New',monospace\"><span style=\"color: #008080; text-decoration-color: #008080; font-weight: bold\">🚀 Crew: crew</span>\n",
       "└── <span style=\"color: #808000; text-decoration-color: #808000; font-weight: bold\">📋 Task: f8677191-0163-4645-92e4-c78abd1ebbee</span>\n",
       "    <span style=\"color: #c0c0c0; text-decoration-color: #c0c0c0\">   Status: </span><span style=\"color: #bfbf7f; text-decoration-color: #bfbf7f\">Executing Task...</span>\n",
       "    └── <span style=\"color: #008000; text-decoration-color: #008000; font-weight: bold\">🤖 Agent: </span><span style=\"color: #008000; text-decoration-color: #008000\">Local Expert at this city</span>\n",
       "        <span style=\"color: #c0c0c0; text-decoration-color: #c0c0c0\">    Status: </span><span style=\"color: #008000; text-decoration-color: #008000; font-weight: bold\">✅ Completed</span>\n",
       "        └── <span style=\"color: #008000; text-decoration-color: #008000; font-weight: bold\">🔧 </span><span style=\"color: #008000; text-decoration-color: #008000\">Used DuckDuckGo Search (1)</span>\n",
       "</pre>\n"
      ],
      "text/plain": [
       "\u001b[1;36m🚀 Crew: \u001b[0m\u001b[1;36mcrew\u001b[0m\n",
       "└── \u001b[1;33m📋 Task: f8677191-0163-4645-92e4-c78abd1ebbee\u001b[0m\n",
       "    \u001b[37m   Status: \u001b[0m\u001b[2;33mExecuting Task...\u001b[0m\n",
       "    └── \u001b[1;32m🤖 Agent: \u001b[0m\u001b[32mLocal Expert at this city\u001b[0m\n",
       "        \u001b[37m    Status: \u001b[0m\u001b[1;32m✅ Completed\u001b[0m\n",
       "        └── \u001b[1;32m🔧 \u001b[0m\u001b[32mUsed DuckDuckGo Search (1)\u001b[0m\n"
      ]
     },
     "metadata": {},
     "output_type": "display_data"
    },
    {
     "data": {
      "text/html": [
       "<pre style=\"white-space:pre;overflow-x:auto;line-height:normal;font-family:Menlo,'DejaVu Sans Mono',consolas,'Courier New',monospace\">\n",
       "</pre>\n"
      ],
      "text/plain": [
       "\n"
      ]
     },
     "metadata": {},
     "output_type": "display_data"
    },
    {
     "data": {
      "text/html": [
       "<pre style=\"white-space:pre;overflow-x:auto;line-height:normal;font-family:Menlo,'DejaVu Sans Mono',consolas,'Courier New',monospace\"><span style=\"color: #008080; text-decoration-color: #008080; font-weight: bold\">🚀 Crew: crew</span>\n",
       "└── <span style=\"color: #008000; text-decoration-color: #008000; font-weight: bold\">📋 Task: f8677191-0163-4645-92e4-c78abd1ebbee</span>\n",
       "    <span style=\"color: #c0c0c0; text-decoration-color: #c0c0c0\">   Assigned to: </span><span style=\"color: #008000; text-decoration-color: #008000\">Local Expert at this city</span>\n",
       "    <span style=\"color: #c0c0c0; text-decoration-color: #c0c0c0\">   Status: </span><span style=\"color: #008000; text-decoration-color: #008000; font-weight: bold\">✅ Completed</span>\n",
       "    └── <span style=\"color: #008000; text-decoration-color: #008000; font-weight: bold\">🤖 Agent: </span><span style=\"color: #008000; text-decoration-color: #008000\">Local Expert at this city</span>\n",
       "        <span style=\"color: #c0c0c0; text-decoration-color: #c0c0c0\">    Status: </span><span style=\"color: #008000; text-decoration-color: #008000; font-weight: bold\">✅ Completed</span>\n",
       "        └── <span style=\"color: #008000; text-decoration-color: #008000; font-weight: bold\">🔧 </span><span style=\"color: #008000; text-decoration-color: #008000\">Used DuckDuckGo Search (1)</span>\n",
       "</pre>\n"
      ],
      "text/plain": [
       "\u001b[1;36m🚀 Crew: \u001b[0m\u001b[1;36mcrew\u001b[0m\n",
       "└── \u001b[1;32m📋 Task: f8677191-0163-4645-92e4-c78abd1ebbee\u001b[0m\n",
       "    \u001b[37m   Assigned to: \u001b[0m\u001b[32mLocal Expert at this city\u001b[0m\n",
       "    \u001b[37m   Status: \u001b[0m\u001b[1;32m✅ Completed\u001b[0m\n",
       "    └── \u001b[1;32m🤖 Agent: \u001b[0m\u001b[32mLocal Expert at this city\u001b[0m\n",
       "        \u001b[37m    Status: \u001b[0m\u001b[1;32m✅ Completed\u001b[0m\n",
       "        └── \u001b[1;32m🔧 \u001b[0m\u001b[32mUsed DuckDuckGo Search (1)\u001b[0m\n"
      ]
     },
     "metadata": {},
     "output_type": "display_data"
    },
    {
     "data": {
      "text/html": [
       "<pre style=\"white-space:pre;overflow-x:auto;line-height:normal;font-family:Menlo,'DejaVu Sans Mono',consolas,'Courier New',monospace\"><span style=\"color: #008000; text-decoration-color: #008000\">╭──────────────────────────────────────────────── Task Completion ────────────────────────────────────────────────╮</span>\n",
       "<span style=\"color: #008000; text-decoration-color: #008000\">│</span>                                                                                                                 <span style=\"color: #008000; text-decoration-color: #008000\">│</span>\n",
       "<span style=\"color: #008000; text-decoration-color: #008000\">│</span>  <span style=\"color: #008000; text-decoration-color: #008000; font-weight: bold\">Task Completed</span>                                                                                                 <span style=\"color: #008000; text-decoration-color: #008000\">│</span>\n",
       "<span style=\"color: #008000; text-decoration-color: #008000\">│</span>  <span style=\"color: #c0c0c0; text-decoration-color: #c0c0c0\">Name: </span><span style=\"color: #008000; text-decoration-color: #008000\">f8677191-0163-4645-92e4-c78abd1ebbee</span>                                                                     <span style=\"color: #008000; text-decoration-color: #008000\">│</span>\n",
       "<span style=\"color: #008000; text-decoration-color: #008000\">│</span>  <span style=\"color: #c0c0c0; text-decoration-color: #c0c0c0\">Agent: </span><span style=\"color: #008000; text-decoration-color: #008000\">Local Expert at this city</span>                                                                               <span style=\"color: #008000; text-decoration-color: #008000\">│</span>\n",
       "<span style=\"color: #008000; text-decoration-color: #008000\">│</span>                                                                                                                 <span style=\"color: #008000; text-decoration-color: #008000\">│</span>\n",
       "<span style=\"color: #008000; text-decoration-color: #008000\">│</span>                                                                                                                 <span style=\"color: #008000; text-decoration-color: #008000\">│</span>\n",
       "<span style=\"color: #008000; text-decoration-color: #008000\">╰─────────────────────────────────────────────────────────────────────────────────────────────────────────────────╯</span>\n",
       "</pre>\n"
      ],
      "text/plain": [
       "\u001b[32m╭─\u001b[0m\u001b[32m───────────────────────────────────────────────\u001b[0m\u001b[32m Task Completion \u001b[0m\u001b[32m───────────────────────────────────────────────\u001b[0m\u001b[32m─╮\u001b[0m\n",
       "\u001b[32m│\u001b[0m                                                                                                                 \u001b[32m│\u001b[0m\n",
       "\u001b[32m│\u001b[0m  \u001b[1;32mTask Completed\u001b[0m                                                                                                 \u001b[32m│\u001b[0m\n",
       "\u001b[32m│\u001b[0m  \u001b[37mName: \u001b[0m\u001b[32mf8677191-0163-4645-92e4-c78abd1ebbee\u001b[0m                                                                     \u001b[32m│\u001b[0m\n",
       "\u001b[32m│\u001b[0m  \u001b[37mAgent: \u001b[0m\u001b[32mLocal Expert at this city\u001b[0m                                                                               \u001b[32m│\u001b[0m\n",
       "\u001b[32m│\u001b[0m                                                                                                                 \u001b[32m│\u001b[0m\n",
       "\u001b[32m│\u001b[0m                                                                                                                 \u001b[32m│\u001b[0m\n",
       "\u001b[32m╰─────────────────────────────────────────────────────────────────────────────────────────────────────────────────╯\u001b[0m\n"
      ]
     },
     "metadata": {},
     "output_type": "display_data"
    },
    {
     "data": {
      "text/html": [
       "<pre style=\"white-space:pre;overflow-x:auto;line-height:normal;font-family:Menlo,'DejaVu Sans Mono',consolas,'Courier New',monospace\">\n",
       "</pre>\n"
      ],
      "text/plain": [
       "\n"
      ]
     },
     "metadata": {},
     "output_type": "display_data"
    },
    {
     "data": {
      "text/html": [
       "<pre style=\"white-space:pre;overflow-x:auto;line-height:normal;font-family:Menlo,'DejaVu Sans Mono',consolas,'Courier New',monospace\"><span style=\"color: #008080; text-decoration-color: #008080; font-weight: bold\">🚀 Crew: crew</span>\n",
       "├── <span style=\"color: #008000; text-decoration-color: #008000; font-weight: bold\">📋 Task: f8677191-0163-4645-92e4-c78abd1ebbee</span>\n",
       "│   <span style=\"color: #c0c0c0; text-decoration-color: #c0c0c0\">   Assigned to: </span><span style=\"color: #008000; text-decoration-color: #008000\">Local Expert at this city</span>\n",
       "│   <span style=\"color: #c0c0c0; text-decoration-color: #c0c0c0\">   Status: </span><span style=\"color: #008000; text-decoration-color: #008000; font-weight: bold\">✅ Completed</span>\n",
       "│   └── <span style=\"color: #008000; text-decoration-color: #008000; font-weight: bold\">🤖 Agent: </span><span style=\"color: #008000; text-decoration-color: #008000\">Local Expert at this city</span>\n",
       "│       <span style=\"color: #c0c0c0; text-decoration-color: #c0c0c0\">    Status: </span><span style=\"color: #008000; text-decoration-color: #008000; font-weight: bold\">✅ Completed</span>\n",
       "│       └── <span style=\"color: #008000; text-decoration-color: #008000; font-weight: bold\">🔧 </span><span style=\"color: #008000; text-decoration-color: #008000\">Used DuckDuckGo Search (1)</span>\n",
       "└── <span style=\"color: #808000; text-decoration-color: #808000; font-weight: bold\">📋 Task: 7f2ce256-bf70-4632-ac0e-cfd3dc2530b9</span>\n",
       "    <span style=\"color: #c0c0c0; text-decoration-color: #c0c0c0\">   Status: </span><span style=\"color: #bfbf7f; text-decoration-color: #bfbf7f\">Executing Task...</span>\n",
       "</pre>\n"
      ],
      "text/plain": [
       "\u001b[1;36m🚀 Crew: \u001b[0m\u001b[1;36mcrew\u001b[0m\n",
       "├── \u001b[1;32m📋 Task: f8677191-0163-4645-92e4-c78abd1ebbee\u001b[0m\n",
       "│   \u001b[37m   Assigned to: \u001b[0m\u001b[32mLocal Expert at this city\u001b[0m\n",
       "│   \u001b[37m   Status: \u001b[0m\u001b[1;32m✅ Completed\u001b[0m\n",
       "│   └── \u001b[1;32m🤖 Agent: \u001b[0m\u001b[32mLocal Expert at this city\u001b[0m\n",
       "│       \u001b[37m    Status: \u001b[0m\u001b[1;32m✅ Completed\u001b[0m\n",
       "│       └── \u001b[1;32m🔧 \u001b[0m\u001b[32mUsed DuckDuckGo Search (1)\u001b[0m\n",
       "└── \u001b[1;33m📋 Task: 7f2ce256-bf70-4632-ac0e-cfd3dc2530b9\u001b[0m\n",
       "    \u001b[37m   Status: \u001b[0m\u001b[2;33mExecuting Task...\u001b[0m\n"
      ]
     },
     "metadata": {},
     "output_type": "display_data"
    },
    {
     "data": {
      "text/html": [
       "<pre style=\"white-space:pre;overflow-x:auto;line-height:normal;font-family:Menlo,'DejaVu Sans Mono',consolas,'Courier New',monospace\">\n",
       "</pre>\n"
      ],
      "text/plain": [
       "\n"
      ]
     },
     "metadata": {},
     "output_type": "display_data"
    },
    {
     "data": {
      "text/html": [
       "<pre style=\"white-space:pre;overflow-x:auto;line-height:normal;font-family:Menlo,'DejaVu Sans Mono',consolas,'Courier New',monospace\"><span style=\"color: #008080; text-decoration-color: #008080; font-weight: bold\">🚀 Crew: crew</span>\n",
       "├── <span style=\"color: #008000; text-decoration-color: #008000; font-weight: bold\">📋 Task: f8677191-0163-4645-92e4-c78abd1ebbee</span>\n",
       "│   <span style=\"color: #c0c0c0; text-decoration-color: #c0c0c0\">   Assigned to: </span><span style=\"color: #008000; text-decoration-color: #008000\">Local Expert at this city</span>\n",
       "│   <span style=\"color: #c0c0c0; text-decoration-color: #c0c0c0\">   Status: </span><span style=\"color: #008000; text-decoration-color: #008000; font-weight: bold\">✅ Completed</span>\n",
       "│   └── <span style=\"color: #008000; text-decoration-color: #008000; font-weight: bold\">🤖 Agent: </span><span style=\"color: #008000; text-decoration-color: #008000\">Local Expert at this city</span>\n",
       "│       <span style=\"color: #c0c0c0; text-decoration-color: #c0c0c0\">    Status: </span><span style=\"color: #008000; text-decoration-color: #008000; font-weight: bold\">✅ Completed</span>\n",
       "│       └── <span style=\"color: #008000; text-decoration-color: #008000; font-weight: bold\">🔧 </span><span style=\"color: #008000; text-decoration-color: #008000\">Used DuckDuckGo Search (1)</span>\n",
       "└── <span style=\"color: #808000; text-decoration-color: #808000; font-weight: bold\">📋 Task: 7f2ce256-bf70-4632-ac0e-cfd3dc2530b9</span>\n",
       "    <span style=\"color: #c0c0c0; text-decoration-color: #c0c0c0\">   Status: </span><span style=\"color: #bfbf7f; text-decoration-color: #bfbf7f\">Executing Task...</span>\n",
       "    └── <span style=\"color: #008000; text-decoration-color: #008000; font-weight: bold\">🤖 Agent: </span><span style=\"color: #008000; text-decoration-color: #008000\">Amazing Travel Concierge</span>\n",
       "        <span style=\"color: #c0c0c0; text-decoration-color: #c0c0c0\">    Status: </span><span style=\"color: #008000; text-decoration-color: #008000; font-weight: bold\">In Progress</span>\n",
       "</pre>\n"
      ],
      "text/plain": [
       "\u001b[1;36m🚀 Crew: \u001b[0m\u001b[1;36mcrew\u001b[0m\n",
       "├── \u001b[1;32m📋 Task: f8677191-0163-4645-92e4-c78abd1ebbee\u001b[0m\n",
       "│   \u001b[37m   Assigned to: \u001b[0m\u001b[32mLocal Expert at this city\u001b[0m\n",
       "│   \u001b[37m   Status: \u001b[0m\u001b[1;32m✅ Completed\u001b[0m\n",
       "│   └── \u001b[1;32m🤖 Agent: \u001b[0m\u001b[32mLocal Expert at this city\u001b[0m\n",
       "│       \u001b[37m    Status: \u001b[0m\u001b[1;32m✅ Completed\u001b[0m\n",
       "│       └── \u001b[1;32m🔧 \u001b[0m\u001b[32mUsed DuckDuckGo Search (1)\u001b[0m\n",
       "└── \u001b[1;33m📋 Task: 7f2ce256-bf70-4632-ac0e-cfd3dc2530b9\u001b[0m\n",
       "    \u001b[37m   Status: \u001b[0m\u001b[2;33mExecuting Task...\u001b[0m\n",
       "    └── \u001b[1;32m🤖 Agent: \u001b[0m\u001b[32mAmazing Travel Concierge\u001b[0m\n",
       "        \u001b[37m    Status: \u001b[0m\u001b[1;32mIn Progress\u001b[0m\n"
      ]
     },
     "metadata": {},
     "output_type": "display_data"
    },
    {
     "data": {
      "text/html": [
       "<pre style=\"white-space:pre;overflow-x:auto;line-height:normal;font-family:Menlo,'DejaVu Sans Mono',consolas,'Courier New',monospace\">\n",
       "</pre>\n"
      ],
      "text/plain": [
       "\n"
      ]
     },
     "metadata": {},
     "output_type": "display_data"
    },
    {
     "name": "stdout",
     "output_type": "stream",
     "text": [
      "\u001b[1m\u001b[95m# Agent:\u001b[00m \u001b[1m\u001b[92mAmazing Travel Concierge\u001b[00m\n",
      "\u001b[95m## Task:\u001b[00m \u001b[92m\n",
      "Expand this guide into a a full 1-day travel\n",
      "itinerary with detailed per-day plans, including\n",
      "weather forecasts, places to eat, packing suggestions,\n",
      "and a budget breakdown.\n",
      "\n",
      "You MUST suggest actual places to visit, actual hotels\n",
      "to stay and actual restaurants to go to.\n",
      "\n",
      "Trip Date: June 2025\n",
      "Traveling from: SF\n",
      "Traveling to: Paris\n",
      "Traveler Interests: art\n",
      "\u001b[00m\n"
     ]
    },
    {
     "data": {
      "text/html": [
       "<pre style=\"white-space:pre;overflow-x:auto;line-height:normal;font-family:Menlo,'DejaVu Sans Mono',consolas,'Courier New',monospace\"><span style=\"color: #008080; text-decoration-color: #008080; font-weight: bold\">🚀 Crew: crew</span>\n",
       "├── <span style=\"color: #008000; text-decoration-color: #008000; font-weight: bold\">📋 Task: f8677191-0163-4645-92e4-c78abd1ebbee</span>\n",
       "│   <span style=\"color: #c0c0c0; text-decoration-color: #c0c0c0\">   Assigned to: </span><span style=\"color: #008000; text-decoration-color: #008000\">Local Expert at this city</span>\n",
       "│   <span style=\"color: #c0c0c0; text-decoration-color: #c0c0c0\">   Status: </span><span style=\"color: #008000; text-decoration-color: #008000; font-weight: bold\">✅ Completed</span>\n",
       "│   └── <span style=\"color: #008000; text-decoration-color: #008000; font-weight: bold\">🤖 Agent: </span><span style=\"color: #008000; text-decoration-color: #008000\">Local Expert at this city</span>\n",
       "│       <span style=\"color: #c0c0c0; text-decoration-color: #c0c0c0\">    Status: </span><span style=\"color: #008000; text-decoration-color: #008000; font-weight: bold\">✅ Completed</span>\n",
       "│       └── <span style=\"color: #008000; text-decoration-color: #008000; font-weight: bold\">🔧 </span><span style=\"color: #008000; text-decoration-color: #008000\">Used DuckDuckGo Search (1)</span>\n",
       "└── <span style=\"color: #808000; text-decoration-color: #808000; font-weight: bold\">📋 Task: 7f2ce256-bf70-4632-ac0e-cfd3dc2530b9</span>\n",
       "    <span style=\"color: #c0c0c0; text-decoration-color: #c0c0c0\">   Status: </span><span style=\"color: #bfbf7f; text-decoration-color: #bfbf7f\">Executing Task...</span>\n",
       "    └── <span style=\"color: #008000; text-decoration-color: #008000; font-weight: bold\">🤖 Agent: </span><span style=\"color: #008000; text-decoration-color: #008000\">Amazing Travel Concierge</span>\n",
       "        <span style=\"color: #c0c0c0; text-decoration-color: #c0c0c0\">    Status: </span><span style=\"color: #008000; text-decoration-color: #008000; font-weight: bold\">In Progress</span>\n",
       "        └── <span style=\"color: #000080; text-decoration-color: #000080; font-weight: bold\">🧠 </span><span style=\"color: #000080; text-decoration-color: #000080\">Thinking...</span>\n",
       "</pre>\n"
      ],
      "text/plain": [
       "\u001b[1;36m🚀 Crew: \u001b[0m\u001b[1;36mcrew\u001b[0m\n",
       "├── \u001b[1;32m📋 Task: f8677191-0163-4645-92e4-c78abd1ebbee\u001b[0m\n",
       "│   \u001b[37m   Assigned to: \u001b[0m\u001b[32mLocal Expert at this city\u001b[0m\n",
       "│   \u001b[37m   Status: \u001b[0m\u001b[1;32m✅ Completed\u001b[0m\n",
       "│   └── \u001b[1;32m🤖 Agent: \u001b[0m\u001b[32mLocal Expert at this city\u001b[0m\n",
       "│       \u001b[37m    Status: \u001b[0m\u001b[1;32m✅ Completed\u001b[0m\n",
       "│       └── \u001b[1;32m🔧 \u001b[0m\u001b[32mUsed DuckDuckGo Search (1)\u001b[0m\n",
       "└── \u001b[1;33m📋 Task: 7f2ce256-bf70-4632-ac0e-cfd3dc2530b9\u001b[0m\n",
       "    \u001b[37m   Status: \u001b[0m\u001b[2;33mExecuting Task...\u001b[0m\n",
       "    └── \u001b[1;32m🤖 Agent: \u001b[0m\u001b[32mAmazing Travel Concierge\u001b[0m\n",
       "        \u001b[37m    Status: \u001b[0m\u001b[1;32mIn Progress\u001b[0m\n",
       "        └── \u001b[1;34m🧠 \u001b[0m\u001b[34mThinking...\u001b[0m\n"
      ]
     },
     "metadata": {},
     "output_type": "display_data"
    },
    {
     "data": {
      "text/html": [
       "<pre style=\"white-space:pre;overflow-x:auto;line-height:normal;font-family:Menlo,'DejaVu Sans Mono',consolas,'Courier New',monospace\">\n",
       "</pre>\n"
      ],
      "text/plain": [
       "\n"
      ]
     },
     "metadata": {},
     "output_type": "display_data"
    },
    {
     "data": {
      "text/html": [
       "<pre style=\"white-space:pre;overflow-x:auto;line-height:normal;font-family:Menlo,'DejaVu Sans Mono',consolas,'Courier New',monospace\"><span style=\"color: #008080; text-decoration-color: #008080; font-weight: bold\">🚀 Crew: crew</span>\n",
       "├── <span style=\"color: #008000; text-decoration-color: #008000; font-weight: bold\">📋 Task: f8677191-0163-4645-92e4-c78abd1ebbee</span>\n",
       "│   <span style=\"color: #c0c0c0; text-decoration-color: #c0c0c0\">   Assigned to: </span><span style=\"color: #008000; text-decoration-color: #008000\">Local Expert at this city</span>\n",
       "│   <span style=\"color: #c0c0c0; text-decoration-color: #c0c0c0\">   Status: </span><span style=\"color: #008000; text-decoration-color: #008000; font-weight: bold\">✅ Completed</span>\n",
       "│   └── <span style=\"color: #008000; text-decoration-color: #008000; font-weight: bold\">🤖 Agent: </span><span style=\"color: #008000; text-decoration-color: #008000\">Local Expert at this city</span>\n",
       "│       <span style=\"color: #c0c0c0; text-decoration-color: #c0c0c0\">    Status: </span><span style=\"color: #008000; text-decoration-color: #008000; font-weight: bold\">✅ Completed</span>\n",
       "│       └── <span style=\"color: #008000; text-decoration-color: #008000; font-weight: bold\">🔧 </span><span style=\"color: #008000; text-decoration-color: #008000\">Used DuckDuckGo Search (1)</span>\n",
       "└── <span style=\"color: #808000; text-decoration-color: #808000; font-weight: bold\">📋 Task: 7f2ce256-bf70-4632-ac0e-cfd3dc2530b9</span>\n",
       "    <span style=\"color: #c0c0c0; text-decoration-color: #c0c0c0\">   Status: </span><span style=\"color: #bfbf7f; text-decoration-color: #bfbf7f\">Executing Task...</span>\n",
       "    └── <span style=\"color: #008000; text-decoration-color: #008000; font-weight: bold\">🤖 Agent: </span><span style=\"color: #008000; text-decoration-color: #008000\">Amazing Travel Concierge</span>\n",
       "        <span style=\"color: #c0c0c0; text-decoration-color: #c0c0c0\">    Status: </span><span style=\"color: #008000; text-decoration-color: #008000; font-weight: bold\">In Progress</span>\n",
       "</pre>\n"
      ],
      "text/plain": [
       "\u001b[1;36m🚀 Crew: \u001b[0m\u001b[1;36mcrew\u001b[0m\n",
       "├── \u001b[1;32m📋 Task: f8677191-0163-4645-92e4-c78abd1ebbee\u001b[0m\n",
       "│   \u001b[37m   Assigned to: \u001b[0m\u001b[32mLocal Expert at this city\u001b[0m\n",
       "│   \u001b[37m   Status: \u001b[0m\u001b[1;32m✅ Completed\u001b[0m\n",
       "│   └── \u001b[1;32m🤖 Agent: \u001b[0m\u001b[32mLocal Expert at this city\u001b[0m\n",
       "│       \u001b[37m    Status: \u001b[0m\u001b[1;32m✅ Completed\u001b[0m\n",
       "│       └── \u001b[1;32m🔧 \u001b[0m\u001b[32mUsed DuckDuckGo Search (1)\u001b[0m\n",
       "└── \u001b[1;33m📋 Task: 7f2ce256-bf70-4632-ac0e-cfd3dc2530b9\u001b[0m\n",
       "    \u001b[37m   Status: \u001b[0m\u001b[2;33mExecuting Task...\u001b[0m\n",
       "    └── \u001b[1;32m🤖 Agent: \u001b[0m\u001b[32mAmazing Travel Concierge\u001b[0m\n",
       "        \u001b[37m    Status: \u001b[0m\u001b[1;32mIn Progress\u001b[0m\n"
      ]
     },
     "metadata": {},
     "output_type": "display_data"
    },
    {
     "data": {
      "text/html": [
       "<pre style=\"white-space:pre;overflow-x:auto;line-height:normal;font-family:Menlo,'DejaVu Sans Mono',consolas,'Courier New',monospace\">\n",
       "</pre>\n"
      ],
      "text/plain": [
       "\n"
      ]
     },
     "metadata": {},
     "output_type": "display_data"
    },
    {
     "name": "stdout",
     "output_type": "stream",
     "text": [
      "\n",
      "\n",
      "\u001b[1m\u001b[95m# Agent:\u001b[00m \u001b[1m\u001b[92mAmazing Travel Concierge\u001b[00m\n",
      "\u001b[95m## Final Answer:\u001b[00m \u001b[92m\n",
      "# Amazing 1-Day Travel Itinerary for Paris (June 2025)\n",
      "\n",
      "Welcome to your personalized one-day itinerary in Paris, designed specifically for art enthusiasts traveling from San Francisco. Get ready to immerse yourself in the beauty and culture of the City of Light!\n",
      "\n",
      "## Weather Forecast for June 2025\n",
      "- **Temperature**: High of 75°F (24°C), Low of 57°F (14°C)\n",
      "- **Conditions**: Mostly sunny with a slight chance of rain in the evening.\n",
      "- **Packing Suggestions**: \n",
      "  - Light layers (t-shirts, a light sweater or jacket)\n",
      "  - Comfortable walking shoes\n",
      "  - A small umbrella or raincoat (just in case)\n",
      "  - A reusable water bottle\n",
      "\n",
      "## Daily Schedule\n",
      "\n",
      "### Morning: Art at the Louvre\n",
      "- **8:00 AM - Breakfast at Café Marly**\n",
      "  - **Location**: 93 Rue de Rivoli, 75001 Paris\n",
      "  - **Why**: Enjoy a classic French breakfast with a view of the Louvre Pyramid. Try their croissants and café au lait.\n",
      "  \n",
      "- **9:00 AM - Visit the Louvre Museum**\n",
      "  - **Duration**: 2.5 hours\n",
      "  - **Tip**: Book a timed entry ticket in advance to skip the lines. Focus on the highlights: the Mona Lisa, the Winged Victory of Samothrace, and the Venus de Milo.\n",
      "  \n",
      "### Midday: Impressionism at Musée d'Orsay\n",
      "- **11:30 AM - Walk to Musée d'Orsay**\n",
      "  - **Distance**: 15-minute walk along the Seine River.\n",
      "  \n",
      "- **12:00 PM - Lunch at Le Musée**\n",
      "  - **Location**: Inside Musée d'Orsay\n",
      "  - **Why**: A lovely restaurant with a view of the museum's clock. Try their seasonal dishes and desserts.\n",
      "  \n",
      "- **1:00 PM - Explore Musée d'Orsay**\n",
      "  - **Duration**: 2 hours\n",
      "  - **Tip**: Don’t miss the Impressionist masterpieces by Monet and Van Gogh. The building itself is a work of art.\n",
      "\n",
      "### Afternoon: Modern Art at Centre Pompidou\n",
      "- **3:00 PM - Head to Centre Pompidou**\n",
      "  - **Transportation**: Take Metro Line 12 from Solférino to Rambuteau (about 15 minutes).\n",
      "  \n",
      "- **3:30 PM - Visit Centre Pompidou**\n",
      "  - **Duration**: 1.5 hours\n",
      "  - **Tip**: Explore the National Museum of Modern Art and enjoy the rooftop views of Paris.\n",
      "\n",
      "### Late Afternoon: Hidden Gem - Musée de la Chasse et de la Nature\n",
      "- **5:00 PM - Visit Musée de la Chasse et de la Nature**\n",
      "  - **Duration**: 1 hour\n",
      "  - **Location**: 62 Rue des Archives, 75003 Paris\n",
      "  - **Why**: This unique museum offers a fascinating perspective on art related to nature and hunting. The hidden garden is a must-see!\n",
      "\n",
      "### Evening: Stroll and Dinner in Montmartre\n",
      "- **6:30 PM - Head to Montmartre**\n",
      "  - **Transportation**: Take Metro Line 11 from Rambuteau to Château d'Eau, then Line 4 to Barbès-Rochechouart (about 20 minutes).\n",
      "  \n",
      "- **7:00 PM - Dinner at Le Consulat**\n",
      "  - **Location**: 18 Rue Norvins, 75018 Paris\n",
      "  - **Why**: A charming bistro in Montmartre, perfect for enjoying traditional French cuisine. Try the coq au vin or duck confit.\n",
      "  \n",
      "- **8:30 PM - Explore Montmartre**\n",
      "  - **Tip**: Visit the Sacré-Cœur Basilica for stunning views of the city at sunset. Wander through the cobblestone streets and check out local artists at Place du Tertre.\n",
      "\n",
      "### Night: Relax at Canal Saint-Martin\n",
      "- **9:30 PM - Evening stroll at Canal Saint-Martin**\n",
      "  - **Transportation**: Take Metro Line 2 from Anvers to Jaurès (about 20 minutes).\n",
      "  - **Why**: This picturesque area is perfect for a leisurely walk. Enjoy the vibrant atmosphere and consider stopping for a nightcap at a local café.\n",
      "\n",
      "## Budget Breakdown\n",
      "| Item                           | Cost (USD)      |\n",
      "|--------------------------------|-----------------|\n",
      "| Breakfast at Café Marly       | $15             |\n",
      "| Louvre Museum Entry           | $20             |\n",
      "| Lunch at Le Musée             | $25             |\n",
      "| Musée d'Orsay Entry           | $15             |\n",
      "| Dinner at Le Consulat         | $35             |\n",
      "| Evening drink at Canal Saint-Martin | $10       |\n",
      "| **Total**                     | **$110**        |\n",
      "\n",
      "**Note**: Public transport costs are not included in the budget. Consider a Paris Visite pass for unlimited travel.\n",
      "\n",
      "With this detailed itinerary, you are all set to experience the artistic heart of Paris in just one day. Enjoy your trip, and immerse yourself in the beauty and culture of this magnificent city!\u001b[00m\n",
      "\n",
      "\n"
     ]
    },
    {
     "data": {
      "text/html": [
       "<pre style=\"white-space:pre;overflow-x:auto;line-height:normal;font-family:Menlo,'DejaVu Sans Mono',consolas,'Courier New',monospace\"><span style=\"color: #008080; text-decoration-color: #008080; font-weight: bold\">🚀 Crew: crew</span>\n",
       "├── <span style=\"color: #008000; text-decoration-color: #008000; font-weight: bold\">📋 Task: f8677191-0163-4645-92e4-c78abd1ebbee</span>\n",
       "│   <span style=\"color: #c0c0c0; text-decoration-color: #c0c0c0\">   Assigned to: </span><span style=\"color: #008000; text-decoration-color: #008000\">Local Expert at this city</span>\n",
       "│   <span style=\"color: #c0c0c0; text-decoration-color: #c0c0c0\">   Status: </span><span style=\"color: #008000; text-decoration-color: #008000; font-weight: bold\">✅ Completed</span>\n",
       "│   └── <span style=\"color: #008000; text-decoration-color: #008000; font-weight: bold\">🤖 Agent: </span><span style=\"color: #008000; text-decoration-color: #008000\">Local Expert at this city</span>\n",
       "│       <span style=\"color: #c0c0c0; text-decoration-color: #c0c0c0\">    Status: </span><span style=\"color: #008000; text-decoration-color: #008000; font-weight: bold\">✅ Completed</span>\n",
       "│       └── <span style=\"color: #008000; text-decoration-color: #008000; font-weight: bold\">🔧 </span><span style=\"color: #008000; text-decoration-color: #008000\">Used DuckDuckGo Search (1)</span>\n",
       "└── <span style=\"color: #808000; text-decoration-color: #808000; font-weight: bold\">📋 Task: 7f2ce256-bf70-4632-ac0e-cfd3dc2530b9</span>\n",
       "    <span style=\"color: #c0c0c0; text-decoration-color: #c0c0c0\">   Status: </span><span style=\"color: #bfbf7f; text-decoration-color: #bfbf7f\">Executing Task...</span>\n",
       "    └── <span style=\"color: #008000; text-decoration-color: #008000; font-weight: bold\">🤖 Agent: </span><span style=\"color: #008000; text-decoration-color: #008000\">Amazing Travel Concierge</span>\n",
       "        <span style=\"color: #c0c0c0; text-decoration-color: #c0c0c0\">    Status: </span><span style=\"color: #008000; text-decoration-color: #008000; font-weight: bold\">✅ Completed</span>\n",
       "</pre>\n"
      ],
      "text/plain": [
       "\u001b[1;36m🚀 Crew: \u001b[0m\u001b[1;36mcrew\u001b[0m\n",
       "├── \u001b[1;32m📋 Task: f8677191-0163-4645-92e4-c78abd1ebbee\u001b[0m\n",
       "│   \u001b[37m   Assigned to: \u001b[0m\u001b[32mLocal Expert at this city\u001b[0m\n",
       "│   \u001b[37m   Status: \u001b[0m\u001b[1;32m✅ Completed\u001b[0m\n",
       "│   └── \u001b[1;32m🤖 Agent: \u001b[0m\u001b[32mLocal Expert at this city\u001b[0m\n",
       "│       \u001b[37m    Status: \u001b[0m\u001b[1;32m✅ Completed\u001b[0m\n",
       "│       └── \u001b[1;32m🔧 \u001b[0m\u001b[32mUsed DuckDuckGo Search (1)\u001b[0m\n",
       "└── \u001b[1;33m📋 Task: 7f2ce256-bf70-4632-ac0e-cfd3dc2530b9\u001b[0m\n",
       "    \u001b[37m   Status: \u001b[0m\u001b[2;33mExecuting Task...\u001b[0m\n",
       "    └── \u001b[1;32m🤖 Agent: \u001b[0m\u001b[32mAmazing Travel Concierge\u001b[0m\n",
       "        \u001b[37m    Status: \u001b[0m\u001b[1;32m✅ Completed\u001b[0m\n"
      ]
     },
     "metadata": {},
     "output_type": "display_data"
    },
    {
     "data": {
      "text/html": [
       "<pre style=\"white-space:pre;overflow-x:auto;line-height:normal;font-family:Menlo,'DejaVu Sans Mono',consolas,'Courier New',monospace\">\n",
       "</pre>\n"
      ],
      "text/plain": [
       "\n"
      ]
     },
     "metadata": {},
     "output_type": "display_data"
    },
    {
     "data": {
      "text/html": [
       "<pre style=\"white-space:pre;overflow-x:auto;line-height:normal;font-family:Menlo,'DejaVu Sans Mono',consolas,'Courier New',monospace\"><span style=\"color: #008080; text-decoration-color: #008080; font-weight: bold\">🚀 Crew: crew</span>\n",
       "├── <span style=\"color: #008000; text-decoration-color: #008000; font-weight: bold\">📋 Task: f8677191-0163-4645-92e4-c78abd1ebbee</span>\n",
       "│   <span style=\"color: #c0c0c0; text-decoration-color: #c0c0c0\">   Assigned to: </span><span style=\"color: #008000; text-decoration-color: #008000\">Local Expert at this city</span>\n",
       "│   <span style=\"color: #c0c0c0; text-decoration-color: #c0c0c0\">   Status: </span><span style=\"color: #008000; text-decoration-color: #008000; font-weight: bold\">✅ Completed</span>\n",
       "│   └── <span style=\"color: #008000; text-decoration-color: #008000; font-weight: bold\">🤖 Agent: </span><span style=\"color: #008000; text-decoration-color: #008000\">Local Expert at this city</span>\n",
       "│       <span style=\"color: #c0c0c0; text-decoration-color: #c0c0c0\">    Status: </span><span style=\"color: #008000; text-decoration-color: #008000; font-weight: bold\">✅ Completed</span>\n",
       "│       └── <span style=\"color: #008000; text-decoration-color: #008000; font-weight: bold\">🔧 </span><span style=\"color: #008000; text-decoration-color: #008000\">Used DuckDuckGo Search (1)</span>\n",
       "└── <span style=\"color: #008000; text-decoration-color: #008000; font-weight: bold\">📋 Task: 7f2ce256-bf70-4632-ac0e-cfd3dc2530b9</span>\n",
       "    <span style=\"color: #c0c0c0; text-decoration-color: #c0c0c0\">   Assigned to: </span><span style=\"color: #008000; text-decoration-color: #008000\">Amazing Travel Concierge</span>\n",
       "    <span style=\"color: #c0c0c0; text-decoration-color: #c0c0c0\">   Status: </span><span style=\"color: #008000; text-decoration-color: #008000; font-weight: bold\">✅ Completed</span>\n",
       "    └── <span style=\"color: #008000; text-decoration-color: #008000; font-weight: bold\">🤖 Agent: </span><span style=\"color: #008000; text-decoration-color: #008000\">Amazing Travel Concierge</span>\n",
       "        <span style=\"color: #c0c0c0; text-decoration-color: #c0c0c0\">    Status: </span><span style=\"color: #008000; text-decoration-color: #008000; font-weight: bold\">✅ Completed</span>\n",
       "</pre>\n"
      ],
      "text/plain": [
       "\u001b[1;36m🚀 Crew: \u001b[0m\u001b[1;36mcrew\u001b[0m\n",
       "├── \u001b[1;32m📋 Task: f8677191-0163-4645-92e4-c78abd1ebbee\u001b[0m\n",
       "│   \u001b[37m   Assigned to: \u001b[0m\u001b[32mLocal Expert at this city\u001b[0m\n",
       "│   \u001b[37m   Status: \u001b[0m\u001b[1;32m✅ Completed\u001b[0m\n",
       "│   └── \u001b[1;32m🤖 Agent: \u001b[0m\u001b[32mLocal Expert at this city\u001b[0m\n",
       "│       \u001b[37m    Status: \u001b[0m\u001b[1;32m✅ Completed\u001b[0m\n",
       "│       └── \u001b[1;32m🔧 \u001b[0m\u001b[32mUsed DuckDuckGo Search (1)\u001b[0m\n",
       "└── \u001b[1;32m📋 Task: 7f2ce256-bf70-4632-ac0e-cfd3dc2530b9\u001b[0m\n",
       "    \u001b[37m   Assigned to: \u001b[0m\u001b[32mAmazing Travel Concierge\u001b[0m\n",
       "    \u001b[37m   Status: \u001b[0m\u001b[1;32m✅ Completed\u001b[0m\n",
       "    └── \u001b[1;32m🤖 Agent: \u001b[0m\u001b[32mAmazing Travel Concierge\u001b[0m\n",
       "        \u001b[37m    Status: \u001b[0m\u001b[1;32m✅ Completed\u001b[0m\n"
      ]
     },
     "metadata": {},
     "output_type": "display_data"
    },
    {
     "data": {
      "text/html": [
       "<pre style=\"white-space:pre;overflow-x:auto;line-height:normal;font-family:Menlo,'DejaVu Sans Mono',consolas,'Courier New',monospace\"><span style=\"color: #008000; text-decoration-color: #008000\">╭──────────────────────────────────────────────── Task Completion ────────────────────────────────────────────────╮</span>\n",
       "<span style=\"color: #008000; text-decoration-color: #008000\">│</span>                                                                                                                 <span style=\"color: #008000; text-decoration-color: #008000\">│</span>\n",
       "<span style=\"color: #008000; text-decoration-color: #008000\">│</span>  <span style=\"color: #008000; text-decoration-color: #008000; font-weight: bold\">Task Completed</span>                                                                                                 <span style=\"color: #008000; text-decoration-color: #008000\">│</span>\n",
       "<span style=\"color: #008000; text-decoration-color: #008000\">│</span>  <span style=\"color: #c0c0c0; text-decoration-color: #c0c0c0\">Name: </span><span style=\"color: #008000; text-decoration-color: #008000\">7f2ce256-bf70-4632-ac0e-cfd3dc2530b9</span>                                                                     <span style=\"color: #008000; text-decoration-color: #008000\">│</span>\n",
       "<span style=\"color: #008000; text-decoration-color: #008000\">│</span>  <span style=\"color: #c0c0c0; text-decoration-color: #c0c0c0\">Agent: </span><span style=\"color: #008000; text-decoration-color: #008000\">Amazing Travel Concierge</span>                                                                                <span style=\"color: #008000; text-decoration-color: #008000\">│</span>\n",
       "<span style=\"color: #008000; text-decoration-color: #008000\">│</span>                                                                                                                 <span style=\"color: #008000; text-decoration-color: #008000\">│</span>\n",
       "<span style=\"color: #008000; text-decoration-color: #008000\">│</span>                                                                                                                 <span style=\"color: #008000; text-decoration-color: #008000\">│</span>\n",
       "<span style=\"color: #008000; text-decoration-color: #008000\">╰─────────────────────────────────────────────────────────────────────────────────────────────────────────────────╯</span>\n",
       "</pre>\n"
      ],
      "text/plain": [
       "\u001b[32m╭─\u001b[0m\u001b[32m───────────────────────────────────────────────\u001b[0m\u001b[32m Task Completion \u001b[0m\u001b[32m───────────────────────────────────────────────\u001b[0m\u001b[32m─╮\u001b[0m\n",
       "\u001b[32m│\u001b[0m                                                                                                                 \u001b[32m│\u001b[0m\n",
       "\u001b[32m│\u001b[0m  \u001b[1;32mTask Completed\u001b[0m                                                                                                 \u001b[32m│\u001b[0m\n",
       "\u001b[32m│\u001b[0m  \u001b[37mName: \u001b[0m\u001b[32m7f2ce256-bf70-4632-ac0e-cfd3dc2530b9\u001b[0m                                                                     \u001b[32m│\u001b[0m\n",
       "\u001b[32m│\u001b[0m  \u001b[37mAgent: \u001b[0m\u001b[32mAmazing Travel Concierge\u001b[0m                                                                                \u001b[32m│\u001b[0m\n",
       "\u001b[32m│\u001b[0m                                                                                                                 \u001b[32m│\u001b[0m\n",
       "\u001b[32m│\u001b[0m                                                                                                                 \u001b[32m│\u001b[0m\n",
       "\u001b[32m╰─────────────────────────────────────────────────────────────────────────────────────────────────────────────────╯\u001b[0m\n"
      ]
     },
     "metadata": {},
     "output_type": "display_data"
    },
    {
     "data": {
      "text/html": [
       "<pre style=\"white-space:pre;overflow-x:auto;line-height:normal;font-family:Menlo,'DejaVu Sans Mono',consolas,'Courier New',monospace\">\n",
       "</pre>\n"
      ],
      "text/plain": [
       "\n"
      ]
     },
     "metadata": {},
     "output_type": "display_data"
    },
    {
     "data": {
      "text/html": [
       "<pre style=\"white-space:pre;overflow-x:auto;line-height:normal;font-family:Menlo,'DejaVu Sans Mono',consolas,'Courier New',monospace\"><span style=\"color: #008000; text-decoration-color: #008000\">╭──────────────────────────────────────────────── Crew Completion ────────────────────────────────────────────────╮</span>\n",
       "<span style=\"color: #008000; text-decoration-color: #008000\">│</span>                                                                                                                 <span style=\"color: #008000; text-decoration-color: #008000\">│</span>\n",
       "<span style=\"color: #008000; text-decoration-color: #008000\">│</span>  <span style=\"color: #008000; text-decoration-color: #008000; font-weight: bold\">Crew Execution Completed</span>                                                                                       <span style=\"color: #008000; text-decoration-color: #008000\">│</span>\n",
       "<span style=\"color: #008000; text-decoration-color: #008000\">│</span>  <span style=\"color: #c0c0c0; text-decoration-color: #c0c0c0\">Name: </span><span style=\"color: #008000; text-decoration-color: #008000\">crew</span>                                                                                                     <span style=\"color: #008000; text-decoration-color: #008000\">│</span>\n",
       "<span style=\"color: #008000; text-decoration-color: #008000\">│</span>  <span style=\"color: #c0c0c0; text-decoration-color: #c0c0c0\">ID: </span><span style=\"color: #008000; text-decoration-color: #008000\">49a24b55-07fe-4b2d-9ac9-bdf9c882632a</span>                                                                       <span style=\"color: #008000; text-decoration-color: #008000\">│</span>\n",
       "<span style=\"color: #008000; text-decoration-color: #008000\">│</span>                                                                                                                 <span style=\"color: #008000; text-decoration-color: #008000\">│</span>\n",
       "<span style=\"color: #008000; text-decoration-color: #008000\">│</span>                                                                                                                 <span style=\"color: #008000; text-decoration-color: #008000\">│</span>\n",
       "<span style=\"color: #008000; text-decoration-color: #008000\">╰─────────────────────────────────────────────────────────────────────────────────────────────────────────────────╯</span>\n",
       "</pre>\n"
      ],
      "text/plain": [
       "\u001b[32m╭─\u001b[0m\u001b[32m───────────────────────────────────────────────\u001b[0m\u001b[32m Crew Completion \u001b[0m\u001b[32m───────────────────────────────────────────────\u001b[0m\u001b[32m─╮\u001b[0m\n",
       "\u001b[32m│\u001b[0m                                                                                                                 \u001b[32m│\u001b[0m\n",
       "\u001b[32m│\u001b[0m  \u001b[1;32mCrew Execution Completed\u001b[0m                                                                                       \u001b[32m│\u001b[0m\n",
       "\u001b[32m│\u001b[0m  \u001b[37mName: \u001b[0m\u001b[32mcrew\u001b[0m                                                                                                     \u001b[32m│\u001b[0m\n",
       "\u001b[32m│\u001b[0m  \u001b[37mID: \u001b[0m\u001b[32m49a24b55-07fe-4b2d-9ac9-bdf9c882632a\u001b[0m                                                                       \u001b[32m│\u001b[0m\n",
       "\u001b[32m│\u001b[0m                                                                                                                 \u001b[32m│\u001b[0m\n",
       "\u001b[32m│\u001b[0m                                                                                                                 \u001b[32m│\u001b[0m\n",
       "\u001b[32m╰─────────────────────────────────────────────────────────────────────────────────────────────────────────────────╯\u001b[0m\n"
      ]
     },
     "metadata": {},
     "output_type": "display_data"
    },
    {
     "data": {
      "text/html": [
       "<pre style=\"white-space:pre;overflow-x:auto;line-height:normal;font-family:Menlo,'DejaVu Sans Mono',consolas,'Courier New',monospace\">\n",
       "</pre>\n"
      ],
      "text/plain": [
       "\n"
      ]
     },
     "metadata": {},
     "output_type": "display_data"
    }
   ],
   "source": [
    "trip_crew = TripCrew('SF', \"Paris\", 'June 2025', 'art')\n",
    "result = trip_crew.run()"
   ]
  },
  {
   "cell_type": "code",
   "execution_count": 12,
   "id": "25b7e634-f4a1-4400-a7d8-212c64afc49c",
   "metadata": {
    "colab": {
     "base_uri": "https://localhost:8080/"
    },
    "id": "CyfyYvi7PyPk",
    "outputId": "44944593-ad50-4372-c966-422a1fb599d3",
    "scrolled": true
   },
   "outputs": [
    {
     "name": "stdout",
     "output_type": "stream",
     "text": [
      "# Amazing 1-Day Travel Itinerary for Paris (June 2025)\n",
      "\n",
      "Welcome to your personalized one-day itinerary in Paris, designed specifically for art enthusiasts traveling from San Francisco. Get ready to immerse yourself in the beauty and culture of the City of Light!\n",
      "\n",
      "## Weather Forecast for June 2025\n",
      "- **Temperature**: High of 75°F (24°C), Low of 57°F (14°C)\n",
      "- **Conditions**: Mostly sunny with a slight chance of rain in the evening.\n",
      "- **Packing Suggestions**: \n",
      "  - Light layers (t-shirts, a light sweater or jacket)\n",
      "  - Comfortable walking shoes\n",
      "  - A small umbrella or raincoat (just in case)\n",
      "  - A reusable water bottle\n",
      "\n",
      "## Daily Schedule\n",
      "\n",
      "### Morning: Art at the Louvre\n",
      "- **8:00 AM - Breakfast at Café Marly**\n",
      "  - **Location**: 93 Rue de Rivoli, 75001 Paris\n",
      "  - **Why**: Enjoy a classic French breakfast with a view of the Louvre Pyramid. Try their croissants and café au lait.\n",
      "  \n",
      "- **9:00 AM - Visit the Louvre Museum**\n",
      "  - **Duration**: 2.5 hours\n",
      "  - **Tip**: Book a timed entry ticket in advance to skip the lines. Focus on the highlights: the Mona Lisa, the Winged Victory of Samothrace, and the Venus de Milo.\n",
      "  \n",
      "### Midday: Impressionism at Musée d'Orsay\n",
      "- **11:30 AM - Walk to Musée d'Orsay**\n",
      "  - **Distance**: 15-minute walk along the Seine River.\n",
      "  \n",
      "- **12:00 PM - Lunch at Le Musée**\n",
      "  - **Location**: Inside Musée d'Orsay\n",
      "  - **Why**: A lovely restaurant with a view of the museum's clock. Try their seasonal dishes and desserts.\n",
      "  \n",
      "- **1:00 PM - Explore Musée d'Orsay**\n",
      "  - **Duration**: 2 hours\n",
      "  - **Tip**: Don’t miss the Impressionist masterpieces by Monet and Van Gogh. The building itself is a work of art.\n",
      "\n",
      "### Afternoon: Modern Art at Centre Pompidou\n",
      "- **3:00 PM - Head to Centre Pompidou**\n",
      "  - **Transportation**: Take Metro Line 12 from Solférino to Rambuteau (about 15 minutes).\n",
      "  \n",
      "- **3:30 PM - Visit Centre Pompidou**\n",
      "  - **Duration**: 1.5 hours\n",
      "  - **Tip**: Explore the National Museum of Modern Art and enjoy the rooftop views of Paris.\n",
      "\n",
      "### Late Afternoon: Hidden Gem - Musée de la Chasse et de la Nature\n",
      "- **5:00 PM - Visit Musée de la Chasse et de la Nature**\n",
      "  - **Duration**: 1 hour\n",
      "  - **Location**: 62 Rue des Archives, 75003 Paris\n",
      "  - **Why**: This unique museum offers a fascinating perspective on art related to nature and hunting. The hidden garden is a must-see!\n",
      "\n",
      "### Evening: Stroll and Dinner in Montmartre\n",
      "- **6:30 PM - Head to Montmartre**\n",
      "  - **Transportation**: Take Metro Line 11 from Rambuteau to Château d'Eau, then Line 4 to Barbès-Rochechouart (about 20 minutes).\n",
      "  \n",
      "- **7:00 PM - Dinner at Le Consulat**\n",
      "  - **Location**: 18 Rue Norvins, 75018 Paris\n",
      "  - **Why**: A charming bistro in Montmartre, perfect for enjoying traditional French cuisine. Try the coq au vin or duck confit.\n",
      "  \n",
      "- **8:30 PM - Explore Montmartre**\n",
      "  - **Tip**: Visit the Sacré-Cœur Basilica for stunning views of the city at sunset. Wander through the cobblestone streets and check out local artists at Place du Tertre.\n",
      "\n",
      "### Night: Relax at Canal Saint-Martin\n",
      "- **9:30 PM - Evening stroll at Canal Saint-Martin**\n",
      "  - **Transportation**: Take Metro Line 2 from Anvers to Jaurès (about 20 minutes).\n",
      "  - **Why**: This picturesque area is perfect for a leisurely walk. Enjoy the vibrant atmosphere and consider stopping for a nightcap at a local café.\n",
      "\n",
      "## Budget Breakdown\n",
      "| Item                           | Cost (USD)      |\n",
      "|--------------------------------|-----------------|\n",
      "| Breakfast at Café Marly       | $15             |\n",
      "| Louvre Museum Entry           | $20             |\n",
      "| Lunch at Le Musée             | $25             |\n",
      "| Musée d'Orsay Entry           | $15             |\n",
      "| Dinner at Le Consulat         | $35             |\n",
      "| Evening drink at Canal Saint-Martin | $10       |\n",
      "| **Total**                     | **$110**        |\n",
      "\n",
      "**Note**: Public transport costs are not included in the budget. Consider a Paris Visite pass for unlimited travel.\n",
      "\n",
      "With this detailed itinerary, you are all set to experience the artistic heart of Paris in just one day. Enjoy your trip, and immerse yourself in the beauty and culture of this magnificent city!\n"
     ]
    }
   ],
   "source": [
    "print(result)"
   ]
  },
  {
   "cell_type": "markdown",
   "id": "58b47dd7-df8d-440f-8a7e-11a2bfafb097",
   "metadata": {},
   "source": [
    "# References\n",
    "\n",
    "https://github.com/sinanuozdemir/oreilly-ai-agents/blob/main/notebooks/CrewAI_Hello_World.ipynb"
   ]
  }
 ],
 "metadata": {
  "kernelspec": {
   "display_name": "Python 3 (ipykernel)",
   "language": "python",
   "name": "python3"
  },
  "language_info": {
   "codemirror_mode": {
    "name": "ipython",
    "version": 3
   },
   "file_extension": ".py",
   "mimetype": "text/x-python",
   "name": "python",
   "nbconvert_exporter": "python",
   "pygments_lexer": "ipython3",
   "version": "3.11.10"
  }
 },
 "nbformat": 4,
 "nbformat_minor": 5
}
