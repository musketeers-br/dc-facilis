{
 "cells": [
  {
   "cell_type": "markdown",
   "id": "76a7b25e-27dc-4d64-b290-f261d853d554",
   "metadata": {},
   "source": [
    "# Installation"
   ]
  },
  {
   "cell_type": "code",
   "execution_count": 1,
   "id": "8a9684fd-d6ca-448b-9b99-8f083b5e244e",
   "metadata": {},
   "outputs": [],
   "source": [
    "!pip install -q crewai crewai-tools databricks-sdk duckduckgo_search"
   ]
  },
  {
   "cell_type": "markdown",
   "id": "31168aa7-1237-4b3c-98e1-b83f73aa1592",
   "metadata": {},
   "source": [
    "# Crew execution"
   ]
  },
  {
   "cell_type": "code",
   "execution_count": 2,
   "id": "c9904fd5-313b-4c85-8f31-0eb63b18cb57",
   "metadata": {},
   "outputs": [
    {
     "name": "stderr",
     "output_type": "stream",
     "text": [
      "/opt/conda/lib/python3.11/site-packages/pydantic/_internal/_config.py:291: PydanticDeprecatedSince20: Support for class-based `config` is deprecated, use ConfigDict instead. Deprecated in Pydantic V2.0 to be removed in V3.0. See Pydantic V2 Migration Guide at https://errors.pydantic.dev/2.9/migration/\n",
      "  warnings.warn(DEPRECATION_MESSAGE, DeprecationWarning)\n",
      "/opt/conda/lib/python3.11/site-packages/pydantic/_internal/_fields.py:172: UserWarning: Field name \"schema\" in \"DatabricksQueryToolSchema\" shadows an attribute in parent \"BaseModel\"\n",
      "  warnings.warn(\n",
      "/opt/conda/lib/python3.11/site-packages/pydantic/_internal/_generate_schema.py:547: UserWarning: <built-in function callable> is not a Python type (it may be an instance of an object), Pydantic will allow any object with no validation since we cannot even enforce that the input is an instance of the given type. To get rid of this error wrap the type with `pydantic.SkipValidation`.\n",
      "  warn(\n",
      "/opt/conda/lib/python3.11/site-packages/crewai_tools/tools/scrapegraph_scrape_tool/scrapegraph_scrape_tool.py:34: PydanticDeprecatedSince20: Pydantic V1 style `@validator` validators are deprecated. You should migrate to Pydantic V2 style `@field_validator` validators, see the migration guide for more details. Deprecated in Pydantic V2.0 to be removed in V3.0. See Pydantic V2 Migration Guide at https://errors.pydantic.dev/2.9/migration/\n",
      "  @validator(\"website_url\")\n",
      "/opt/conda/lib/python3.11/site-packages/crewai_tools/tools/selenium_scraping_tool/selenium_scraping_tool.py:26: PydanticDeprecatedSince20: Pydantic V1 style `@validator` validators are deprecated. You should migrate to Pydantic V2 style `@field_validator` validators, see the migration guide for more details. Deprecated in Pydantic V2.0 to be removed in V3.0. See Pydantic V2 Migration Guide at https://errors.pydantic.dev/2.9/migration/\n",
      "  @validator(\"website_url\")\n",
      "/opt/conda/lib/python3.11/site-packages/crewai_tools/tools/vision_tool/vision_tool.py:15: PydanticDeprecatedSince20: Pydantic V1 style `@validator` validators are deprecated. You should migrate to Pydantic V2 style `@field_validator` validators, see the migration guide for more details. Deprecated in Pydantic V2.0 to be removed in V3.0. See Pydantic V2 Migration Guide at https://errors.pydantic.dev/2.9/migration/\n",
      "  @validator(\"image_path_url\")\n"
     ]
    },
    {
     "data": {
      "text/html": [
       "<pre style=\"white-space:pre;overflow-x:auto;line-height:normal;font-family:Menlo,'DejaVu Sans Mono',consolas,'Courier New',monospace\"><span style=\"color: #008080; text-decoration-color: #008080\">╭──────────────────────────────────────────── Crew Execution Started ─────────────────────────────────────────────╮</span>\n",
       "<span style=\"color: #008080; text-decoration-color: #008080\">│</span>                                                                                                                 <span style=\"color: #008080; text-decoration-color: #008080\">│</span>\n",
       "<span style=\"color: #008080; text-decoration-color: #008080\">│</span>  <span style=\"color: #008080; text-decoration-color: #008080; font-weight: bold\">Crew Execution Started</span>                                                                                         <span style=\"color: #008080; text-decoration-color: #008080\">│</span>\n",
       "<span style=\"color: #008080; text-decoration-color: #008080\">│</span>  <span style=\"color: #c0c0c0; text-decoration-color: #c0c0c0\">Name: </span><span style=\"color: #008080; text-decoration-color: #008080\">crew</span>                                                                                                     <span style=\"color: #008080; text-decoration-color: #008080\">│</span>\n",
       "<span style=\"color: #008080; text-decoration-color: #008080\">│</span>  <span style=\"color: #c0c0c0; text-decoration-color: #c0c0c0\">ID: </span><span style=\"color: #008080; text-decoration-color: #008080\">d86343f3-5908-47e5-8f61-1bf1fc7ae78d</span>                                                                       <span style=\"color: #008080; text-decoration-color: #008080\">│</span>\n",
       "<span style=\"color: #008080; text-decoration-color: #008080\">│</span>                                                                                                                 <span style=\"color: #008080; text-decoration-color: #008080\">│</span>\n",
       "<span style=\"color: #008080; text-decoration-color: #008080\">│</span>                                                                                                                 <span style=\"color: #008080; text-decoration-color: #008080\">│</span>\n",
       "<span style=\"color: #008080; text-decoration-color: #008080\">╰─────────────────────────────────────────────────────────────────────────────────────────────────────────────────╯</span>\n",
       "</pre>\n"
      ],
      "text/plain": [
       "\u001b[36m╭─\u001b[0m\u001b[36m───────────────────────────────────────────\u001b[0m\u001b[36m Crew Execution Started \u001b[0m\u001b[36m────────────────────────────────────────────\u001b[0m\u001b[36m─╮\u001b[0m\n",
       "\u001b[36m│\u001b[0m                                                                                                                 \u001b[36m│\u001b[0m\n",
       "\u001b[36m│\u001b[0m  \u001b[1;36mCrew Execution Started\u001b[0m                                                                                         \u001b[36m│\u001b[0m\n",
       "\u001b[36m│\u001b[0m  \u001b[37mName: \u001b[0m\u001b[36mcrew\u001b[0m                                                                                                     \u001b[36m│\u001b[0m\n",
       "\u001b[36m│\u001b[0m  \u001b[37mID: \u001b[0m\u001b[36md86343f3-5908-47e5-8f61-1bf1fc7ae78d\u001b[0m                                                                       \u001b[36m│\u001b[0m\n",
       "\u001b[36m│\u001b[0m                                                                                                                 \u001b[36m│\u001b[0m\n",
       "\u001b[36m│\u001b[0m                                                                                                                 \u001b[36m│\u001b[0m\n",
       "\u001b[36m╰─────────────────────────────────────────────────────────────────────────────────────────────────────────────────╯\u001b[0m\n"
      ]
     },
     "metadata": {},
     "output_type": "display_data"
    },
    {
     "data": {
      "text/html": [
       "<pre style=\"white-space:pre;overflow-x:auto;line-height:normal;font-family:Menlo,'DejaVu Sans Mono',consolas,'Courier New',monospace\">\n",
       "</pre>\n"
      ],
      "text/plain": [
       "\n"
      ]
     },
     "metadata": {},
     "output_type": "display_data"
    },
    {
     "data": {
      "text/html": [
       "<pre style=\"white-space:pre;overflow-x:auto;line-height:normal;font-family:Menlo,'DejaVu Sans Mono',consolas,'Courier New',monospace\"><span style=\"color: #008080; text-decoration-color: #008080; font-weight: bold\">🚀 Crew: crew</span>\n",
       "└── <span style=\"color: #808000; text-decoration-color: #808000; font-weight: bold\">📋 Task: a67c0889-dbd4-4cd0-b4a2-139873abe43f</span>\n",
       "    <span style=\"color: #c0c0c0; text-decoration-color: #c0c0c0\">   Status: </span><span style=\"color: #bfbf7f; text-decoration-color: #bfbf7f\">Executing Task...</span>\n",
       "</pre>\n"
      ],
      "text/plain": [
       "\u001b[1;36m🚀 Crew: \u001b[0m\u001b[1;36mcrew\u001b[0m\n",
       "└── \u001b[1;33m📋 Task: a67c0889-dbd4-4cd0-b4a2-139873abe43f\u001b[0m\n",
       "    \u001b[37m   Status: \u001b[0m\u001b[2;33mExecuting Task...\u001b[0m\n"
      ]
     },
     "metadata": {},
     "output_type": "display_data"
    },
    {
     "data": {
      "text/html": [
       "<pre style=\"white-space:pre;overflow-x:auto;line-height:normal;font-family:Menlo,'DejaVu Sans Mono',consolas,'Courier New',monospace\">\n",
       "</pre>\n"
      ],
      "text/plain": [
       "\n"
      ]
     },
     "metadata": {},
     "output_type": "display_data"
    },
    {
     "data": {
      "text/html": [
       "<pre style=\"white-space:pre;overflow-x:auto;line-height:normal;font-family:Menlo,'DejaVu Sans Mono',consolas,'Courier New',monospace\"><span style=\"color: #008080; text-decoration-color: #008080; font-weight: bold\">🚀 Crew: crew</span>\n",
       "└── <span style=\"color: #808000; text-decoration-color: #808000; font-weight: bold\">📋 Task: a67c0889-dbd4-4cd0-b4a2-139873abe43f</span>\n",
       "    <span style=\"color: #c0c0c0; text-decoration-color: #c0c0c0\">   Status: </span><span style=\"color: #bfbf7f; text-decoration-color: #bfbf7f\">Executing Task...</span>\n",
       "    └── <span style=\"color: #008000; text-decoration-color: #008000; font-weight: bold\">🤖 Agent: </span><span style=\"color: #008000; text-decoration-color: #008000\">Local Expert at this city.</span>\n",
       "        \n",
       "        <span style=\"color: #c0c0c0; text-decoration-color: #c0c0c0\">    Status: </span><span style=\"color: #008000; text-decoration-color: #008000; font-weight: bold\">In Progress</span>\n",
       "</pre>\n"
      ],
      "text/plain": [
       "\u001b[1;36m🚀 Crew: \u001b[0m\u001b[1;36mcrew\u001b[0m\n",
       "└── \u001b[1;33m📋 Task: a67c0889-dbd4-4cd0-b4a2-139873abe43f\u001b[0m\n",
       "    \u001b[37m   Status: \u001b[0m\u001b[2;33mExecuting Task...\u001b[0m\n",
       "    └── \u001b[1;32m🤖 Agent: \u001b[0m\u001b[32mLocal Expert at this city.\u001b[0m\n",
       "        \n",
       "        \u001b[37m    Status: \u001b[0m\u001b[1;32mIn Progress\u001b[0m\n"
      ]
     },
     "metadata": {},
     "output_type": "display_data"
    },
    {
     "data": {
      "text/html": [
       "<pre style=\"white-space:pre;overflow-x:auto;line-height:normal;font-family:Menlo,'DejaVu Sans Mono',consolas,'Courier New',monospace\">\n",
       "</pre>\n"
      ],
      "text/plain": [
       "\n"
      ]
     },
     "metadata": {},
     "output_type": "display_data"
    },
    {
     "name": "stdout",
     "output_type": "stream",
     "text": [
      "\u001b[1m\u001b[95m# Agent:\u001b[00m \u001b[1m\u001b[92mLocal Expert at this city.\u001b[00m\n",
      "\u001b[95m## Task:\u001b[00m \u001b[92mI want you to create a comprehensive city guide. This guide should provide a thorough overview of what the city has to offer, including hidden gems, cultural hotspots, and must-visit landmarks.\n",
      "Trip Date: June 2025 Traveling from: San Francisco Traveling to: Paris Traveler Interests: art\n",
      "\u001b[00m\n"
     ]
    },
    {
     "data": {
      "text/html": [
       "<pre style=\"white-space:pre;overflow-x:auto;line-height:normal;font-family:Menlo,'DejaVu Sans Mono',consolas,'Courier New',monospace\"><span style=\"color: #008080; text-decoration-color: #008080; font-weight: bold\">🚀 Crew: crew</span>\n",
       "└── <span style=\"color: #808000; text-decoration-color: #808000; font-weight: bold\">📋 Task: a67c0889-dbd4-4cd0-b4a2-139873abe43f</span>\n",
       "    <span style=\"color: #c0c0c0; text-decoration-color: #c0c0c0\">   Status: </span><span style=\"color: #bfbf7f; text-decoration-color: #bfbf7f\">Executing Task...</span>\n",
       "    └── <span style=\"color: #008000; text-decoration-color: #008000; font-weight: bold\">🤖 Agent: </span><span style=\"color: #008000; text-decoration-color: #008000\">Local Expert at this city.</span>\n",
       "        \n",
       "        <span style=\"color: #c0c0c0; text-decoration-color: #c0c0c0\">    Status: </span><span style=\"color: #008000; text-decoration-color: #008000; font-weight: bold\">In Progress</span>\n",
       "        └── <span style=\"color: #000080; text-decoration-color: #000080; font-weight: bold\">🧠 </span><span style=\"color: #000080; text-decoration-color: #000080\">Thinking...</span>\n",
       "</pre>\n"
      ],
      "text/plain": [
       "\u001b[1;36m🚀 Crew: \u001b[0m\u001b[1;36mcrew\u001b[0m\n",
       "└── \u001b[1;33m📋 Task: a67c0889-dbd4-4cd0-b4a2-139873abe43f\u001b[0m\n",
       "    \u001b[37m   Status: \u001b[0m\u001b[2;33mExecuting Task...\u001b[0m\n",
       "    └── \u001b[1;32m🤖 Agent: \u001b[0m\u001b[32mLocal Expert at this city.\u001b[0m\n",
       "        \n",
       "        \u001b[37m    Status: \u001b[0m\u001b[1;32mIn Progress\u001b[0m\n",
       "        └── \u001b[1;34m🧠 \u001b[0m\u001b[34mThinking...\u001b[0m\n"
      ]
     },
     "metadata": {},
     "output_type": "display_data"
    },
    {
     "data": {
      "text/html": [
       "<pre style=\"white-space:pre;overflow-x:auto;line-height:normal;font-family:Menlo,'DejaVu Sans Mono',consolas,'Courier New',monospace\">\n",
       "</pre>\n"
      ],
      "text/plain": [
       "\n"
      ]
     },
     "metadata": {},
     "output_type": "display_data"
    },
    {
     "data": {
      "text/html": [
       "<pre style=\"white-space:pre;overflow-x:auto;line-height:normal;font-family:Menlo,'DejaVu Sans Mono',consolas,'Courier New',monospace\"><span style=\"color: #008080; text-decoration-color: #008080; font-weight: bold\">🚀 Crew: crew</span>\n",
       "└── <span style=\"color: #808000; text-decoration-color: #808000; font-weight: bold\">📋 Task: a67c0889-dbd4-4cd0-b4a2-139873abe43f</span>\n",
       "    <span style=\"color: #c0c0c0; text-decoration-color: #c0c0c0\">   Status: </span><span style=\"color: #bfbf7f; text-decoration-color: #bfbf7f\">Executing Task...</span>\n",
       "    └── <span style=\"color: #008000; text-decoration-color: #008000; font-weight: bold\">🤖 Agent: </span><span style=\"color: #008000; text-decoration-color: #008000\">Local Expert at this city.</span>\n",
       "        \n",
       "        <span style=\"color: #c0c0c0; text-decoration-color: #c0c0c0\">    Status: </span><span style=\"color: #008000; text-decoration-color: #008000; font-weight: bold\">In Progress</span>\n",
       "</pre>\n"
      ],
      "text/plain": [
       "\u001b[1;36m🚀 Crew: \u001b[0m\u001b[1;36mcrew\u001b[0m\n",
       "└── \u001b[1;33m📋 Task: a67c0889-dbd4-4cd0-b4a2-139873abe43f\u001b[0m\n",
       "    \u001b[37m   Status: \u001b[0m\u001b[2;33mExecuting Task...\u001b[0m\n",
       "    └── \u001b[1;32m🤖 Agent: \u001b[0m\u001b[32mLocal Expert at this city.\u001b[0m\n",
       "        \n",
       "        \u001b[37m    Status: \u001b[0m\u001b[1;32mIn Progress\u001b[0m\n"
      ]
     },
     "metadata": {},
     "output_type": "display_data"
    },
    {
     "data": {
      "text/html": [
       "<pre style=\"white-space:pre;overflow-x:auto;line-height:normal;font-family:Menlo,'DejaVu Sans Mono',consolas,'Courier New',monospace\">\n",
       "</pre>\n"
      ],
      "text/plain": [
       "\n"
      ]
     },
     "metadata": {},
     "output_type": "display_data"
    },
    {
     "data": {
      "text/html": [
       "<pre style=\"white-space:pre;overflow-x:auto;line-height:normal;font-family:Menlo,'DejaVu Sans Mono',consolas,'Courier New',monospace\"><span style=\"color: #008080; text-decoration-color: #008080; font-weight: bold\">🚀 Crew: crew</span>\n",
       "└── <span style=\"color: #808000; text-decoration-color: #808000; font-weight: bold\">📋 Task: a67c0889-dbd4-4cd0-b4a2-139873abe43f</span>\n",
       "    <span style=\"color: #c0c0c0; text-decoration-color: #c0c0c0\">   Status: </span><span style=\"color: #bfbf7f; text-decoration-color: #bfbf7f\">Executing Task...</span>\n",
       "    └── <span style=\"color: #008000; text-decoration-color: #008000; font-weight: bold\">🤖 Agent: </span><span style=\"color: #008000; text-decoration-color: #008000\">Local Expert at this city.</span>\n",
       "        \n",
       "        <span style=\"color: #c0c0c0; text-decoration-color: #c0c0c0\">    Status: </span><span style=\"color: #008000; text-decoration-color: #008000; font-weight: bold\">In Progress</span>\n",
       "        └── <span style=\"color: #808000; text-decoration-color: #808000; font-weight: bold\">🔧 </span><span style=\"color: #808000; text-decoration-color: #808000\">Using DuckDuckGo Search (1)</span>\n",
       "</pre>\n"
      ],
      "text/plain": [
       "\u001b[1;36m🚀 Crew: \u001b[0m\u001b[1;36mcrew\u001b[0m\n",
       "└── \u001b[1;33m📋 Task: a67c0889-dbd4-4cd0-b4a2-139873abe43f\u001b[0m\n",
       "    \u001b[37m   Status: \u001b[0m\u001b[2;33mExecuting Task...\u001b[0m\n",
       "    └── \u001b[1;32m🤖 Agent: \u001b[0m\u001b[32mLocal Expert at this city.\u001b[0m\n",
       "        \n",
       "        \u001b[37m    Status: \u001b[0m\u001b[1;32mIn Progress\u001b[0m\n",
       "        └── \u001b[1;33m🔧 \u001b[0m\u001b[33mUsing DuckDuckGo Search (1)\u001b[0m\n"
      ]
     },
     "metadata": {},
     "output_type": "display_data"
    },
    {
     "data": {
      "text/html": [
       "<pre style=\"white-space:pre;overflow-x:auto;line-height:normal;font-family:Menlo,'DejaVu Sans Mono',consolas,'Courier New',monospace\">\n",
       "</pre>\n"
      ],
      "text/plain": [
       "\n"
      ]
     },
     "metadata": {},
     "output_type": "display_data"
    },
    {
     "data": {
      "text/html": [
       "<pre style=\"white-space:pre;overflow-x:auto;line-height:normal;font-family:Menlo,'DejaVu Sans Mono',consolas,'Courier New',monospace\"><span style=\"color: #008080; text-decoration-color: #008080; font-weight: bold\">🚀 Crew: crew</span>\n",
       "└── <span style=\"color: #808000; text-decoration-color: #808000; font-weight: bold\">📋 Task: a67c0889-dbd4-4cd0-b4a2-139873abe43f</span>\n",
       "    <span style=\"color: #c0c0c0; text-decoration-color: #c0c0c0\">   Status: </span><span style=\"color: #bfbf7f; text-decoration-color: #bfbf7f\">Executing Task...</span>\n",
       "    └── <span style=\"color: #008000; text-decoration-color: #008000; font-weight: bold\">🤖 Agent: </span><span style=\"color: #008000; text-decoration-color: #008000\">Local Expert at this city.</span>\n",
       "        \n",
       "        <span style=\"color: #c0c0c0; text-decoration-color: #c0c0c0\">    Status: </span><span style=\"color: #008000; text-decoration-color: #008000; font-weight: bold\">In Progress</span>\n",
       "        └── <span style=\"color: #008000; text-decoration-color: #008000; font-weight: bold\">🔧 </span><span style=\"color: #008000; text-decoration-color: #008000\">Used DuckDuckGo Search (1)</span>\n",
       "</pre>\n"
      ],
      "text/plain": [
       "\u001b[1;36m🚀 Crew: \u001b[0m\u001b[1;36mcrew\u001b[0m\n",
       "└── \u001b[1;33m📋 Task: a67c0889-dbd4-4cd0-b4a2-139873abe43f\u001b[0m\n",
       "    \u001b[37m   Status: \u001b[0m\u001b[2;33mExecuting Task...\u001b[0m\n",
       "    └── \u001b[1;32m🤖 Agent: \u001b[0m\u001b[32mLocal Expert at this city.\u001b[0m\n",
       "        \n",
       "        \u001b[37m    Status: \u001b[0m\u001b[1;32mIn Progress\u001b[0m\n",
       "        └── \u001b[1;32m🔧 \u001b[0m\u001b[32mUsed DuckDuckGo Search (1)\u001b[0m\n"
      ]
     },
     "metadata": {},
     "output_type": "display_data"
    },
    {
     "data": {
      "text/html": [
       "<pre style=\"white-space:pre;overflow-x:auto;line-height:normal;font-family:Menlo,'DejaVu Sans Mono',consolas,'Courier New',monospace\">\n",
       "</pre>\n"
      ],
      "text/plain": [
       "\n"
      ]
     },
     "metadata": {},
     "output_type": "display_data"
    },
    {
     "name": "stdout",
     "output_type": "stream",
     "text": [
      "\n",
      "\n",
      "\u001b[1m\u001b[95m# Agent:\u001b[00m \u001b[1m\u001b[92mLocal Expert at this city.\u001b[00m\n",
      "\u001b[95m## Thought:\u001b[00m \u001b[92mI need to gather detailed information about Paris, focusing on art, cultural hotspots, landmarks, and hidden gems to create a comprehensive city guide for the traveler.\u001b[00m\n",
      "\u001b[95m## Using tool:\u001b[00m \u001b[92mDuckDuckGo Search\u001b[00m\n",
      "\u001b[95m## Tool Input:\u001b[00m \u001b[92m\n",
      "\"{\\\"query\\\": \\\"comprehensive guide to art in Paris, cultural hotspots, hidden gems, must-visit landmarks\\\"}\"\u001b[00m\n",
      "\u001b[95m## Tool Output:\u001b[00m \u001b[92m\n",
      "Paris Reigns for Art and Culture Tourism: 5 standout hotspots in the French capital. ... team's Paris favourites. Here are 5 must-visit places that epitomize the city's creative and cultural ... Paris is so much more than its famous landmarks. From quiet parks and historic streets to hidden art and secret bars, these hidden gems in Paris offer a glimpse of the city that many visitors miss. Exploring these lesser-known spots brings you closer to the authentic, everyday Paris that locals love. But beyond these iconic landmarks lies a treasure trove of hidden gems in Paris waiting to be discovered. From secret gardens and ancient monuments tucked away in cobblestone alleyways to lesser-known museums showcasing exquisite art collections, Paris has a wealth of surprises for those willing to venture off the beaten path. In 1999, it started out as an illegal artist squat house in an abandoned building. Today, 59 Rivoli is a art studio for 30 artists, a contemporary art gallery, and hosts concerts on Saturdays and Sundays. The contemporary art exhibit is free to visit, and truly is a secret spot in Paris! In Conclusion: Hidden Gems in Paris Absolutely gorgeous and incredibly easy to visit, it's definitely worth checking out this (still functional) 14th-century clock when you're looking for hidden gems in Paris. Paris Catacombs Buried far beneath the quiet streets and manicured avenues of modern Paris sit the piled up remains of 6 million people-and visiting them is ...\u001b[00m\n"
     ]
    },
    {
     "data": {
      "text/html": [
       "<pre style=\"white-space:pre;overflow-x:auto;line-height:normal;font-family:Menlo,'DejaVu Sans Mono',consolas,'Courier New',monospace\"><span style=\"color: #008080; text-decoration-color: #008080; font-weight: bold\">🚀 Crew: crew</span>\n",
       "└── <span style=\"color: #808000; text-decoration-color: #808000; font-weight: bold\">📋 Task: a67c0889-dbd4-4cd0-b4a2-139873abe43f</span>\n",
       "    <span style=\"color: #c0c0c0; text-decoration-color: #c0c0c0\">   Status: </span><span style=\"color: #bfbf7f; text-decoration-color: #bfbf7f\">Executing Task...</span>\n",
       "    └── <span style=\"color: #008000; text-decoration-color: #008000; font-weight: bold\">🤖 Agent: </span><span style=\"color: #008000; text-decoration-color: #008000\">Local Expert at this city.</span>\n",
       "        \n",
       "        <span style=\"color: #c0c0c0; text-decoration-color: #c0c0c0\">    Status: </span><span style=\"color: #008000; text-decoration-color: #008000; font-weight: bold\">In Progress</span>\n",
       "        ├── <span style=\"color: #008000; text-decoration-color: #008000; font-weight: bold\">🔧 </span><span style=\"color: #008000; text-decoration-color: #008000\">Used DuckDuckGo Search (1)</span>\n",
       "        └── <span style=\"color: #000080; text-decoration-color: #000080; font-weight: bold\">🧠 </span><span style=\"color: #000080; text-decoration-color: #000080\">Thinking...</span>\n",
       "</pre>\n"
      ],
      "text/plain": [
       "\u001b[1;36m🚀 Crew: \u001b[0m\u001b[1;36mcrew\u001b[0m\n",
       "└── \u001b[1;33m📋 Task: a67c0889-dbd4-4cd0-b4a2-139873abe43f\u001b[0m\n",
       "    \u001b[37m   Status: \u001b[0m\u001b[2;33mExecuting Task...\u001b[0m\n",
       "    └── \u001b[1;32m🤖 Agent: \u001b[0m\u001b[32mLocal Expert at this city.\u001b[0m\n",
       "        \n",
       "        \u001b[37m    Status: \u001b[0m\u001b[1;32mIn Progress\u001b[0m\n",
       "        ├── \u001b[1;32m🔧 \u001b[0m\u001b[32mUsed DuckDuckGo Search (1)\u001b[0m\n",
       "        └── \u001b[1;34m🧠 \u001b[0m\u001b[34mThinking...\u001b[0m\n"
      ]
     },
     "metadata": {},
     "output_type": "display_data"
    },
    {
     "data": {
      "text/html": [
       "<pre style=\"white-space:pre;overflow-x:auto;line-height:normal;font-family:Menlo,'DejaVu Sans Mono',consolas,'Courier New',monospace\">\n",
       "</pre>\n"
      ],
      "text/plain": [
       "\n"
      ]
     },
     "metadata": {},
     "output_type": "display_data"
    },
    {
     "data": {
      "text/html": [
       "<pre style=\"white-space:pre;overflow-x:auto;line-height:normal;font-family:Menlo,'DejaVu Sans Mono',consolas,'Courier New',monospace\"><span style=\"color: #008080; text-decoration-color: #008080; font-weight: bold\">🚀 Crew: crew</span>\n",
       "└── <span style=\"color: #808000; text-decoration-color: #808000; font-weight: bold\">📋 Task: a67c0889-dbd4-4cd0-b4a2-139873abe43f</span>\n",
       "    <span style=\"color: #c0c0c0; text-decoration-color: #c0c0c0\">   Status: </span><span style=\"color: #bfbf7f; text-decoration-color: #bfbf7f\">Executing Task...</span>\n",
       "    └── <span style=\"color: #008000; text-decoration-color: #008000; font-weight: bold\">🤖 Agent: </span><span style=\"color: #008000; text-decoration-color: #008000\">Local Expert at this city.</span>\n",
       "        \n",
       "        <span style=\"color: #c0c0c0; text-decoration-color: #c0c0c0\">    Status: </span><span style=\"color: #008000; text-decoration-color: #008000; font-weight: bold\">In Progress</span>\n",
       "        └── <span style=\"color: #008000; text-decoration-color: #008000; font-weight: bold\">🔧 </span><span style=\"color: #008000; text-decoration-color: #008000\">Used DuckDuckGo Search (1)</span>\n",
       "</pre>\n"
      ],
      "text/plain": [
       "\u001b[1;36m🚀 Crew: \u001b[0m\u001b[1;36mcrew\u001b[0m\n",
       "└── \u001b[1;33m📋 Task: a67c0889-dbd4-4cd0-b4a2-139873abe43f\u001b[0m\n",
       "    \u001b[37m   Status: \u001b[0m\u001b[2;33mExecuting Task...\u001b[0m\n",
       "    └── \u001b[1;32m🤖 Agent: \u001b[0m\u001b[32mLocal Expert at this city.\u001b[0m\n",
       "        \n",
       "        \u001b[37m    Status: \u001b[0m\u001b[1;32mIn Progress\u001b[0m\n",
       "        └── \u001b[1;32m🔧 \u001b[0m\u001b[32mUsed DuckDuckGo Search (1)\u001b[0m\n"
      ]
     },
     "metadata": {},
     "output_type": "display_data"
    },
    {
     "data": {
      "text/html": [
       "<pre style=\"white-space:pre;overflow-x:auto;line-height:normal;font-family:Menlo,'DejaVu Sans Mono',consolas,'Courier New',monospace\">\n",
       "</pre>\n"
      ],
      "text/plain": [
       "\n"
      ]
     },
     "metadata": {},
     "output_type": "display_data"
    },
    {
     "name": "stdout",
     "output_type": "stream",
     "text": [
      "\n",
      "\n",
      "\u001b[1m\u001b[95m# Agent:\u001b[00m \u001b[1m\u001b[92mLocal Expert at this city.\u001b[00m\n",
      "\u001b[95m## Final Answer:\u001b[00m \u001b[92m\n",
      "# Comprehensive City Guide to Paris: A Cultural and Artistic Journey\n",
      "\n",
      "## Introduction\n",
      "Welcome to Paris, the City of Light, renowned for its rich history, stunning architecture, and vibrant art scene. This guide will help you navigate through the cultural hotspots, must-visit landmarks, and hidden gems that make Paris a unique destination for art lovers.\n",
      "\n",
      "## Must-Visit Landmarks\n",
      "\n",
      "### 1. The Louvre Museum\n",
      "- **Description**: Home to thousands of works of art, including the Mona Lisa and the Venus de Milo, the Louvre is the world's largest art museum and a historic monument.\n",
      "- **Tip**: Visit early in the morning or late in the afternoon to avoid crowds. Consider purchasing a skip-the-line ticket.\n",
      "\n",
      "### 2. Musée d'Orsay\n",
      "- **Description**: Housed in a former railway station, this museum holds the largest collection of impressionist and post-impressionist masterpieces in the world.\n",
      "- **Tip**: Don't miss the stunning clock face that offers a unique view of the Seine River.\n",
      "\n",
      "### 3. Sacré-Cœur Basilica\n",
      "- **Description**: Located at the highest point in the city, this basilica offers breathtaking views of Paris and features a stunning interior.\n",
      "- **Tip**: Visit during sunset for a magical experience.\n",
      "\n",
      "## Cultural Hotspots\n",
      "\n",
      "### 1. Montmartre\n",
      "- **Description**: This historic district is known for its bohemian past and was once home to artists like Picasso and Van Gogh. Explore the cobblestone streets and visit the art studios.\n",
      "- **Tip**: Check out Place du Tertre, where local artists display their work.\n",
      "\n",
      "### 2. Le Marais\n",
      "- **Description**: A trendy neighborhood filled with art galleries, boutiques, and cafes. It's also home to the Picasso Museum.\n",
      "- **Tip**: Visit the Jewish Quarter for delicious falafel and pastries.\n",
      "\n",
      "### 3. Saint-Germain-des-Prés\n",
      "- **Description**: Known for its literary history, this area is dotted with famous cafés like Café de Flore and Les Deux Magots, where writers and philosophers once gathered.\n",
      "- **Tip**: Explore the nearby Luxembourg Gardens for a peaceful retreat.\n",
      "\n",
      "## Hidden Gems\n",
      "\n",
      "### 1. 59 Rivoli\n",
      "- **Description**: Once an illegal artist squat, this space is now a contemporary art gallery and studio housing 30 artists. It's a free exhibit and a fantastic place to discover new talent.\n",
      "- **Tip**: Visit on weekends for live concerts and art events.\n",
      "\n",
      "### 2. The Catacombs of Paris\n",
      "- **Description**: A haunting underground ossuary that holds the remains of over six million people. It offers a unique glimpse into the city's history.\n",
      "- **Tip**: Book tickets in advance to avoid long lines.\n",
      "\n",
      "### 3. Parc des Buttes-Chaumont\n",
      "- **Description**: A lesser-known park that features cliffs, waterfalls, and a temple. It's a perfect spot for a picnic away from the tourist crowds.\n",
      "- **Tip**: Bring a book and enjoy the serene atmosphere.\n",
      "\n",
      "## Practical Tips\n",
      "- **Transportation**: Use the Paris Métro for easy access to all major attractions. Consider getting a Paris Visite pass for unlimited travel.\n",
      "- **Language**: While many Parisians speak English, learning a few basic French phrases can enhance your experience.\n",
      "- **Cuisine**: Don't miss trying local delicacies like croissants, escargots, and macarons. Visit local markets for fresh produce and artisanal goods.\n",
      "\n",
      "## Conclusion\n",
      "Paris is a city that captivates with its art, culture, and history. Whether you're exploring iconic landmarks or uncovering hidden gems, this city promises an unforgettable experience for art enthusiasts. Embrace the charm of Paris, and let its artistic spirit inspire you on your journey.\u001b[00m\n",
      "\n",
      "\n"
     ]
    },
    {
     "data": {
      "text/html": [
       "<pre style=\"white-space:pre;overflow-x:auto;line-height:normal;font-family:Menlo,'DejaVu Sans Mono',consolas,'Courier New',monospace\"><span style=\"color: #008080; text-decoration-color: #008080; font-weight: bold\">🚀 Crew: crew</span>\n",
       "└── <span style=\"color: #808000; text-decoration-color: #808000; font-weight: bold\">📋 Task: a67c0889-dbd4-4cd0-b4a2-139873abe43f</span>\n",
       "    <span style=\"color: #c0c0c0; text-decoration-color: #c0c0c0\">   Status: </span><span style=\"color: #bfbf7f; text-decoration-color: #bfbf7f\">Executing Task...</span>\n",
       "    └── <span style=\"color: #008000; text-decoration-color: #008000; font-weight: bold\">🤖 Agent: </span><span style=\"color: #008000; text-decoration-color: #008000\">Local Expert at this city.</span>\n",
       "        \n",
       "        <span style=\"color: #c0c0c0; text-decoration-color: #c0c0c0\">    Status: </span><span style=\"color: #008000; text-decoration-color: #008000; font-weight: bold\">✅ Completed</span>\n",
       "        └── <span style=\"color: #008000; text-decoration-color: #008000; font-weight: bold\">🔧 </span><span style=\"color: #008000; text-decoration-color: #008000\">Used DuckDuckGo Search (1)</span>\n",
       "</pre>\n"
      ],
      "text/plain": [
       "\u001b[1;36m🚀 Crew: \u001b[0m\u001b[1;36mcrew\u001b[0m\n",
       "└── \u001b[1;33m📋 Task: a67c0889-dbd4-4cd0-b4a2-139873abe43f\u001b[0m\n",
       "    \u001b[37m   Status: \u001b[0m\u001b[2;33mExecuting Task...\u001b[0m\n",
       "    └── \u001b[1;32m🤖 Agent: \u001b[0m\u001b[32mLocal Expert at this city.\u001b[0m\n",
       "        \n",
       "        \u001b[37m    Status: \u001b[0m\u001b[1;32m✅ Completed\u001b[0m\n",
       "        └── \u001b[1;32m🔧 \u001b[0m\u001b[32mUsed DuckDuckGo Search (1)\u001b[0m\n"
      ]
     },
     "metadata": {},
     "output_type": "display_data"
    },
    {
     "data": {
      "text/html": [
       "<pre style=\"white-space:pre;overflow-x:auto;line-height:normal;font-family:Menlo,'DejaVu Sans Mono',consolas,'Courier New',monospace\">\n",
       "</pre>\n"
      ],
      "text/plain": [
       "\n"
      ]
     },
     "metadata": {},
     "output_type": "display_data"
    },
    {
     "data": {
      "text/html": [
       "<pre style=\"white-space:pre;overflow-x:auto;line-height:normal;font-family:Menlo,'DejaVu Sans Mono',consolas,'Courier New',monospace\"><span style=\"color: #008080; text-decoration-color: #008080; font-weight: bold\">🚀 Crew: crew</span>\n",
       "└── <span style=\"color: #008000; text-decoration-color: #008000; font-weight: bold\">📋 Task: a67c0889-dbd4-4cd0-b4a2-139873abe43f</span>\n",
       "    <span style=\"color: #c0c0c0; text-decoration-color: #c0c0c0\">   Assigned to: </span><span style=\"color: #008000; text-decoration-color: #008000\">Local Expert at this city.</span>\n",
       "    \n",
       "    <span style=\"color: #c0c0c0; text-decoration-color: #c0c0c0\">   Status: </span><span style=\"color: #008000; text-decoration-color: #008000; font-weight: bold\">✅ Completed</span>\n",
       "    └── <span style=\"color: #008000; text-decoration-color: #008000; font-weight: bold\">🤖 Agent: </span><span style=\"color: #008000; text-decoration-color: #008000\">Local Expert at this city.</span>\n",
       "        \n",
       "        <span style=\"color: #c0c0c0; text-decoration-color: #c0c0c0\">    Status: </span><span style=\"color: #008000; text-decoration-color: #008000; font-weight: bold\">✅ Completed</span>\n",
       "        └── <span style=\"color: #008000; text-decoration-color: #008000; font-weight: bold\">🔧 </span><span style=\"color: #008000; text-decoration-color: #008000\">Used DuckDuckGo Search (1)</span>\n",
       "</pre>\n"
      ],
      "text/plain": [
       "\u001b[1;36m🚀 Crew: \u001b[0m\u001b[1;36mcrew\u001b[0m\n",
       "└── \u001b[1;32m📋 Task: a67c0889-dbd4-4cd0-b4a2-139873abe43f\u001b[0m\n",
       "    \u001b[37m   Assigned to: \u001b[0m\u001b[32mLocal Expert at this city.\u001b[0m\n",
       "    \n",
       "    \u001b[37m   Status: \u001b[0m\u001b[1;32m✅ Completed\u001b[0m\n",
       "    └── \u001b[1;32m🤖 Agent: \u001b[0m\u001b[32mLocal Expert at this city.\u001b[0m\n",
       "        \n",
       "        \u001b[37m    Status: \u001b[0m\u001b[1;32m✅ Completed\u001b[0m\n",
       "        └── \u001b[1;32m🔧 \u001b[0m\u001b[32mUsed DuckDuckGo Search (1)\u001b[0m\n"
      ]
     },
     "metadata": {},
     "output_type": "display_data"
    },
    {
     "data": {
      "text/html": [
       "<pre style=\"white-space:pre;overflow-x:auto;line-height:normal;font-family:Menlo,'DejaVu Sans Mono',consolas,'Courier New',monospace\"><span style=\"color: #008000; text-decoration-color: #008000\">╭──────────────────────────────────────────────── Task Completion ────────────────────────────────────────────────╮</span>\n",
       "<span style=\"color: #008000; text-decoration-color: #008000\">│</span>                                                                                                                 <span style=\"color: #008000; text-decoration-color: #008000\">│</span>\n",
       "<span style=\"color: #008000; text-decoration-color: #008000\">│</span>  <span style=\"color: #008000; text-decoration-color: #008000; font-weight: bold\">Task Completed</span>                                                                                                 <span style=\"color: #008000; text-decoration-color: #008000\">│</span>\n",
       "<span style=\"color: #008000; text-decoration-color: #008000\">│</span>  <span style=\"color: #c0c0c0; text-decoration-color: #c0c0c0\">Name: </span><span style=\"color: #008000; text-decoration-color: #008000\">a67c0889-dbd4-4cd0-b4a2-139873abe43f</span>                                                                     <span style=\"color: #008000; text-decoration-color: #008000\">│</span>\n",
       "<span style=\"color: #008000; text-decoration-color: #008000\">│</span>  <span style=\"color: #c0c0c0; text-decoration-color: #c0c0c0\">Agent: </span><span style=\"color: #008000; text-decoration-color: #008000\">Local Expert at this city.</span>                                                                              <span style=\"color: #008000; text-decoration-color: #008000\">│</span>\n",
       "<span style=\"color: #008000; text-decoration-color: #008000\">│</span>                                                                                                                 <span style=\"color: #008000; text-decoration-color: #008000\">│</span>\n",
       "<span style=\"color: #008000; text-decoration-color: #008000\">│</span>                                                                                                                 <span style=\"color: #008000; text-decoration-color: #008000\">│</span>\n",
       "<span style=\"color: #008000; text-decoration-color: #008000\">│</span>                                                                                                                 <span style=\"color: #008000; text-decoration-color: #008000\">│</span>\n",
       "<span style=\"color: #008000; text-decoration-color: #008000\">╰─────────────────────────────────────────────────────────────────────────────────────────────────────────────────╯</span>\n",
       "</pre>\n"
      ],
      "text/plain": [
       "\u001b[32m╭─\u001b[0m\u001b[32m───────────────────────────────────────────────\u001b[0m\u001b[32m Task Completion \u001b[0m\u001b[32m───────────────────────────────────────────────\u001b[0m\u001b[32m─╮\u001b[0m\n",
       "\u001b[32m│\u001b[0m                                                                                                                 \u001b[32m│\u001b[0m\n",
       "\u001b[32m│\u001b[0m  \u001b[1;32mTask Completed\u001b[0m                                                                                                 \u001b[32m│\u001b[0m\n",
       "\u001b[32m│\u001b[0m  \u001b[37mName: \u001b[0m\u001b[32ma67c0889-dbd4-4cd0-b4a2-139873abe43f\u001b[0m                                                                     \u001b[32m│\u001b[0m\n",
       "\u001b[32m│\u001b[0m  \u001b[37mAgent: \u001b[0m\u001b[32mLocal Expert at this city.\u001b[0m                                                                              \u001b[32m│\u001b[0m\n",
       "\u001b[32m│\u001b[0m                                                                                                                 \u001b[32m│\u001b[0m\n",
       "\u001b[32m│\u001b[0m                                                                                                                 \u001b[32m│\u001b[0m\n",
       "\u001b[32m│\u001b[0m                                                                                                                 \u001b[32m│\u001b[0m\n",
       "\u001b[32m╰─────────────────────────────────────────────────────────────────────────────────────────────────────────────────╯\u001b[0m\n"
      ]
     },
     "metadata": {},
     "output_type": "display_data"
    },
    {
     "data": {
      "text/html": [
       "<pre style=\"white-space:pre;overflow-x:auto;line-height:normal;font-family:Menlo,'DejaVu Sans Mono',consolas,'Courier New',monospace\">\n",
       "</pre>\n"
      ],
      "text/plain": [
       "\n"
      ]
     },
     "metadata": {},
     "output_type": "display_data"
    },
    {
     "data": {
      "text/html": [
       "<pre style=\"white-space:pre;overflow-x:auto;line-height:normal;font-family:Menlo,'DejaVu Sans Mono',consolas,'Courier New',monospace\"><span style=\"color: #008080; text-decoration-color: #008080; font-weight: bold\">🚀 Crew: crew</span>\n",
       "├── <span style=\"color: #008000; text-decoration-color: #008000; font-weight: bold\">📋 Task: a67c0889-dbd4-4cd0-b4a2-139873abe43f</span>\n",
       "│   <span style=\"color: #c0c0c0; text-decoration-color: #c0c0c0\">   Assigned to: </span><span style=\"color: #008000; text-decoration-color: #008000\">Local Expert at this city.</span>\n",
       "│   \n",
       "│   <span style=\"color: #c0c0c0; text-decoration-color: #c0c0c0\">   Status: </span><span style=\"color: #008000; text-decoration-color: #008000; font-weight: bold\">✅ Completed</span>\n",
       "│   └── <span style=\"color: #008000; text-decoration-color: #008000; font-weight: bold\">🤖 Agent: </span><span style=\"color: #008000; text-decoration-color: #008000\">Local Expert at this city.</span>\n",
       "│       \n",
       "│       <span style=\"color: #c0c0c0; text-decoration-color: #c0c0c0\">    Status: </span><span style=\"color: #008000; text-decoration-color: #008000; font-weight: bold\">✅ Completed</span>\n",
       "│       └── <span style=\"color: #008000; text-decoration-color: #008000; font-weight: bold\">🔧 </span><span style=\"color: #008000; text-decoration-color: #008000\">Used DuckDuckGo Search (1)</span>\n",
       "└── <span style=\"color: #808000; text-decoration-color: #808000; font-weight: bold\">📋 Task: 64742bbb-df23-484c-8810-26f03d3250ec</span>\n",
       "    <span style=\"color: #c0c0c0; text-decoration-color: #c0c0c0\">   Status: </span><span style=\"color: #bfbf7f; text-decoration-color: #bfbf7f\">Executing Task...</span>\n",
       "</pre>\n"
      ],
      "text/plain": [
       "\u001b[1;36m🚀 Crew: \u001b[0m\u001b[1;36mcrew\u001b[0m\n",
       "├── \u001b[1;32m📋 Task: a67c0889-dbd4-4cd0-b4a2-139873abe43f\u001b[0m\n",
       "│   \u001b[37m   Assigned to: \u001b[0m\u001b[32mLocal Expert at this city.\u001b[0m\n",
       "│   \n",
       "│   \u001b[37m   Status: \u001b[0m\u001b[1;32m✅ Completed\u001b[0m\n",
       "│   └── \u001b[1;32m🤖 Agent: \u001b[0m\u001b[32mLocal Expert at this city.\u001b[0m\n",
       "│       \n",
       "│       \u001b[37m    Status: \u001b[0m\u001b[1;32m✅ Completed\u001b[0m\n",
       "│       └── \u001b[1;32m🔧 \u001b[0m\u001b[32mUsed DuckDuckGo Search (1)\u001b[0m\n",
       "└── \u001b[1;33m📋 Task: 64742bbb-df23-484c-8810-26f03d3250ec\u001b[0m\n",
       "    \u001b[37m   Status: \u001b[0m\u001b[2;33mExecuting Task...\u001b[0m\n"
      ]
     },
     "metadata": {},
     "output_type": "display_data"
    },
    {
     "data": {
      "text/html": [
       "<pre style=\"white-space:pre;overflow-x:auto;line-height:normal;font-family:Menlo,'DejaVu Sans Mono',consolas,'Courier New',monospace\">\n",
       "</pre>\n"
      ],
      "text/plain": [
       "\n"
      ]
     },
     "metadata": {},
     "output_type": "display_data"
    },
    {
     "data": {
      "text/html": [
       "<pre style=\"white-space:pre;overflow-x:auto;line-height:normal;font-family:Menlo,'DejaVu Sans Mono',consolas,'Courier New',monospace\"><span style=\"color: #008080; text-decoration-color: #008080; font-weight: bold\">🚀 Crew: crew</span>\n",
       "├── <span style=\"color: #008000; text-decoration-color: #008000; font-weight: bold\">📋 Task: a67c0889-dbd4-4cd0-b4a2-139873abe43f</span>\n",
       "│   <span style=\"color: #c0c0c0; text-decoration-color: #c0c0c0\">   Assigned to: </span><span style=\"color: #008000; text-decoration-color: #008000\">Local Expert at this city.</span>\n",
       "│   \n",
       "│   <span style=\"color: #c0c0c0; text-decoration-color: #c0c0c0\">   Status: </span><span style=\"color: #008000; text-decoration-color: #008000; font-weight: bold\">✅ Completed</span>\n",
       "│   └── <span style=\"color: #008000; text-decoration-color: #008000; font-weight: bold\">🤖 Agent: </span><span style=\"color: #008000; text-decoration-color: #008000\">Local Expert at this city.</span>\n",
       "│       \n",
       "│       <span style=\"color: #c0c0c0; text-decoration-color: #c0c0c0\">    Status: </span><span style=\"color: #008000; text-decoration-color: #008000; font-weight: bold\">✅ Completed</span>\n",
       "│       └── <span style=\"color: #008000; text-decoration-color: #008000; font-weight: bold\">🔧 </span><span style=\"color: #008000; text-decoration-color: #008000\">Used DuckDuckGo Search (1)</span>\n",
       "└── <span style=\"color: #808000; text-decoration-color: #808000; font-weight: bold\">📋 Task: 64742bbb-df23-484c-8810-26f03d3250ec</span>\n",
       "    <span style=\"color: #c0c0c0; text-decoration-color: #c0c0c0\">   Status: </span><span style=\"color: #bfbf7f; text-decoration-color: #bfbf7f\">Executing Task...</span>\n",
       "    └── <span style=\"color: #008000; text-decoration-color: #008000; font-weight: bold\">🤖 Agent: </span><span style=\"color: #008000; text-decoration-color: #008000\">Amazing Travel Concierge.</span>\n",
       "        \n",
       "        <span style=\"color: #c0c0c0; text-decoration-color: #c0c0c0\">    Status: </span><span style=\"color: #008000; text-decoration-color: #008000; font-weight: bold\">In Progress</span>\n",
       "</pre>\n"
      ],
      "text/plain": [
       "\u001b[1;36m🚀 Crew: \u001b[0m\u001b[1;36mcrew\u001b[0m\n",
       "├── \u001b[1;32m📋 Task: a67c0889-dbd4-4cd0-b4a2-139873abe43f\u001b[0m\n",
       "│   \u001b[37m   Assigned to: \u001b[0m\u001b[32mLocal Expert at this city.\u001b[0m\n",
       "│   \n",
       "│   \u001b[37m   Status: \u001b[0m\u001b[1;32m✅ Completed\u001b[0m\n",
       "│   └── \u001b[1;32m🤖 Agent: \u001b[0m\u001b[32mLocal Expert at this city.\u001b[0m\n",
       "│       \n",
       "│       \u001b[37m    Status: \u001b[0m\u001b[1;32m✅ Completed\u001b[0m\n",
       "│       └── \u001b[1;32m🔧 \u001b[0m\u001b[32mUsed DuckDuckGo Search (1)\u001b[0m\n",
       "└── \u001b[1;33m📋 Task: 64742bbb-df23-484c-8810-26f03d3250ec\u001b[0m\n",
       "    \u001b[37m   Status: \u001b[0m\u001b[2;33mExecuting Task...\u001b[0m\n",
       "    └── \u001b[1;32m🤖 Agent: \u001b[0m\u001b[32mAmazing Travel Concierge.\u001b[0m\n",
       "        \n",
       "        \u001b[37m    Status: \u001b[0m\u001b[1;32mIn Progress\u001b[0m\n"
      ]
     },
     "metadata": {},
     "output_type": "display_data"
    },
    {
     "data": {
      "text/html": [
       "<pre style=\"white-space:pre;overflow-x:auto;line-height:normal;font-family:Menlo,'DejaVu Sans Mono',consolas,'Courier New',monospace\">\n",
       "</pre>\n"
      ],
      "text/plain": [
       "\n"
      ]
     },
     "metadata": {},
     "output_type": "display_data"
    },
    {
     "name": "stdout",
     "output_type": "stream",
     "text": [
      "\u001b[1m\u001b[95m# Agent:\u001b[00m \u001b[1m\u001b[92mAmazing Travel Concierge.\u001b[00m\n",
      "\u001b[95m## Task:\u001b[00m \u001b[92mExpand this guide into a a full 1-day travel itinerary with detailed per-day plans, including weather forecasts, places to eat, packing suggestions, and a budget breakdown.\n",
      "You MUST suggest actual places to visit, actual hotels to stay and actual restaurants to go to.\n",
      "Trip Date: June 2025 Traveling from: San Francisco Traveling to: Paris Traveler Interests: art\n",
      "\u001b[00m\n"
     ]
    },
    {
     "data": {
      "text/html": [
       "<pre style=\"white-space:pre;overflow-x:auto;line-height:normal;font-family:Menlo,'DejaVu Sans Mono',consolas,'Courier New',monospace\"><span style=\"color: #008080; text-decoration-color: #008080; font-weight: bold\">🚀 Crew: crew</span>\n",
       "├── <span style=\"color: #008000; text-decoration-color: #008000; font-weight: bold\">📋 Task: a67c0889-dbd4-4cd0-b4a2-139873abe43f</span>\n",
       "│   <span style=\"color: #c0c0c0; text-decoration-color: #c0c0c0\">   Assigned to: </span><span style=\"color: #008000; text-decoration-color: #008000\">Local Expert at this city.</span>\n",
       "│   \n",
       "│   <span style=\"color: #c0c0c0; text-decoration-color: #c0c0c0\">   Status: </span><span style=\"color: #008000; text-decoration-color: #008000; font-weight: bold\">✅ Completed</span>\n",
       "│   └── <span style=\"color: #008000; text-decoration-color: #008000; font-weight: bold\">🤖 Agent: </span><span style=\"color: #008000; text-decoration-color: #008000\">Local Expert at this city.</span>\n",
       "│       \n",
       "│       <span style=\"color: #c0c0c0; text-decoration-color: #c0c0c0\">    Status: </span><span style=\"color: #008000; text-decoration-color: #008000; font-weight: bold\">✅ Completed</span>\n",
       "│       └── <span style=\"color: #008000; text-decoration-color: #008000; font-weight: bold\">🔧 </span><span style=\"color: #008000; text-decoration-color: #008000\">Used DuckDuckGo Search (1)</span>\n",
       "└── <span style=\"color: #808000; text-decoration-color: #808000; font-weight: bold\">📋 Task: 64742bbb-df23-484c-8810-26f03d3250ec</span>\n",
       "    <span style=\"color: #c0c0c0; text-decoration-color: #c0c0c0\">   Status: </span><span style=\"color: #bfbf7f; text-decoration-color: #bfbf7f\">Executing Task...</span>\n",
       "    └── <span style=\"color: #008000; text-decoration-color: #008000; font-weight: bold\">🤖 Agent: </span><span style=\"color: #008000; text-decoration-color: #008000\">Amazing Travel Concierge.</span>\n",
       "        \n",
       "        <span style=\"color: #c0c0c0; text-decoration-color: #c0c0c0\">    Status: </span><span style=\"color: #008000; text-decoration-color: #008000; font-weight: bold\">In Progress</span>\n",
       "        └── <span style=\"color: #000080; text-decoration-color: #000080; font-weight: bold\">🧠 </span><span style=\"color: #000080; text-decoration-color: #000080\">Thinking...</span>\n",
       "</pre>\n"
      ],
      "text/plain": [
       "\u001b[1;36m🚀 Crew: \u001b[0m\u001b[1;36mcrew\u001b[0m\n",
       "├── \u001b[1;32m📋 Task: a67c0889-dbd4-4cd0-b4a2-139873abe43f\u001b[0m\n",
       "│   \u001b[37m   Assigned to: \u001b[0m\u001b[32mLocal Expert at this city.\u001b[0m\n",
       "│   \n",
       "│   \u001b[37m   Status: \u001b[0m\u001b[1;32m✅ Completed\u001b[0m\n",
       "│   └── \u001b[1;32m🤖 Agent: \u001b[0m\u001b[32mLocal Expert at this city.\u001b[0m\n",
       "│       \n",
       "│       \u001b[37m    Status: \u001b[0m\u001b[1;32m✅ Completed\u001b[0m\n",
       "│       └── \u001b[1;32m🔧 \u001b[0m\u001b[32mUsed DuckDuckGo Search (1)\u001b[0m\n",
       "└── \u001b[1;33m📋 Task: 64742bbb-df23-484c-8810-26f03d3250ec\u001b[0m\n",
       "    \u001b[37m   Status: \u001b[0m\u001b[2;33mExecuting Task...\u001b[0m\n",
       "    └── \u001b[1;32m🤖 Agent: \u001b[0m\u001b[32mAmazing Travel Concierge.\u001b[0m\n",
       "        \n",
       "        \u001b[37m    Status: \u001b[0m\u001b[1;32mIn Progress\u001b[0m\n",
       "        └── \u001b[1;34m🧠 \u001b[0m\u001b[34mThinking...\u001b[0m\n"
      ]
     },
     "metadata": {},
     "output_type": "display_data"
    },
    {
     "data": {
      "text/html": [
       "<pre style=\"white-space:pre;overflow-x:auto;line-height:normal;font-family:Menlo,'DejaVu Sans Mono',consolas,'Courier New',monospace\">\n",
       "</pre>\n"
      ],
      "text/plain": [
       "\n"
      ]
     },
     "metadata": {},
     "output_type": "display_data"
    },
    {
     "data": {
      "text/html": [
       "<pre style=\"white-space:pre;overflow-x:auto;line-height:normal;font-family:Menlo,'DejaVu Sans Mono',consolas,'Courier New',monospace\"><span style=\"color: #008080; text-decoration-color: #008080; font-weight: bold\">🚀 Crew: crew</span>\n",
       "├── <span style=\"color: #008000; text-decoration-color: #008000; font-weight: bold\">📋 Task: a67c0889-dbd4-4cd0-b4a2-139873abe43f</span>\n",
       "│   <span style=\"color: #c0c0c0; text-decoration-color: #c0c0c0\">   Assigned to: </span><span style=\"color: #008000; text-decoration-color: #008000\">Local Expert at this city.</span>\n",
       "│   \n",
       "│   <span style=\"color: #c0c0c0; text-decoration-color: #c0c0c0\">   Status: </span><span style=\"color: #008000; text-decoration-color: #008000; font-weight: bold\">✅ Completed</span>\n",
       "│   └── <span style=\"color: #008000; text-decoration-color: #008000; font-weight: bold\">🤖 Agent: </span><span style=\"color: #008000; text-decoration-color: #008000\">Local Expert at this city.</span>\n",
       "│       \n",
       "│       <span style=\"color: #c0c0c0; text-decoration-color: #c0c0c0\">    Status: </span><span style=\"color: #008000; text-decoration-color: #008000; font-weight: bold\">✅ Completed</span>\n",
       "│       └── <span style=\"color: #008000; text-decoration-color: #008000; font-weight: bold\">🔧 </span><span style=\"color: #008000; text-decoration-color: #008000\">Used DuckDuckGo Search (1)</span>\n",
       "└── <span style=\"color: #808000; text-decoration-color: #808000; font-weight: bold\">📋 Task: 64742bbb-df23-484c-8810-26f03d3250ec</span>\n",
       "    <span style=\"color: #c0c0c0; text-decoration-color: #c0c0c0\">   Status: </span><span style=\"color: #bfbf7f; text-decoration-color: #bfbf7f\">Executing Task...</span>\n",
       "    └── <span style=\"color: #008000; text-decoration-color: #008000; font-weight: bold\">🤖 Agent: </span><span style=\"color: #008000; text-decoration-color: #008000\">Amazing Travel Concierge.</span>\n",
       "        \n",
       "        <span style=\"color: #c0c0c0; text-decoration-color: #c0c0c0\">    Status: </span><span style=\"color: #008000; text-decoration-color: #008000; font-weight: bold\">In Progress</span>\n",
       "</pre>\n"
      ],
      "text/plain": [
       "\u001b[1;36m🚀 Crew: \u001b[0m\u001b[1;36mcrew\u001b[0m\n",
       "├── \u001b[1;32m📋 Task: a67c0889-dbd4-4cd0-b4a2-139873abe43f\u001b[0m\n",
       "│   \u001b[37m   Assigned to: \u001b[0m\u001b[32mLocal Expert at this city.\u001b[0m\n",
       "│   \n",
       "│   \u001b[37m   Status: \u001b[0m\u001b[1;32m✅ Completed\u001b[0m\n",
       "│   └── \u001b[1;32m🤖 Agent: \u001b[0m\u001b[32mLocal Expert at this city.\u001b[0m\n",
       "│       \n",
       "│       \u001b[37m    Status: \u001b[0m\u001b[1;32m✅ Completed\u001b[0m\n",
       "│       └── \u001b[1;32m🔧 \u001b[0m\u001b[32mUsed DuckDuckGo Search (1)\u001b[0m\n",
       "└── \u001b[1;33m📋 Task: 64742bbb-df23-484c-8810-26f03d3250ec\u001b[0m\n",
       "    \u001b[37m   Status: \u001b[0m\u001b[2;33mExecuting Task...\u001b[0m\n",
       "    └── \u001b[1;32m🤖 Agent: \u001b[0m\u001b[32mAmazing Travel Concierge.\u001b[0m\n",
       "        \n",
       "        \u001b[37m    Status: \u001b[0m\u001b[1;32mIn Progress\u001b[0m\n"
      ]
     },
     "metadata": {},
     "output_type": "display_data"
    },
    {
     "data": {
      "text/html": [
       "<pre style=\"white-space:pre;overflow-x:auto;line-height:normal;font-family:Menlo,'DejaVu Sans Mono',consolas,'Courier New',monospace\">\n",
       "</pre>\n"
      ],
      "text/plain": [
       "\n"
      ]
     },
     "metadata": {},
     "output_type": "display_data"
    },
    {
     "name": "stdout",
     "output_type": "stream",
     "text": [
      "\n",
      "\n",
      "\u001b[1m\u001b[95m# Agent:\u001b[00m \u001b[1m\u001b[92mAmazing Travel Concierge.\u001b[00m\n",
      "\u001b[95m## Final Answer:\u001b[00m \u001b[92m\n",
      "# 1-Day Travel Itinerary for Paris: A Cultural and Artistic Journey\n",
      "\n",
      "## Trip Date: June 2025  \n",
      "**Weather Forecast**: Expect mild weather with temperatures ranging from 65°F to 75°F (18°C to 24°C). There may be occasional light rain, so it's advisable to be prepared.\n",
      "\n",
      "### Packing Suggestions:\n",
      "- Lightweight clothing (t-shirts, blouses)\n",
      "- A light jacket or cardigan for cooler evenings\n",
      "- Comfortable walking shoes (Paris is best explored on foot)\n",
      "- An umbrella or a rain jacket\n",
      "- A small backpack for daily essentials\n",
      "- A portable charger for your devices\n",
      "\n",
      "---\n",
      "\n",
      "## Detailed Itinerary\n",
      "\n",
      "### Morning\n",
      "\n",
      "**8:00 AM - Breakfast at Café de Flore**  \n",
      "- **Location**: 172 Boulevard Saint-Germain, 75006 Paris  \n",
      "- **Description**: Start your day with a classic Parisian breakfast of croissants and café au lait at this historic café. It’s a favorite among artists and writers.  \n",
      "- **Budget**: €15\n",
      "\n",
      "**9:30 AM - Visit The Louvre Museum**  \n",
      "- **Location**: Rue de Rivoli, 75001 Paris  \n",
      "- **Description**: Explore the world's largest art museum. Make sure to see the Mona Lisa and other masterpieces.  \n",
      "- **Tip**: Purchase a skip-the-line ticket in advance.  \n",
      "- **Budget**: €17 (skip-the-line ticket)\n",
      "\n",
      "### Midday\n",
      "\n",
      "**12:00 PM - Lunch at Le Marais**  \n",
      "- **Location**: 30 Rue des Rosiers, 75004 Paris  \n",
      "- **Restaurant**: L'As du Fallafel  \n",
      "- **Description**: Enjoy the best falafel in Paris at this famous spot in the Jewish Quarter.  \n",
      "- **Budget**: €10\n",
      "\n",
      "**1:30 PM - Explore Le Marais**  \n",
      "- **Description**: Stroll through this trendy neighborhood filled with art galleries and boutiques. Don’t miss the Picasso Museum.  \n",
      "- **Tip**: Check out the local art scene and perhaps buy a piece from a local artist.  \n",
      "- **Budget**: Free (Picasso Museum ticket: €14)\n",
      "\n",
      "### Afternoon\n",
      "\n",
      "**3:30 PM - Visit Musée d'Orsay**  \n",
      "- **Location**: 1 Rue de la Légion d'Honneur, 75007 Paris  \n",
      "- **Description**: Home to an extensive collection of Impressionist and Post-Impressionist masterpieces.  \n",
      "- **Tip**: Take a moment to admire the stunning clock face.  \n",
      "- **Budget**: €16\n",
      "\n",
      "**5:30 PM - Relax at Luxembourg Gardens**  \n",
      "- **Location**: Rue de Médicis - Rue de Vaugirard, 75006 Paris  \n",
      "- **Description**: Enjoy a peaceful stroll or relax on a bench in this beautiful park. Perfect for unwinding after a day of art exploration.  \n",
      "- **Budget**: Free\n",
      "\n",
      "### Evening\n",
      "\n",
      "**7:00 PM - Dinner at Le Procope**  \n",
      "- **Location**: 13 Rue de l'Ancienne Comédie, 75006 Paris  \n",
      "- **Description**: Dine at the oldest café in Paris, known for its historical significance and classic French cuisine.  \n",
      "- **Budget**: €30\n",
      "\n",
      "**9:00 PM - Visit Sacré-Cœur Basilica**  \n",
      "- **Location**: 35 Rue du Chevalier de la Barre, 75018 Paris  \n",
      "- **Description**: Climb to the top for breathtaking views of the city at sunset. The interior is equally stunning, making it a perfect end to your artistic day.  \n",
      "- **Budget**: Free\n",
      "\n",
      "---\n",
      "\n",
      "## Budget Breakdown\n",
      "| Item                        | Cost (€) |\n",
      "|-----------------------------|----------|\n",
      "| Breakfast at Café de Flore  | 15       |\n",
      "| Louvre Museum               | 17       |\n",
      "| Lunch at L'As du Fallafel   | 10       |\n",
      "| Picasso Museum              | 14       |\n",
      "| Musée d'Orsay               | 16       |\n",
      "| Luxembourg Gardens          | Free     |\n",
      "| Dinner at Le Procope       | 30       |\n",
      "| Sacré-Cœur Basilica         | Free     |\n",
      "| **Total**                   | **112**  |\n",
      "\n",
      "---\n",
      "\n",
      "## Conclusion\n",
      "This one-day itinerary in Paris is designed to immerse you in the city's rich artistic heritage while enjoying its culinary delights. From iconic museums to charming neighborhoods, each stop is carefully selected to ensure you experience the best of Paris. Enjoy your adventure in the City of Light!\u001b[00m\n",
      "\n",
      "\n"
     ]
    },
    {
     "data": {
      "text/html": [
       "<pre style=\"white-space:pre;overflow-x:auto;line-height:normal;font-family:Menlo,'DejaVu Sans Mono',consolas,'Courier New',monospace\"><span style=\"color: #008080; text-decoration-color: #008080; font-weight: bold\">🚀 Crew: crew</span>\n",
       "├── <span style=\"color: #008000; text-decoration-color: #008000; font-weight: bold\">📋 Task: a67c0889-dbd4-4cd0-b4a2-139873abe43f</span>\n",
       "│   <span style=\"color: #c0c0c0; text-decoration-color: #c0c0c0\">   Assigned to: </span><span style=\"color: #008000; text-decoration-color: #008000\">Local Expert at this city.</span>\n",
       "│   \n",
       "│   <span style=\"color: #c0c0c0; text-decoration-color: #c0c0c0\">   Status: </span><span style=\"color: #008000; text-decoration-color: #008000; font-weight: bold\">✅ Completed</span>\n",
       "│   └── <span style=\"color: #008000; text-decoration-color: #008000; font-weight: bold\">🤖 Agent: </span><span style=\"color: #008000; text-decoration-color: #008000\">Local Expert at this city.</span>\n",
       "│       \n",
       "│       <span style=\"color: #c0c0c0; text-decoration-color: #c0c0c0\">    Status: </span><span style=\"color: #008000; text-decoration-color: #008000; font-weight: bold\">✅ Completed</span>\n",
       "│       └── <span style=\"color: #008000; text-decoration-color: #008000; font-weight: bold\">🔧 </span><span style=\"color: #008000; text-decoration-color: #008000\">Used DuckDuckGo Search (1)</span>\n",
       "└── <span style=\"color: #808000; text-decoration-color: #808000; font-weight: bold\">📋 Task: 64742bbb-df23-484c-8810-26f03d3250ec</span>\n",
       "    <span style=\"color: #c0c0c0; text-decoration-color: #c0c0c0\">   Status: </span><span style=\"color: #bfbf7f; text-decoration-color: #bfbf7f\">Executing Task...</span>\n",
       "    └── <span style=\"color: #008000; text-decoration-color: #008000; font-weight: bold\">🤖 Agent: </span><span style=\"color: #008000; text-decoration-color: #008000\">Amazing Travel Concierge.</span>\n",
       "        \n",
       "        <span style=\"color: #c0c0c0; text-decoration-color: #c0c0c0\">    Status: </span><span style=\"color: #008000; text-decoration-color: #008000; font-weight: bold\">✅ Completed</span>\n",
       "</pre>\n"
      ],
      "text/plain": [
       "\u001b[1;36m🚀 Crew: \u001b[0m\u001b[1;36mcrew\u001b[0m\n",
       "├── \u001b[1;32m📋 Task: a67c0889-dbd4-4cd0-b4a2-139873abe43f\u001b[0m\n",
       "│   \u001b[37m   Assigned to: \u001b[0m\u001b[32mLocal Expert at this city.\u001b[0m\n",
       "│   \n",
       "│   \u001b[37m   Status: \u001b[0m\u001b[1;32m✅ Completed\u001b[0m\n",
       "│   └── \u001b[1;32m🤖 Agent: \u001b[0m\u001b[32mLocal Expert at this city.\u001b[0m\n",
       "│       \n",
       "│       \u001b[37m    Status: \u001b[0m\u001b[1;32m✅ Completed\u001b[0m\n",
       "│       └── \u001b[1;32m🔧 \u001b[0m\u001b[32mUsed DuckDuckGo Search (1)\u001b[0m\n",
       "└── \u001b[1;33m📋 Task: 64742bbb-df23-484c-8810-26f03d3250ec\u001b[0m\n",
       "    \u001b[37m   Status: \u001b[0m\u001b[2;33mExecuting Task...\u001b[0m\n",
       "    └── \u001b[1;32m🤖 Agent: \u001b[0m\u001b[32mAmazing Travel Concierge.\u001b[0m\n",
       "        \n",
       "        \u001b[37m    Status: \u001b[0m\u001b[1;32m✅ Completed\u001b[0m\n"
      ]
     },
     "metadata": {},
     "output_type": "display_data"
    },
    {
     "data": {
      "text/html": [
       "<pre style=\"white-space:pre;overflow-x:auto;line-height:normal;font-family:Menlo,'DejaVu Sans Mono',consolas,'Courier New',monospace\">\n",
       "</pre>\n"
      ],
      "text/plain": [
       "\n"
      ]
     },
     "metadata": {},
     "output_type": "display_data"
    },
    {
     "data": {
      "text/html": [
       "<pre style=\"white-space:pre;overflow-x:auto;line-height:normal;font-family:Menlo,'DejaVu Sans Mono',consolas,'Courier New',monospace\"><span style=\"color: #008080; text-decoration-color: #008080; font-weight: bold\">🚀 Crew: crew</span>\n",
       "├── <span style=\"color: #008000; text-decoration-color: #008000; font-weight: bold\">📋 Task: a67c0889-dbd4-4cd0-b4a2-139873abe43f</span>\n",
       "│   <span style=\"color: #c0c0c0; text-decoration-color: #c0c0c0\">   Assigned to: </span><span style=\"color: #008000; text-decoration-color: #008000\">Local Expert at this city.</span>\n",
       "│   \n",
       "│   <span style=\"color: #c0c0c0; text-decoration-color: #c0c0c0\">   Status: </span><span style=\"color: #008000; text-decoration-color: #008000; font-weight: bold\">✅ Completed</span>\n",
       "│   └── <span style=\"color: #008000; text-decoration-color: #008000; font-weight: bold\">🤖 Agent: </span><span style=\"color: #008000; text-decoration-color: #008000\">Local Expert at this city.</span>\n",
       "│       \n",
       "│       <span style=\"color: #c0c0c0; text-decoration-color: #c0c0c0\">    Status: </span><span style=\"color: #008000; text-decoration-color: #008000; font-weight: bold\">✅ Completed</span>\n",
       "│       └── <span style=\"color: #008000; text-decoration-color: #008000; font-weight: bold\">🔧 </span><span style=\"color: #008000; text-decoration-color: #008000\">Used DuckDuckGo Search (1)</span>\n",
       "└── <span style=\"color: #008000; text-decoration-color: #008000; font-weight: bold\">📋 Task: 64742bbb-df23-484c-8810-26f03d3250ec</span>\n",
       "    <span style=\"color: #c0c0c0; text-decoration-color: #c0c0c0\">   Assigned to: </span><span style=\"color: #008000; text-decoration-color: #008000\">Amazing Travel Concierge.</span>\n",
       "    \n",
       "    <span style=\"color: #c0c0c0; text-decoration-color: #c0c0c0\">   Status: </span><span style=\"color: #008000; text-decoration-color: #008000; font-weight: bold\">✅ Completed</span>\n",
       "    └── <span style=\"color: #008000; text-decoration-color: #008000; font-weight: bold\">🤖 Agent: </span><span style=\"color: #008000; text-decoration-color: #008000\">Amazing Travel Concierge.</span>\n",
       "        \n",
       "        <span style=\"color: #c0c0c0; text-decoration-color: #c0c0c0\">    Status: </span><span style=\"color: #008000; text-decoration-color: #008000; font-weight: bold\">✅ Completed</span>\n",
       "</pre>\n"
      ],
      "text/plain": [
       "\u001b[1;36m🚀 Crew: \u001b[0m\u001b[1;36mcrew\u001b[0m\n",
       "├── \u001b[1;32m📋 Task: a67c0889-dbd4-4cd0-b4a2-139873abe43f\u001b[0m\n",
       "│   \u001b[37m   Assigned to: \u001b[0m\u001b[32mLocal Expert at this city.\u001b[0m\n",
       "│   \n",
       "│   \u001b[37m   Status: \u001b[0m\u001b[1;32m✅ Completed\u001b[0m\n",
       "│   └── \u001b[1;32m🤖 Agent: \u001b[0m\u001b[32mLocal Expert at this city.\u001b[0m\n",
       "│       \n",
       "│       \u001b[37m    Status: \u001b[0m\u001b[1;32m✅ Completed\u001b[0m\n",
       "│       └── \u001b[1;32m🔧 \u001b[0m\u001b[32mUsed DuckDuckGo Search (1)\u001b[0m\n",
       "└── \u001b[1;32m📋 Task: 64742bbb-df23-484c-8810-26f03d3250ec\u001b[0m\n",
       "    \u001b[37m   Assigned to: \u001b[0m\u001b[32mAmazing Travel Concierge.\u001b[0m\n",
       "    \n",
       "    \u001b[37m   Status: \u001b[0m\u001b[1;32m✅ Completed\u001b[0m\n",
       "    └── \u001b[1;32m🤖 Agent: \u001b[0m\u001b[32mAmazing Travel Concierge.\u001b[0m\n",
       "        \n",
       "        \u001b[37m    Status: \u001b[0m\u001b[1;32m✅ Completed\u001b[0m\n"
      ]
     },
     "metadata": {},
     "output_type": "display_data"
    },
    {
     "data": {
      "text/html": [
       "<pre style=\"white-space:pre;overflow-x:auto;line-height:normal;font-family:Menlo,'DejaVu Sans Mono',consolas,'Courier New',monospace\"><span style=\"color: #008000; text-decoration-color: #008000\">╭──────────────────────────────────────────────── Task Completion ────────────────────────────────────────────────╮</span>\n",
       "<span style=\"color: #008000; text-decoration-color: #008000\">│</span>                                                                                                                 <span style=\"color: #008000; text-decoration-color: #008000\">│</span>\n",
       "<span style=\"color: #008000; text-decoration-color: #008000\">│</span>  <span style=\"color: #008000; text-decoration-color: #008000; font-weight: bold\">Task Completed</span>                                                                                                 <span style=\"color: #008000; text-decoration-color: #008000\">│</span>\n",
       "<span style=\"color: #008000; text-decoration-color: #008000\">│</span>  <span style=\"color: #c0c0c0; text-decoration-color: #c0c0c0\">Name: </span><span style=\"color: #008000; text-decoration-color: #008000\">64742bbb-df23-484c-8810-26f03d3250ec</span>                                                                     <span style=\"color: #008000; text-decoration-color: #008000\">│</span>\n",
       "<span style=\"color: #008000; text-decoration-color: #008000\">│</span>  <span style=\"color: #c0c0c0; text-decoration-color: #c0c0c0\">Agent: </span><span style=\"color: #008000; text-decoration-color: #008000\">Amazing Travel Concierge.</span>                                                                               <span style=\"color: #008000; text-decoration-color: #008000\">│</span>\n",
       "<span style=\"color: #008000; text-decoration-color: #008000\">│</span>                                                                                                                 <span style=\"color: #008000; text-decoration-color: #008000\">│</span>\n",
       "<span style=\"color: #008000; text-decoration-color: #008000\">│</span>                                                                                                                 <span style=\"color: #008000; text-decoration-color: #008000\">│</span>\n",
       "<span style=\"color: #008000; text-decoration-color: #008000\">│</span>                                                                                                                 <span style=\"color: #008000; text-decoration-color: #008000\">│</span>\n",
       "<span style=\"color: #008000; text-decoration-color: #008000\">╰─────────────────────────────────────────────────────────────────────────────────────────────────────────────────╯</span>\n",
       "</pre>\n"
      ],
      "text/plain": [
       "\u001b[32m╭─\u001b[0m\u001b[32m───────────────────────────────────────────────\u001b[0m\u001b[32m Task Completion \u001b[0m\u001b[32m───────────────────────────────────────────────\u001b[0m\u001b[32m─╮\u001b[0m\n",
       "\u001b[32m│\u001b[0m                                                                                                                 \u001b[32m│\u001b[0m\n",
       "\u001b[32m│\u001b[0m  \u001b[1;32mTask Completed\u001b[0m                                                                                                 \u001b[32m│\u001b[0m\n",
       "\u001b[32m│\u001b[0m  \u001b[37mName: \u001b[0m\u001b[32m64742bbb-df23-484c-8810-26f03d3250ec\u001b[0m                                                                     \u001b[32m│\u001b[0m\n",
       "\u001b[32m│\u001b[0m  \u001b[37mAgent: \u001b[0m\u001b[32mAmazing Travel Concierge.\u001b[0m                                                                               \u001b[32m│\u001b[0m\n",
       "\u001b[32m│\u001b[0m                                                                                                                 \u001b[32m│\u001b[0m\n",
       "\u001b[32m│\u001b[0m                                                                                                                 \u001b[32m│\u001b[0m\n",
       "\u001b[32m│\u001b[0m                                                                                                                 \u001b[32m│\u001b[0m\n",
       "\u001b[32m╰─────────────────────────────────────────────────────────────────────────────────────────────────────────────────╯\u001b[0m\n"
      ]
     },
     "metadata": {},
     "output_type": "display_data"
    },
    {
     "data": {
      "text/html": [
       "<pre style=\"white-space:pre;overflow-x:auto;line-height:normal;font-family:Menlo,'DejaVu Sans Mono',consolas,'Courier New',monospace\">\n",
       "</pre>\n"
      ],
      "text/plain": [
       "\n"
      ]
     },
     "metadata": {},
     "output_type": "display_data"
    },
    {
     "data": {
      "text/html": [
       "<pre style=\"white-space:pre;overflow-x:auto;line-height:normal;font-family:Menlo,'DejaVu Sans Mono',consolas,'Courier New',monospace\"><span style=\"color: #008000; text-decoration-color: #008000\">╭──────────────────────────────────────────────── Crew Completion ────────────────────────────────────────────────╮</span>\n",
       "<span style=\"color: #008000; text-decoration-color: #008000\">│</span>                                                                                                                 <span style=\"color: #008000; text-decoration-color: #008000\">│</span>\n",
       "<span style=\"color: #008000; text-decoration-color: #008000\">│</span>  <span style=\"color: #008000; text-decoration-color: #008000; font-weight: bold\">Crew Execution Completed</span>                                                                                       <span style=\"color: #008000; text-decoration-color: #008000\">│</span>\n",
       "<span style=\"color: #008000; text-decoration-color: #008000\">│</span>  <span style=\"color: #c0c0c0; text-decoration-color: #c0c0c0\">Name: </span><span style=\"color: #008000; text-decoration-color: #008000\">crew</span>                                                                                                     <span style=\"color: #008000; text-decoration-color: #008000\">│</span>\n",
       "<span style=\"color: #008000; text-decoration-color: #008000\">│</span>  <span style=\"color: #c0c0c0; text-decoration-color: #c0c0c0\">ID: </span><span style=\"color: #008000; text-decoration-color: #008000\">d86343f3-5908-47e5-8f61-1bf1fc7ae78d</span>                                                                       <span style=\"color: #008000; text-decoration-color: #008000\">│</span>\n",
       "<span style=\"color: #008000; text-decoration-color: #008000\">│</span>                                                                                                                 <span style=\"color: #008000; text-decoration-color: #008000\">│</span>\n",
       "<span style=\"color: #008000; text-decoration-color: #008000\">│</span>                                                                                                                 <span style=\"color: #008000; text-decoration-color: #008000\">│</span>\n",
       "<span style=\"color: #008000; text-decoration-color: #008000\">╰─────────────────────────────────────────────────────────────────────────────────────────────────────────────────╯</span>\n",
       "</pre>\n"
      ],
      "text/plain": [
       "\u001b[32m╭─\u001b[0m\u001b[32m───────────────────────────────────────────────\u001b[0m\u001b[32m Crew Completion \u001b[0m\u001b[32m───────────────────────────────────────────────\u001b[0m\u001b[32m─╮\u001b[0m\n",
       "\u001b[32m│\u001b[0m                                                                                                                 \u001b[32m│\u001b[0m\n",
       "\u001b[32m│\u001b[0m  \u001b[1;32mCrew Execution Completed\u001b[0m                                                                                       \u001b[32m│\u001b[0m\n",
       "\u001b[32m│\u001b[0m  \u001b[37mName: \u001b[0m\u001b[32mcrew\u001b[0m                                                                                                     \u001b[32m│\u001b[0m\n",
       "\u001b[32m│\u001b[0m  \u001b[37mID: \u001b[0m\u001b[32md86343f3-5908-47e5-8f61-1bf1fc7ae78d\u001b[0m                                                                       \u001b[32m│\u001b[0m\n",
       "\u001b[32m│\u001b[0m                                                                                                                 \u001b[32m│\u001b[0m\n",
       "\u001b[32m│\u001b[0m                                                                                                                 \u001b[32m│\u001b[0m\n",
       "\u001b[32m╰─────────────────────────────────────────────────────────────────────────────────────────────────────────────────╯\u001b[0m\n"
      ]
     },
     "metadata": {},
     "output_type": "display_data"
    },
    {
     "data": {
      "text/html": [
       "<pre style=\"white-space:pre;overflow-x:auto;line-height:normal;font-family:Menlo,'DejaVu Sans Mono',consolas,'Courier New',monospace\">\n",
       "</pre>\n"
      ],
      "text/plain": [
       "\n"
      ]
     },
     "metadata": {},
     "output_type": "display_data"
    },
    {
     "data": {
      "text/plain": [
       "CrewOutput(raw=\"# 1-Day Travel Itinerary for Paris: A Cultural and Artistic Journey\\n\\n## Trip Date: June 2025  \\n**Weather Forecast**: Expect mild weather with temperatures ranging from 65°F to 75°F (18°C to 24°C). There may be occasional light rain, so it's advisable to be prepared.\\n\\n### Packing Suggestions:\\n- Lightweight clothing (t-shirts, blouses)\\n- A light jacket or cardigan for cooler evenings\\n- Comfortable walking shoes (Paris is best explored on foot)\\n- An umbrella or a rain jacket\\n- A small backpack for daily essentials\\n- A portable charger for your devices\\n\\n---\\n\\n## Detailed Itinerary\\n\\n### Morning\\n\\n**8:00 AM - Breakfast at Café de Flore**  \\n- **Location**: 172 Boulevard Saint-Germain, 75006 Paris  \\n- **Description**: Start your day with a classic Parisian breakfast of croissants and café au lait at this historic café. It’s a favorite among artists and writers.  \\n- **Budget**: €15\\n\\n**9:30 AM - Visit The Louvre Museum**  \\n- **Location**: Rue de Rivoli, 75001 Paris  \\n- **Description**: Explore the world's largest art museum. Make sure to see the Mona Lisa and other masterpieces.  \\n- **Tip**: Purchase a skip-the-line ticket in advance.  \\n- **Budget**: €17 (skip-the-line ticket)\\n\\n### Midday\\n\\n**12:00 PM - Lunch at Le Marais**  \\n- **Location**: 30 Rue des Rosiers, 75004 Paris  \\n- **Restaurant**: L'As du Fallafel  \\n- **Description**: Enjoy the best falafel in Paris at this famous spot in the Jewish Quarter.  \\n- **Budget**: €10\\n\\n**1:30 PM - Explore Le Marais**  \\n- **Description**: Stroll through this trendy neighborhood filled with art galleries and boutiques. Don’t miss the Picasso Museum.  \\n- **Tip**: Check out the local art scene and perhaps buy a piece from a local artist.  \\n- **Budget**: Free (Picasso Museum ticket: €14)\\n\\n### Afternoon\\n\\n**3:30 PM - Visit Musée d'Orsay**  \\n- **Location**: 1 Rue de la Légion d'Honneur, 75007 Paris  \\n- **Description**: Home to an extensive collection of Impressionist and Post-Impressionist masterpieces.  \\n- **Tip**: Take a moment to admire the stunning clock face.  \\n- **Budget**: €16\\n\\n**5:30 PM - Relax at Luxembourg Gardens**  \\n- **Location**: Rue de Médicis - Rue de Vaugirard, 75006 Paris  \\n- **Description**: Enjoy a peaceful stroll or relax on a bench in this beautiful park. Perfect for unwinding after a day of art exploration.  \\n- **Budget**: Free\\n\\n### Evening\\n\\n**7:00 PM - Dinner at Le Procope**  \\n- **Location**: 13 Rue de l'Ancienne Comédie, 75006 Paris  \\n- **Description**: Dine at the oldest café in Paris, known for its historical significance and classic French cuisine.  \\n- **Budget**: €30\\n\\n**9:00 PM - Visit Sacré-Cœur Basilica**  \\n- **Location**: 35 Rue du Chevalier de la Barre, 75018 Paris  \\n- **Description**: Climb to the top for breathtaking views of the city at sunset. The interior is equally stunning, making it a perfect end to your artistic day.  \\n- **Budget**: Free\\n\\n---\\n\\n## Budget Breakdown\\n| Item                        | Cost (€) |\\n|-----------------------------|----------|\\n| Breakfast at Café de Flore  | 15       |\\n| Louvre Museum               | 17       |\\n| Lunch at L'As du Fallafel   | 10       |\\n| Picasso Museum              | 14       |\\n| Musée d'Orsay               | 16       |\\n| Luxembourg Gardens          | Free     |\\n| Dinner at Le Procope       | 30       |\\n| Sacré-Cœur Basilica         | Free     |\\n| **Total**                   | **112**  |\\n\\n---\\n\\n## Conclusion\\nThis one-day itinerary in Paris is designed to immerse you in the city's rich artistic heritage while enjoying its culinary delights. From iconic museums to charming neighborhoods, each stop is carefully selected to ensure you experience the best of Paris. Enjoy your adventure in the City of Light!\", pydantic=None, json_dict=None, tasks_output=[TaskOutput(description='I want you to create a comprehensive city guide. This guide should provide a thorough overview of what the city has to offer, including hidden gems, cultural hotspots, and must-visit landmarks.\\nTrip Date: June 2025 Traveling from: San Francisco Traveling to: Paris Traveler Interests: art\\n', name='gather_task', expected_output='The final answer must be a comprehensive city guide, rich in cultural insights and practical tips, tailored to enhance the travel experience.\\n', summary='I want you to create a comprehensive city guide. This...', raw=\"# Comprehensive City Guide to Paris: A Cultural and Artistic Journey\\n\\n## Introduction\\nWelcome to Paris, the City of Light, renowned for its rich history, stunning architecture, and vibrant art scene. This guide will help you navigate through the cultural hotspots, must-visit landmarks, and hidden gems that make Paris a unique destination for art lovers.\\n\\n## Must-Visit Landmarks\\n\\n### 1. The Louvre Museum\\n- **Description**: Home to thousands of works of art, including the Mona Lisa and the Venus de Milo, the Louvre is the world's largest art museum and a historic monument.\\n- **Tip**: Visit early in the morning or late in the afternoon to avoid crowds. Consider purchasing a skip-the-line ticket.\\n\\n### 2. Musée d'Orsay\\n- **Description**: Housed in a former railway station, this museum holds the largest collection of impressionist and post-impressionist masterpieces in the world.\\n- **Tip**: Don't miss the stunning clock face that offers a unique view of the Seine River.\\n\\n### 3. Sacré-Cœur Basilica\\n- **Description**: Located at the highest point in the city, this basilica offers breathtaking views of Paris and features a stunning interior.\\n- **Tip**: Visit during sunset for a magical experience.\\n\\n## Cultural Hotspots\\n\\n### 1. Montmartre\\n- **Description**: This historic district is known for its bohemian past and was once home to artists like Picasso and Van Gogh. Explore the cobblestone streets and visit the art studios.\\n- **Tip**: Check out Place du Tertre, where local artists display their work.\\n\\n### 2. Le Marais\\n- **Description**: A trendy neighborhood filled with art galleries, boutiques, and cafes. It's also home to the Picasso Museum.\\n- **Tip**: Visit the Jewish Quarter for delicious falafel and pastries.\\n\\n### 3. Saint-Germain-des-Prés\\n- **Description**: Known for its literary history, this area is dotted with famous cafés like Café de Flore and Les Deux Magots, where writers and philosophers once gathered.\\n- **Tip**: Explore the nearby Luxembourg Gardens for a peaceful retreat.\\n\\n## Hidden Gems\\n\\n### 1. 59 Rivoli\\n- **Description**: Once an illegal artist squat, this space is now a contemporary art gallery and studio housing 30 artists. It's a free exhibit and a fantastic place to discover new talent.\\n- **Tip**: Visit on weekends for live concerts and art events.\\n\\n### 2. The Catacombs of Paris\\n- **Description**: A haunting underground ossuary that holds the remains of over six million people. It offers a unique glimpse into the city's history.\\n- **Tip**: Book tickets in advance to avoid long lines.\\n\\n### 3. Parc des Buttes-Chaumont\\n- **Description**: A lesser-known park that features cliffs, waterfalls, and a temple. It's a perfect spot for a picnic away from the tourist crowds.\\n- **Tip**: Bring a book and enjoy the serene atmosphere.\\n\\n## Practical Tips\\n- **Transportation**: Use the Paris Métro for easy access to all major attractions. Consider getting a Paris Visite pass for unlimited travel.\\n- **Language**: While many Parisians speak English, learning a few basic French phrases can enhance your experience.\\n- **Cuisine**: Don't miss trying local delicacies like croissants, escargots, and macarons. Visit local markets for fresh produce and artisanal goods.\\n\\n## Conclusion\\nParis is a city that captivates with its art, culture, and history. Whether you're exploring iconic landmarks or uncovering hidden gems, this city promises an unforgettable experience for art enthusiasts. Embrace the charm of Paris, and let its artistic spirit inspire you on your journey.\", pydantic=None, json_dict=None, agent='Local Expert at this city.\\n', output_format=<OutputFormat.RAW: 'raw'>), TaskOutput(description='Expand this guide into a a full 1-day travel itinerary with detailed per-day plans, including weather forecasts, places to eat, packing suggestions, and a budget breakdown.\\nYou MUST suggest actual places to visit, actual hotels to stay and actual restaurants to go to.\\nTrip Date: June 2025 Traveling from: San Francisco Traveling to: Paris Traveler Interests: art\\n', name='plan_task', expected_output='Your final answer MUST be a complete expanded travel plan, formatted as markdown, encompassing a daily schedule, anticipated weather conditions, recommended clothing and items to pack, and a detailed budget, ensuring THE BEST TRIP EVER, Be specific and give it a reason why you picked.', summary='Expand this guide into a a full 1-day travel itinerary...', raw=\"# 1-Day Travel Itinerary for Paris: A Cultural and Artistic Journey\\n\\n## Trip Date: June 2025  \\n**Weather Forecast**: Expect mild weather with temperatures ranging from 65°F to 75°F (18°C to 24°C). There may be occasional light rain, so it's advisable to be prepared.\\n\\n### Packing Suggestions:\\n- Lightweight clothing (t-shirts, blouses)\\n- A light jacket or cardigan for cooler evenings\\n- Comfortable walking shoes (Paris is best explored on foot)\\n- An umbrella or a rain jacket\\n- A small backpack for daily essentials\\n- A portable charger for your devices\\n\\n---\\n\\n## Detailed Itinerary\\n\\n### Morning\\n\\n**8:00 AM - Breakfast at Café de Flore**  \\n- **Location**: 172 Boulevard Saint-Germain, 75006 Paris  \\n- **Description**: Start your day with a classic Parisian breakfast of croissants and café au lait at this historic café. It’s a favorite among artists and writers.  \\n- **Budget**: €15\\n\\n**9:30 AM - Visit The Louvre Museum**  \\n- **Location**: Rue de Rivoli, 75001 Paris  \\n- **Description**: Explore the world's largest art museum. Make sure to see the Mona Lisa and other masterpieces.  \\n- **Tip**: Purchase a skip-the-line ticket in advance.  \\n- **Budget**: €17 (skip-the-line ticket)\\n\\n### Midday\\n\\n**12:00 PM - Lunch at Le Marais**  \\n- **Location**: 30 Rue des Rosiers, 75004 Paris  \\n- **Restaurant**: L'As du Fallafel  \\n- **Description**: Enjoy the best falafel in Paris at this famous spot in the Jewish Quarter.  \\n- **Budget**: €10\\n\\n**1:30 PM - Explore Le Marais**  \\n- **Description**: Stroll through this trendy neighborhood filled with art galleries and boutiques. Don’t miss the Picasso Museum.  \\n- **Tip**: Check out the local art scene and perhaps buy a piece from a local artist.  \\n- **Budget**: Free (Picasso Museum ticket: €14)\\n\\n### Afternoon\\n\\n**3:30 PM - Visit Musée d'Orsay**  \\n- **Location**: 1 Rue de la Légion d'Honneur, 75007 Paris  \\n- **Description**: Home to an extensive collection of Impressionist and Post-Impressionist masterpieces.  \\n- **Tip**: Take a moment to admire the stunning clock face.  \\n- **Budget**: €16\\n\\n**5:30 PM - Relax at Luxembourg Gardens**  \\n- **Location**: Rue de Médicis - Rue de Vaugirard, 75006 Paris  \\n- **Description**: Enjoy a peaceful stroll or relax on a bench in this beautiful park. Perfect for unwinding after a day of art exploration.  \\n- **Budget**: Free\\n\\n### Evening\\n\\n**7:00 PM - Dinner at Le Procope**  \\n- **Location**: 13 Rue de l'Ancienne Comédie, 75006 Paris  \\n- **Description**: Dine at the oldest café in Paris, known for its historical significance and classic French cuisine.  \\n- **Budget**: €30\\n\\n**9:00 PM - Visit Sacré-Cœur Basilica**  \\n- **Location**: 35 Rue du Chevalier de la Barre, 75018 Paris  \\n- **Description**: Climb to the top for breathtaking views of the city at sunset. The interior is equally stunning, making it a perfect end to your artistic day.  \\n- **Budget**: Free\\n\\n---\\n\\n## Budget Breakdown\\n| Item                        | Cost (€) |\\n|-----------------------------|----------|\\n| Breakfast at Café de Flore  | 15       |\\n| Louvre Museum               | 17       |\\n| Lunch at L'As du Fallafel   | 10       |\\n| Picasso Museum              | 14       |\\n| Musée d'Orsay               | 16       |\\n| Luxembourg Gardens          | Free     |\\n| Dinner at Le Procope       | 30       |\\n| Sacré-Cœur Basilica         | Free     |\\n| **Total**                   | **112**  |\\n\\n---\\n\\n## Conclusion\\nThis one-day itinerary in Paris is designed to immerse you in the city's rich artistic heritage while enjoying its culinary delights. From iconic museums to charming neighborhoods, each stop is carefully selected to ensure you experience the best of Paris. Enjoy your adventure in the City of Light!\", pydantic=None, json_dict=None, agent='Amazing Travel Concierge.\\n', output_format=<OutputFormat.RAW: 'raw'>)], token_usage=UsageMetrics(total_tokens=4071, prompt_tokens=2290, cached_prompt_tokens=0, completion_tokens=1781, successful_requests=3))"
      ]
     },
     "execution_count": 2,
     "metadata": {},
     "output_type": "execute_result"
    }
   ],
   "source": [
    "from crew import TripAdvisorCrew\n",
    "\n",
    "TripAdvisorCrew().crew().kickoff(inputs={\n",
    "    \"range\": \"June 2025\",\n",
    "    \"origin\": \"San Francisco\",\n",
    "    \"city\": \"Paris\",\n",
    "    \"interests\": \"art\",\n",
    "})"
   ]
  },
  {
   "cell_type": "markdown",
   "id": "ce6bf955-0c0a-4e3e-8ead-d5745d097e38",
   "metadata": {},
   "source": [
    "# References\n",
    "\n",
    "https://github.com/sinanuozdemir/oreilly-ai-agents/blob/main/notebooks/CrewAI_Hello_World.ipynb+\n",
    "\n",
    "https://github.com/joaomdmoura/crewAI-examples/tree/main/job-posting\n",
    "\n",
    "https://github.com/crewAIInc/crewAI-examples/tree/main/surprise_trip"
   ]
  }
 ],
 "metadata": {
  "kernelspec": {
   "display_name": "Python 3 (ipykernel)",
   "language": "python",
   "name": "python3"
  },
  "language_info": {
   "codemirror_mode": {
    "name": "ipython",
    "version": 3
   },
   "file_extension": ".py",
   "mimetype": "text/x-python",
   "name": "python",
   "nbconvert_exporter": "python",
   "pygments_lexer": "ipython3",
   "version": "3.11.10"
  }
 },
 "nbformat": 4,
 "nbformat_minor": 5
}
